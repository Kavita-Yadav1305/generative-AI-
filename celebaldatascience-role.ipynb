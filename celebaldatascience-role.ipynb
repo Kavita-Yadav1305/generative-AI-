{
 "cells": [
  {
   "cell_type": "code",
   "execution_count": 1,
   "id": "cf076928",
   "metadata": {
    "_cell_guid": "b1076dfc-b9ad-4769-8c92-a6c4dae69d19",
    "_uuid": "8f2839f25d086af736a60e9eeb907d3b93b6e0e5",
    "execution": {
     "iopub.execute_input": "2025-08-19T17:00:32.547683Z",
     "iopub.status.busy": "2025-08-19T17:00:32.547251Z",
     "iopub.status.idle": "2025-08-19T17:00:34.541452Z",
     "shell.execute_reply": "2025-08-19T17:00:34.540350Z"
    },
    "papermill": {
     "duration": 2.006477,
     "end_time": "2025-08-19T17:00:34.543065",
     "exception": false,
     "start_time": "2025-08-19T17:00:32.536588",
     "status": "completed"
    },
    "tags": []
   },
   "outputs": [
    {
     "name": "stdout",
     "output_type": "stream",
     "text": [
      "/kaggle/input/ch-26-mnit-jaipur/train.parquet\n",
      "/kaggle/input/ch-26-mnit-jaipur/sample_submission.parquet\n",
      "/kaggle/input/ch-26-mnit-jaipur/test.parquet\n"
     ]
    }
   ],
   "source": [
    "# This Python 3 environment comes with many helpful analytics libraries installed\n",
    "# It is defined by the kaggle/python Docker image: https://github.com/kaggle/docker-python\n",
    "# For example, here's several helpful packages to load\n",
    "\n",
    "import numpy as np # linear algebra\n",
    "import pandas as pd # data processing, CSV file I/O (e.g. pd.read_csv)\n",
    "\n",
    "# Input data files are available in the read-only \"../input/\" directory\n",
    "# For example, running this (by clicking run or pressing Shift+Enter) will list all files under the input directory\n",
    "\n",
    "import os\n",
    "for dirname, _, filenames in os.walk('/kaggle/input'):\n",
    "    for filename in filenames:\n",
    "        print(os.path.join(dirname, filename))\n",
    "# /kaggle/input/ch-26-mnit-jaipur/train.parquet\n",
    "# /kaggle/input/ch-26-mnit-jaipur/sample_submission.parquet\n",
    "# /kaggle/input/ch-26-mnit-jaipur/test.parquet\n",
    "# You can write up to 20GB to the current directory (/kaggle/working/) that gets preserved as output when you create a version using \"Save & Run All\" \n",
    "# You can also write temporary files to /kaggle/temp/, but they won't be saved outside of the current session"
   ]
  },
  {
   "cell_type": "code",
   "execution_count": 2,
   "id": "5fa9fe9c",
   "metadata": {
    "execution": {
     "iopub.execute_input": "2025-08-19T17:00:34.558413Z",
     "iopub.status.busy": "2025-08-19T17:00:34.557755Z",
     "iopub.status.idle": "2025-08-19T17:00:46.260901Z",
     "shell.execute_reply": "2025-08-19T17:00:46.259832Z"
    },
    "papermill": {
     "duration": 11.712585,
     "end_time": "2025-08-19T17:00:46.262880",
     "exception": false,
     "start_time": "2025-08-19T17:00:34.550295",
     "status": "completed"
    },
    "tags": []
   },
   "outputs": [
    {
     "name": "stdout",
     "output_type": "stream",
     "text": [
      "Found existing installation: scikit-learn 1.2.2\r\n",
      "Uninstalling scikit-learn-1.2.2:\r\n",
      "  Successfully uninstalled scikit-learn-1.2.2\r\n",
      "Found existing installation: imbalanced-learn 0.13.0\r\n",
      "Uninstalling imbalanced-learn-0.13.0:\r\n",
      "  Successfully uninstalled imbalanced-learn-0.13.0\r\n",
      "Collecting scikit-learn==1.2.2\r\n",
      "  Downloading scikit_learn-1.2.2-cp311-cp311-manylinux_2_17_x86_64.manylinux2014_x86_64.whl.metadata (11 kB)\r\n",
      "Collecting imbalanced-learn==0.10.1\r\n",
      "  Downloading imbalanced_learn-0.10.1-py3-none-any.whl.metadata (8.2 kB)\r\n",
      "Requirement already satisfied: numpy>=1.17.3 in /usr/local/lib/python3.11/dist-packages (from scikit-learn==1.2.2) (1.26.4)\r\n",
      "Requirement already satisfied: scipy>=1.3.2 in /usr/local/lib/python3.11/dist-packages (from scikit-learn==1.2.2) (1.15.3)\r\n",
      "Requirement already satisfied: joblib>=1.1.1 in /usr/local/lib/python3.11/dist-packages (from scikit-learn==1.2.2) (1.5.1)\r\n",
      "Requirement already satisfied: threadpoolctl>=2.0.0 in /usr/local/lib/python3.11/dist-packages (from scikit-learn==1.2.2) (3.6.0)\r\n",
      "Requirement already satisfied: mkl_fft in /usr/local/lib/python3.11/dist-packages (from numpy>=1.17.3->scikit-learn==1.2.2) (1.3.8)\r\n",
      "Requirement already satisfied: mkl_random in /usr/local/lib/python3.11/dist-packages (from numpy>=1.17.3->scikit-learn==1.2.2) (1.2.4)\r\n",
      "Requirement already satisfied: mkl_umath in /usr/local/lib/python3.11/dist-packages (from numpy>=1.17.3->scikit-learn==1.2.2) (0.1.1)\r\n",
      "Requirement already satisfied: mkl in /usr/local/lib/python3.11/dist-packages (from numpy>=1.17.3->scikit-learn==1.2.2) (2025.2.0)\r\n",
      "Requirement already satisfied: tbb4py in /usr/local/lib/python3.11/dist-packages (from numpy>=1.17.3->scikit-learn==1.2.2) (2022.2.0)\r\n",
      "Requirement already satisfied: mkl-service in /usr/local/lib/python3.11/dist-packages (from numpy>=1.17.3->scikit-learn==1.2.2) (2.4.1)\r\n",
      "Requirement already satisfied: intel-openmp<2026,>=2024 in /usr/local/lib/python3.11/dist-packages (from mkl->numpy>=1.17.3->scikit-learn==1.2.2) (2024.2.0)\r\n",
      "Requirement already satisfied: tbb==2022.* in /usr/local/lib/python3.11/dist-packages (from mkl->numpy>=1.17.3->scikit-learn==1.2.2) (2022.2.0)\r\n",
      "Requirement already satisfied: tcmlib==1.* in /usr/local/lib/python3.11/dist-packages (from tbb==2022.*->mkl->numpy>=1.17.3->scikit-learn==1.2.2) (1.4.0)\r\n",
      "Requirement already satisfied: intel-cmplr-lib-rt in /usr/local/lib/python3.11/dist-packages (from mkl_umath->numpy>=1.17.3->scikit-learn==1.2.2) (2024.2.0)\r\n",
      "Requirement already satisfied: intel-cmplr-lib-ur==2024.2.0 in /usr/local/lib/python3.11/dist-packages (from intel-openmp<2026,>=2024->mkl->numpy>=1.17.3->scikit-learn==1.2.2) (2024.2.0)\r\n",
      "Downloading scikit_learn-1.2.2-cp311-cp311-manylinux_2_17_x86_64.manylinux2014_x86_64.whl (9.6 MB)\r\n",
      "\u001b[2K   \u001b[90m━━━━━━━━━━━━━━━━━━━━━━━━━━━━━━━━━━━━━━━━\u001b[0m \u001b[32m9.6/9.6 MB\u001b[0m \u001b[31m172.9 MB/s\u001b[0m eta \u001b[36m0:00:00\u001b[0m\r\n",
      "\u001b[?25hDownloading imbalanced_learn-0.10.1-py3-none-any.whl (226 kB)\r\n",
      "\u001b[2K   \u001b[90m━━━━━━━━━━━━━━━━━━━━━━━━━━━━━━━━━━━━━━━\u001b[0m \u001b[32m226.0/226.0 kB\u001b[0m \u001b[31m239.1 MB/s\u001b[0m eta \u001b[36m0:00:00\u001b[0m\r\n",
      "\u001b[?25hInstalling collected packages: scikit-learn, imbalanced-learn\r\n",
      "\u001b[31mERROR: pip's dependency resolver does not currently take into account all the packages that are installed. This behaviour is the source of the following dependency conflicts.\r\n",
      "cesium 0.12.4 requires numpy<3.0,>=2.0, but you have numpy 1.26.4 which is incompatible.\r\n",
      "mlxtend 0.23.4 requires scikit-learn>=1.3.1, but you have scikit-learn 1.2.2 which is incompatible.\u001b[0m\u001b[31m\r\n",
      "\u001b[0mSuccessfully installed imbalanced-learn-0.10.1 scikit-learn-1.2.2\r\n"
     ]
    }
   ],
   "source": [
    "!pip uninstall -y scikit-learn imbalanced-learn\n",
    "!pip install --no-cache-dir scikit-learn==1.2.2 imbalanced-learn==0.10.1\n",
    "\n"
   ]
  },
  {
   "cell_type": "code",
   "execution_count": 3,
   "id": "00e6d683",
   "metadata": {
    "execution": {
     "iopub.execute_input": "2025-08-19T17:00:46.279043Z",
     "iopub.status.busy": "2025-08-19T17:00:46.278713Z",
     "iopub.status.idle": "2025-08-19T17:00:48.055049Z",
     "shell.execute_reply": "2025-08-19T17:00:48.053843Z"
    },
    "papermill": {
     "duration": 1.786571,
     "end_time": "2025-08-19T17:00:48.056785",
     "exception": false,
     "start_time": "2025-08-19T17:00:46.270214",
     "status": "completed"
    },
    "tags": []
   },
   "outputs": [
    {
     "name": "stdout",
     "output_type": "stream",
     "text": [
      "scikit-learn version: 1.2.2\n",
      "imbalanced-learn version: 0.10.1\n"
     ]
    }
   ],
   "source": [
    "import sklearn\n",
    "import imblearn\n",
    "print(\"scikit-learn version:\", sklearn.__version__)\n",
    "print(\"imbalanced-learn version:\", imblearn.__version__)\n"
   ]
  },
  {
   "cell_type": "code",
   "execution_count": 4,
   "id": "0c29adc6",
   "metadata": {
    "execution": {
     "iopub.execute_input": "2025-08-19T17:00:48.073450Z",
     "iopub.status.busy": "2025-08-19T17:00:48.072992Z",
     "iopub.status.idle": "2025-08-19T17:00:48.629946Z",
     "shell.execute_reply": "2025-08-19T17:00:48.628845Z"
    },
    "papermill": {
     "duration": 0.567488,
     "end_time": "2025-08-19T17:00:48.631669",
     "exception": false,
     "start_time": "2025-08-19T17:00:48.064181",
     "status": "completed"
    },
    "tags": []
   },
   "outputs": [
    {
     "data": {
      "text/html": [
       "<div>\n",
       "<style scoped>\n",
       "    .dataframe tbody tr th:only-of-type {\n",
       "        vertical-align: middle;\n",
       "    }\n",
       "\n",
       "    .dataframe tbody tr th {\n",
       "        vertical-align: top;\n",
       "    }\n",
       "\n",
       "    .dataframe thead th {\n",
       "        text-align: right;\n",
       "    }\n",
       "</style>\n",
       "<table border=\"1\" class=\"dataframe\">\n",
       "  <thead>\n",
       "    <tr style=\"text-align: right;\">\n",
       "      <th></th>\n",
       "      <th>Date</th>\n",
       "      <th>X1</th>\n",
       "      <th>X2</th>\n",
       "      <th>X3</th>\n",
       "      <th>X4</th>\n",
       "      <th>X5</th>\n",
       "      <th>target</th>\n",
       "    </tr>\n",
       "  </thead>\n",
       "  <tbody>\n",
       "    <tr>\n",
       "      <th>0</th>\n",
       "      <td>2020-12-16</td>\n",
       "      <td>1.518921</td>\n",
       "      <td>5.463154</td>\n",
       "      <td>1.0</td>\n",
       "      <td>2.718282</td>\n",
       "      <td>2.890372</td>\n",
       "      <td>0</td>\n",
       "    </tr>\n",
       "    <tr>\n",
       "      <th>1</th>\n",
       "      <td>2020-12-16</td>\n",
       "      <td>1.546509</td>\n",
       "      <td>5.458010</td>\n",
       "      <td>1.0</td>\n",
       "      <td>2.718282</td>\n",
       "      <td>2.833213</td>\n",
       "      <td>1</td>\n",
       "    </tr>\n",
       "    <tr>\n",
       "      <th>2</th>\n",
       "      <td>2020-12-16</td>\n",
       "      <td>1.645427</td>\n",
       "      <td>5.456560</td>\n",
       "      <td>1.0</td>\n",
       "      <td>7.389056</td>\n",
       "      <td>2.890372</td>\n",
       "      <td>1</td>\n",
       "    </tr>\n",
       "    <tr>\n",
       "      <th>3</th>\n",
       "      <td>2020-12-16</td>\n",
       "      <td>1.652022</td>\n",
       "      <td>5.458479</td>\n",
       "      <td>1.0</td>\n",
       "      <td>2.718282</td>\n",
       "      <td>2.890372</td>\n",
       "      <td>1</td>\n",
       "    </tr>\n",
       "    <tr>\n",
       "      <th>4</th>\n",
       "      <td>2020-12-16</td>\n",
       "      <td>1.695538</td>\n",
       "      <td>5.466709</td>\n",
       "      <td>1.0</td>\n",
       "      <td>2.718282</td>\n",
       "      <td>2.890372</td>\n",
       "      <td>0</td>\n",
       "    </tr>\n",
       "    <tr>\n",
       "      <th>...</th>\n",
       "      <td>...</td>\n",
       "      <td>...</td>\n",
       "      <td>...</td>\n",
       "      <td>...</td>\n",
       "      <td>...</td>\n",
       "      <td>...</td>\n",
       "      <td>...</td>\n",
       "    </tr>\n",
       "    <tr>\n",
       "      <th>1639419</th>\n",
       "      <td>2024-11-26</td>\n",
       "      <td>1.000000</td>\n",
       "      <td>5.482346</td>\n",
       "      <td>1.0</td>\n",
       "      <td>1.000000</td>\n",
       "      <td>0.000000</td>\n",
       "      <td>0</td>\n",
       "    </tr>\n",
       "    <tr>\n",
       "      <th>1639420</th>\n",
       "      <td>2024-11-26</td>\n",
       "      <td>1.000000</td>\n",
       "      <td>5.486580</td>\n",
       "      <td>1.0</td>\n",
       "      <td>1.000000</td>\n",
       "      <td>0.000000</td>\n",
       "      <td>0</td>\n",
       "    </tr>\n",
       "    <tr>\n",
       "      <th>1639421</th>\n",
       "      <td>2024-11-26</td>\n",
       "      <td>1.000000</td>\n",
       "      <td>5.484797</td>\n",
       "      <td>1.0</td>\n",
       "      <td>1.000000</td>\n",
       "      <td>0.000000</td>\n",
       "      <td>0</td>\n",
       "    </tr>\n",
       "    <tr>\n",
       "      <th>1639422</th>\n",
       "      <td>2024-11-26</td>\n",
       "      <td>1.000000</td>\n",
       "      <td>5.483551</td>\n",
       "      <td>1.0</td>\n",
       "      <td>1.000000</td>\n",
       "      <td>0.000000</td>\n",
       "      <td>0</td>\n",
       "    </tr>\n",
       "    <tr>\n",
       "      <th>1639423</th>\n",
       "      <td>2024-11-26</td>\n",
       "      <td>1.000000</td>\n",
       "      <td>5.482928</td>\n",
       "      <td>1.0</td>\n",
       "      <td>1.000000</td>\n",
       "      <td>0.000000</td>\n",
       "      <td>0</td>\n",
       "    </tr>\n",
       "  </tbody>\n",
       "</table>\n",
       "<p>1639424 rows × 7 columns</p>\n",
       "</div>"
      ],
      "text/plain": [
       "              Date        X1        X2   X3        X4        X5 target\n",
       "0       2020-12-16  1.518921  5.463154  1.0  2.718282  2.890372      0\n",
       "1       2020-12-16  1.546509  5.458010  1.0  2.718282  2.833213      1\n",
       "2       2020-12-16  1.645427  5.456560  1.0  7.389056  2.890372      1\n",
       "3       2020-12-16  1.652022  5.458479  1.0  2.718282  2.890372      1\n",
       "4       2020-12-16  1.695538  5.466709  1.0  2.718282  2.890372      0\n",
       "...            ...       ...       ...  ...       ...       ...    ...\n",
       "1639419 2024-11-26  1.000000  5.482346  1.0  1.000000  0.000000      0\n",
       "1639420 2024-11-26  1.000000  5.486580  1.0  1.000000  0.000000      0\n",
       "1639421 2024-11-26  1.000000  5.484797  1.0  1.000000  0.000000      0\n",
       "1639422 2024-11-26  1.000000  5.483551  1.0  1.000000  0.000000      0\n",
       "1639423 2024-11-26  1.000000  5.482928  1.0  1.000000  0.000000      0\n",
       "\n",
       "[1639424 rows x 7 columns]"
      ]
     },
     "execution_count": 4,
     "metadata": {},
     "output_type": "execute_result"
    }
   ],
   "source": [
    "# training set \n",
    "df=pd.read_parquet(\"/kaggle/input/ch-26-mnit-jaipur/train.parquet\")\n",
    "df\n"
   ]
  },
  {
   "cell_type": "code",
   "execution_count": null,
   "id": "181af5c4",
   "metadata": {
    "papermill": {
     "duration": 0.00722,
     "end_time": "2025-08-19T17:00:48.646664",
     "exception": false,
     "start_time": "2025-08-19T17:00:48.639444",
     "status": "completed"
    },
    "tags": []
   },
   "outputs": [],
   "source": []
  },
  {
   "cell_type": "code",
   "execution_count": 5,
   "id": "3cc84a08",
   "metadata": {
    "execution": {
     "iopub.execute_input": "2025-08-19T17:00:48.663496Z",
     "iopub.status.busy": "2025-08-19T17:00:48.663164Z",
     "iopub.status.idle": "2025-08-19T17:00:48.798951Z",
     "shell.execute_reply": "2025-08-19T17:00:48.798012Z"
    },
    "papermill": {
     "duration": 0.146906,
     "end_time": "2025-08-19T17:00:48.800952",
     "exception": false,
     "start_time": "2025-08-19T17:00:48.654046",
     "status": "completed"
    },
    "tags": []
   },
   "outputs": [
    {
     "data": {
      "text/html": [
       "<div>\n",
       "<style scoped>\n",
       "    .dataframe tbody tr th:only-of-type {\n",
       "        vertical-align: middle;\n",
       "    }\n",
       "\n",
       "    .dataframe tbody tr th {\n",
       "        vertical-align: top;\n",
       "    }\n",
       "\n",
       "    .dataframe thead th {\n",
       "        text-align: right;\n",
       "    }\n",
       "</style>\n",
       "<table border=\"1\" class=\"dataframe\">\n",
       "  <thead>\n",
       "    <tr style=\"text-align: right;\">\n",
       "      <th></th>\n",
       "      <th>ID</th>\n",
       "      <th>Date</th>\n",
       "      <th>X1</th>\n",
       "      <th>X2</th>\n",
       "      <th>X3</th>\n",
       "      <th>X4</th>\n",
       "      <th>X5</th>\n",
       "    </tr>\n",
       "  </thead>\n",
       "  <tbody>\n",
       "    <tr>\n",
       "      <th>0</th>\n",
       "      <td>0</td>\n",
       "      <td>2020-12-16</td>\n",
       "      <td>1.685395</td>\n",
       "      <td>5.463917</td>\n",
       "      <td>1.0</td>\n",
       "      <td>7.389056</td>\n",
       "      <td>2.890372</td>\n",
       "    </tr>\n",
       "    <tr>\n",
       "      <th>1</th>\n",
       "      <td>1</td>\n",
       "      <td>2020-12-16</td>\n",
       "      <td>1.488844</td>\n",
       "      <td>5.454936</td>\n",
       "      <td>1.0</td>\n",
       "      <td>7.389056</td>\n",
       "      <td>2.890372</td>\n",
       "    </tr>\n",
       "    <tr>\n",
       "      <th>2</th>\n",
       "      <td>2</td>\n",
       "      <td>2020-12-16</td>\n",
       "      <td>1.164160</td>\n",
       "      <td>5.471136</td>\n",
       "      <td>1.0</td>\n",
       "      <td>1.000000</td>\n",
       "      <td>2.890372</td>\n",
       "    </tr>\n",
       "    <tr>\n",
       "      <th>3</th>\n",
       "      <td>3</td>\n",
       "      <td>2020-12-16</td>\n",
       "      <td>1.000000</td>\n",
       "      <td>5.467385</td>\n",
       "      <td>1.0</td>\n",
       "      <td>1.000000</td>\n",
       "      <td>2.890372</td>\n",
       "    </tr>\n",
       "    <tr>\n",
       "      <th>4</th>\n",
       "      <td>4</td>\n",
       "      <td>2020-12-16</td>\n",
       "      <td>1.000000</td>\n",
       "      <td>5.453995</td>\n",
       "      <td>1.0</td>\n",
       "      <td>1.000000</td>\n",
       "      <td>2.833213</td>\n",
       "    </tr>\n",
       "    <tr>\n",
       "      <th>...</th>\n",
       "      <td>...</td>\n",
       "      <td>...</td>\n",
       "      <td>...</td>\n",
       "      <td>...</td>\n",
       "      <td>...</td>\n",
       "      <td>...</td>\n",
       "      <td>...</td>\n",
       "    </tr>\n",
       "    <tr>\n",
       "      <th>409851</th>\n",
       "      <td>409851</td>\n",
       "      <td>2024-11-26</td>\n",
       "      <td>1.120752</td>\n",
       "      <td>5.483053</td>\n",
       "      <td>1.0</td>\n",
       "      <td>2.718282</td>\n",
       "      <td>0.000000</td>\n",
       "    </tr>\n",
       "    <tr>\n",
       "      <th>409852</th>\n",
       "      <td>409852</td>\n",
       "      <td>2024-11-26</td>\n",
       "      <td>1.096365</td>\n",
       "      <td>5.477802</td>\n",
       "      <td>1.0</td>\n",
       "      <td>7.389056</td>\n",
       "      <td>0.000000</td>\n",
       "    </tr>\n",
       "    <tr>\n",
       "      <th>409853</th>\n",
       "      <td>409853</td>\n",
       "      <td>2024-11-26</td>\n",
       "      <td>1.111822</td>\n",
       "      <td>5.479972</td>\n",
       "      <td>1.0</td>\n",
       "      <td>2.718282</td>\n",
       "      <td>0.000000</td>\n",
       "    </tr>\n",
       "    <tr>\n",
       "      <th>409854</th>\n",
       "      <td>409854</td>\n",
       "      <td>2024-11-26</td>\n",
       "      <td>1.000000</td>\n",
       "      <td>5.486165</td>\n",
       "      <td>1.0</td>\n",
       "      <td>1.000000</td>\n",
       "      <td>0.000000</td>\n",
       "    </tr>\n",
       "    <tr>\n",
       "      <th>409855</th>\n",
       "      <td>409855</td>\n",
       "      <td>2024-11-26</td>\n",
       "      <td>1.000000</td>\n",
       "      <td>5.484050</td>\n",
       "      <td>1.0</td>\n",
       "      <td>1.000000</td>\n",
       "      <td>0.000000</td>\n",
       "    </tr>\n",
       "  </tbody>\n",
       "</table>\n",
       "<p>409856 rows × 7 columns</p>\n",
       "</div>"
      ],
      "text/plain": [
       "            ID       Date        X1        X2   X3        X4        X5\n",
       "0            0 2020-12-16  1.685395  5.463917  1.0  7.389056  2.890372\n",
       "1            1 2020-12-16  1.488844  5.454936  1.0  7.389056  2.890372\n",
       "2            2 2020-12-16  1.164160  5.471136  1.0  1.000000  2.890372\n",
       "3            3 2020-12-16  1.000000  5.467385  1.0  1.000000  2.890372\n",
       "4            4 2020-12-16  1.000000  5.453995  1.0  1.000000  2.833213\n",
       "...        ...        ...       ...       ...  ...       ...       ...\n",
       "409851  409851 2024-11-26  1.120752  5.483053  1.0  2.718282  0.000000\n",
       "409852  409852 2024-11-26  1.096365  5.477802  1.0  7.389056  0.000000\n",
       "409853  409853 2024-11-26  1.111822  5.479972  1.0  2.718282  0.000000\n",
       "409854  409854 2024-11-26  1.000000  5.486165  1.0  1.000000  0.000000\n",
       "409855  409855 2024-11-26  1.000000  5.484050  1.0  1.000000  0.000000\n",
       "\n",
       "[409856 rows x 7 columns]"
      ]
     },
     "execution_count": 5,
     "metadata": {},
     "output_type": "execute_result"
    }
   ],
   "source": [
    "test=pd.read_parquet(\"/kaggle/input/ch-26-mnit-jaipur/test.parquet\")\n",
    "\n",
    "\n",
    "test\n",
    "test.isna().sum()\n",
    "test"
   ]
  },
  {
   "cell_type": "code",
   "execution_count": 6,
   "id": "01386e7c",
   "metadata": {
    "execution": {
     "iopub.execute_input": "2025-08-19T17:00:48.818075Z",
     "iopub.status.busy": "2025-08-19T17:00:48.817773Z",
     "iopub.status.idle": "2025-08-19T17:00:48.974371Z",
     "shell.execute_reply": "2025-08-19T17:00:48.973118Z"
    },
    "papermill": {
     "duration": 0.166821,
     "end_time": "2025-08-19T17:00:48.975945",
     "exception": false,
     "start_time": "2025-08-19T17:00:48.809124",
     "status": "completed"
    },
    "tags": []
   },
   "outputs": [
    {
     "name": "stdout",
     "output_type": "stream",
     "text": [
      "<class 'pandas.core.frame.DataFrame'>\n",
      "RangeIndex: 1639424 entries, 0 to 1639423\n",
      "Data columns (total 7 columns):\n",
      " #   Column  Non-Null Count    Dtype         \n",
      "---  ------  --------------    -----         \n",
      " 0   Date    1639424 non-null  datetime64[ns]\n",
      " 1   X1      1639424 non-null  float64       \n",
      " 2   X2      1639424 non-null  float64       \n",
      " 3   X3      1639424 non-null  float64       \n",
      " 4   X4      1639424 non-null  float64       \n",
      " 5   X5      1639424 non-null  float64       \n",
      " 6   target  1639424 non-null  object        \n",
      "dtypes: datetime64[ns](1), float64(5), object(1)\n",
      "memory usage: 87.6+ MB\n"
     ]
    }
   ],
   "source": [
    "df.info() #datattype of columns"
   ]
  },
  {
   "cell_type": "code",
   "execution_count": 7,
   "id": "3d7e21bc",
   "metadata": {
    "execution": {
     "iopub.execute_input": "2025-08-19T17:00:48.994019Z",
     "iopub.status.busy": "2025-08-19T17:00:48.992982Z",
     "iopub.status.idle": "2025-08-19T17:00:49.409556Z",
     "shell.execute_reply": "2025-08-19T17:00:49.408648Z"
    },
    "papermill": {
     "duration": 0.427019,
     "end_time": "2025-08-19T17:00:49.411028",
     "exception": false,
     "start_time": "2025-08-19T17:00:48.984009",
     "status": "completed"
    },
    "tags": []
   },
   "outputs": [
    {
     "data": {
      "text/html": [
       "<div>\n",
       "<style scoped>\n",
       "    .dataframe tbody tr th:only-of-type {\n",
       "        vertical-align: middle;\n",
       "    }\n",
       "\n",
       "    .dataframe tbody tr th {\n",
       "        vertical-align: top;\n",
       "    }\n",
       "\n",
       "    .dataframe thead th {\n",
       "        text-align: right;\n",
       "    }\n",
       "</style>\n",
       "<table border=\"1\" class=\"dataframe\">\n",
       "  <thead>\n",
       "    <tr style=\"text-align: right;\">\n",
       "      <th></th>\n",
       "      <th>Date</th>\n",
       "      <th>X1</th>\n",
       "      <th>X2</th>\n",
       "      <th>X3</th>\n",
       "      <th>X4</th>\n",
       "      <th>X5</th>\n",
       "    </tr>\n",
       "  </thead>\n",
       "  <tbody>\n",
       "    <tr>\n",
       "      <th>count</th>\n",
       "      <td>1639424</td>\n",
       "      <td>1.639424e+06</td>\n",
       "      <td>1.639424e+06</td>\n",
       "      <td>1.639424e+06</td>\n",
       "      <td>1.639424e+06</td>\n",
       "      <td>1.639424e+06</td>\n",
       "    </tr>\n",
       "    <tr>\n",
       "      <th>mean</th>\n",
       "      <td>2022-12-03 07:23:43.817145600</td>\n",
       "      <td>1.139258e+00</td>\n",
       "      <td>5.488189e+00</td>\n",
       "      <td>4.110388e+32</td>\n",
       "      <td>2.706323e+29</td>\n",
       "      <td>1.187219e+00</td>\n",
       "    </tr>\n",
       "    <tr>\n",
       "      <th>min</th>\n",
       "      <td>2020-12-16 00:00:00</td>\n",
       "      <td>1.000000e+00</td>\n",
       "      <td>5.412539e+00</td>\n",
       "      <td>1.000000e+00</td>\n",
       "      <td>1.000000e+00</td>\n",
       "      <td>0.000000e+00</td>\n",
       "    </tr>\n",
       "    <tr>\n",
       "      <th>25%</th>\n",
       "      <td>2021-12-10 00:00:00</td>\n",
       "      <td>1.049171e+00</td>\n",
       "      <td>5.480597e+00</td>\n",
       "      <td>1.000000e+00</td>\n",
       "      <td>1.000000e+00</td>\n",
       "      <td>0.000000e+00</td>\n",
       "    </tr>\n",
       "    <tr>\n",
       "      <th>50%</th>\n",
       "      <td>2022-11-30 00:00:00</td>\n",
       "      <td>1.105171e+00</td>\n",
       "      <td>5.488979e+00</td>\n",
       "      <td>1.000000e+00</td>\n",
       "      <td>1.000000e+00</td>\n",
       "      <td>6.931472e-01</td>\n",
       "    </tr>\n",
       "    <tr>\n",
       "      <th>75%</th>\n",
       "      <td>2023-11-23 00:00:00</td>\n",
       "      <td>1.214096e+00</td>\n",
       "      <td>5.496717e+00</td>\n",
       "      <td>1.000000e+00</td>\n",
       "      <td>2.718282e+00</td>\n",
       "      <td>2.890372e+00</td>\n",
       "    </tr>\n",
       "    <tr>\n",
       "      <th>max</th>\n",
       "      <td>2024-12-11 00:00:00</td>\n",
       "      <td>4.014850e+00</td>\n",
       "      <td>5.541852e+00</td>\n",
       "      <td>1.651636e+38</td>\n",
       "      <td>5.540622e+34</td>\n",
       "      <td>3.465736e+00</td>\n",
       "    </tr>\n",
       "    <tr>\n",
       "      <th>std</th>\n",
       "      <td>NaN</td>\n",
       "      <td>1.391992e-01</td>\n",
       "      <td>1.342811e-02</td>\n",
       "      <td>2.346156e+35</td>\n",
       "      <td>5.812988e+31</td>\n",
       "      <td>1.304814e+00</td>\n",
       "    </tr>\n",
       "  </tbody>\n",
       "</table>\n",
       "</div>"
      ],
      "text/plain": [
       "                                Date            X1            X2  \\\n",
       "count                        1639424  1.639424e+06  1.639424e+06   \n",
       "mean   2022-12-03 07:23:43.817145600  1.139258e+00  5.488189e+00   \n",
       "min              2020-12-16 00:00:00  1.000000e+00  5.412539e+00   \n",
       "25%              2021-12-10 00:00:00  1.049171e+00  5.480597e+00   \n",
       "50%              2022-11-30 00:00:00  1.105171e+00  5.488979e+00   \n",
       "75%              2023-11-23 00:00:00  1.214096e+00  5.496717e+00   \n",
       "max              2024-12-11 00:00:00  4.014850e+00  5.541852e+00   \n",
       "std                              NaN  1.391992e-01  1.342811e-02   \n",
       "\n",
       "                 X3            X4            X5  \n",
       "count  1.639424e+06  1.639424e+06  1.639424e+06  \n",
       "mean   4.110388e+32  2.706323e+29  1.187219e+00  \n",
       "min    1.000000e+00  1.000000e+00  0.000000e+00  \n",
       "25%    1.000000e+00  1.000000e+00  0.000000e+00  \n",
       "50%    1.000000e+00  1.000000e+00  6.931472e-01  \n",
       "75%    1.000000e+00  2.718282e+00  2.890372e+00  \n",
       "max    1.651636e+38  5.540622e+34  3.465736e+00  \n",
       "std    2.346156e+35  5.812988e+31  1.304814e+00  "
      ]
     },
     "execution_count": 7,
     "metadata": {},
     "output_type": "execute_result"
    }
   ],
   "source": [
    "df.describe()"
   ]
  },
  {
   "cell_type": "code",
   "execution_count": 8,
   "id": "bd6c7296",
   "metadata": {
    "execution": {
     "iopub.execute_input": "2025-08-19T17:00:49.428318Z",
     "iopub.status.busy": "2025-08-19T17:00:49.427968Z",
     "iopub.status.idle": "2025-08-19T17:00:49.567581Z",
     "shell.execute_reply": "2025-08-19T17:00:49.566536Z"
    },
    "papermill": {
     "duration": 0.1501,
     "end_time": "2025-08-19T17:00:49.569186",
     "exception": false,
     "start_time": "2025-08-19T17:00:49.419086",
     "status": "completed"
    },
    "tags": []
   },
   "outputs": [
    {
     "data": {
      "text/plain": [
       "Date      0\n",
       "X1        0\n",
       "X2        0\n",
       "X3        0\n",
       "X4        0\n",
       "X5        0\n",
       "target    0\n",
       "dtype: int64"
      ]
     },
     "execution_count": 8,
     "metadata": {},
     "output_type": "execute_result"
    }
   ],
   "source": [
    "df.isna().sum() #number of null values"
   ]
  },
  {
   "cell_type": "code",
   "execution_count": 9,
   "id": "f311e56f",
   "metadata": {
    "execution": {
     "iopub.execute_input": "2025-08-19T17:00:49.586986Z",
     "iopub.status.busy": "2025-08-19T17:00:49.586672Z",
     "iopub.status.idle": "2025-08-19T17:00:49.596504Z",
     "shell.execute_reply": "2025-08-19T17:00:49.595689Z"
    },
    "papermill": {
     "duration": 0.020428,
     "end_time": "2025-08-19T17:00:49.598056",
     "exception": false,
     "start_time": "2025-08-19T17:00:49.577628",
     "status": "completed"
    },
    "tags": []
   },
   "outputs": [
    {
     "data": {
      "text/plain": [
       "<bound method DataFrame.nunique of               Date        X1        X2   X3        X4        X5 target\n",
       "0       2020-12-16  1.518921  5.463154  1.0  2.718282  2.890372      0\n",
       "1       2020-12-16  1.546509  5.458010  1.0  2.718282  2.833213      1\n",
       "2       2020-12-16  1.645427  5.456560  1.0  7.389056  2.890372      1\n",
       "3       2020-12-16  1.652022  5.458479  1.0  2.718282  2.890372      1\n",
       "4       2020-12-16  1.695538  5.466709  1.0  2.718282  2.890372      0\n",
       "...            ...       ...       ...  ...       ...       ...    ...\n",
       "1639419 2024-11-26  1.000000  5.482346  1.0  1.000000  0.000000      0\n",
       "1639420 2024-11-26  1.000000  5.486580  1.0  1.000000  0.000000      0\n",
       "1639421 2024-11-26  1.000000  5.484797  1.0  1.000000  0.000000      0\n",
       "1639422 2024-11-26  1.000000  5.483551  1.0  1.000000  0.000000      0\n",
       "1639423 2024-11-26  1.000000  5.482928  1.0  1.000000  0.000000      0\n",
       "\n",
       "[1639424 rows x 7 columns]>"
      ]
     },
     "execution_count": 9,
     "metadata": {},
     "output_type": "execute_result"
    }
   ],
   "source": [
    "df.nunique #to know number of unique values in each column"
   ]
  },
  {
   "cell_type": "code",
   "execution_count": 10,
   "id": "df9f3375",
   "metadata": {
    "execution": {
     "iopub.execute_input": "2025-08-19T17:00:49.616079Z",
     "iopub.status.busy": "2025-08-19T17:00:49.615759Z",
     "iopub.status.idle": "2025-08-19T17:00:49.700757Z",
     "shell.execute_reply": "2025-08-19T17:00:49.699765Z"
    },
    "papermill": {
     "duration": 0.095721,
     "end_time": "2025-08-19T17:00:49.702424",
     "exception": false,
     "start_time": "2025-08-19T17:00:49.606703",
     "status": "completed"
    },
    "tags": []
   },
   "outputs": [
    {
     "data": {
      "text/plain": [
       "array(['0', '1'], dtype=object)"
      ]
     },
     "execution_count": 10,
     "metadata": {},
     "output_type": "execute_result"
    }
   ],
   "source": [
    "df[\"target\"].unique()\n",
    "#to know number of classes hence its a binary classification"
   ]
  },
  {
   "cell_type": "code",
   "execution_count": 11,
   "id": "1a6de066",
   "metadata": {
    "execution": {
     "iopub.execute_input": "2025-08-19T17:00:49.722056Z",
     "iopub.status.busy": "2025-08-19T17:00:49.721728Z",
     "iopub.status.idle": "2025-08-19T17:00:50.260793Z",
     "shell.execute_reply": "2025-08-19T17:00:50.259884Z"
    },
    "papermill": {
     "duration": 0.550911,
     "end_time": "2025-08-19T17:00:50.262577",
     "exception": false,
     "start_time": "2025-08-19T17:00:49.711666",
     "status": "completed"
    },
    "tags": []
   },
   "outputs": [],
   "source": [
    "import seaborn as sns\n",
    "from matplotlib import pyplot as plt"
   ]
  },
  {
   "cell_type": "code",
   "execution_count": 12,
   "id": "a3251fc9",
   "metadata": {
    "execution": {
     "iopub.execute_input": "2025-08-19T17:00:50.281085Z",
     "iopub.status.busy": "2025-08-19T17:00:50.279959Z",
     "iopub.status.idle": "2025-08-19T17:00:50.330070Z",
     "shell.execute_reply": "2025-08-19T17:00:50.329172Z"
    },
    "papermill": {
     "duration": 0.060957,
     "end_time": "2025-08-19T17:00:50.331869",
     "exception": false,
     "start_time": "2025-08-19T17:00:50.270912",
     "status": "completed"
    },
    "tags": []
   },
   "outputs": [
    {
     "data": {
      "text/html": [
       "<div>\n",
       "<style scoped>\n",
       "    .dataframe tbody tr th:only-of-type {\n",
       "        vertical-align: middle;\n",
       "    }\n",
       "\n",
       "    .dataframe tbody tr th {\n",
       "        vertical-align: top;\n",
       "    }\n",
       "\n",
       "    .dataframe thead th {\n",
       "        text-align: right;\n",
       "    }\n",
       "</style>\n",
       "<table border=\"1\" class=\"dataframe\">\n",
       "  <thead>\n",
       "    <tr style=\"text-align: right;\">\n",
       "      <th></th>\n",
       "      <th>X1</th>\n",
       "      <th>X2</th>\n",
       "      <th>X3</th>\n",
       "      <th>X4</th>\n",
       "      <th>X5</th>\n",
       "      <th>target</th>\n",
       "    </tr>\n",
       "  </thead>\n",
       "  <tbody>\n",
       "    <tr>\n",
       "      <th>0</th>\n",
       "      <td>1.518921</td>\n",
       "      <td>5.463154</td>\n",
       "      <td>1.0</td>\n",
       "      <td>2.718282</td>\n",
       "      <td>2.890372</td>\n",
       "      <td>0</td>\n",
       "    </tr>\n",
       "    <tr>\n",
       "      <th>1</th>\n",
       "      <td>1.546509</td>\n",
       "      <td>5.458010</td>\n",
       "      <td>1.0</td>\n",
       "      <td>2.718282</td>\n",
       "      <td>2.833213</td>\n",
       "      <td>1</td>\n",
       "    </tr>\n",
       "    <tr>\n",
       "      <th>2</th>\n",
       "      <td>1.645427</td>\n",
       "      <td>5.456560</td>\n",
       "      <td>1.0</td>\n",
       "      <td>7.389056</td>\n",
       "      <td>2.890372</td>\n",
       "      <td>1</td>\n",
       "    </tr>\n",
       "    <tr>\n",
       "      <th>3</th>\n",
       "      <td>1.652022</td>\n",
       "      <td>5.458479</td>\n",
       "      <td>1.0</td>\n",
       "      <td>2.718282</td>\n",
       "      <td>2.890372</td>\n",
       "      <td>1</td>\n",
       "    </tr>\n",
       "    <tr>\n",
       "      <th>4</th>\n",
       "      <td>1.695538</td>\n",
       "      <td>5.466709</td>\n",
       "      <td>1.0</td>\n",
       "      <td>2.718282</td>\n",
       "      <td>2.890372</td>\n",
       "      <td>0</td>\n",
       "    </tr>\n",
       "    <tr>\n",
       "      <th>...</th>\n",
       "      <td>...</td>\n",
       "      <td>...</td>\n",
       "      <td>...</td>\n",
       "      <td>...</td>\n",
       "      <td>...</td>\n",
       "      <td>...</td>\n",
       "    </tr>\n",
       "    <tr>\n",
       "      <th>1639419</th>\n",
       "      <td>1.000000</td>\n",
       "      <td>5.482346</td>\n",
       "      <td>1.0</td>\n",
       "      <td>1.000000</td>\n",
       "      <td>0.000000</td>\n",
       "      <td>0</td>\n",
       "    </tr>\n",
       "    <tr>\n",
       "      <th>1639420</th>\n",
       "      <td>1.000000</td>\n",
       "      <td>5.486580</td>\n",
       "      <td>1.0</td>\n",
       "      <td>1.000000</td>\n",
       "      <td>0.000000</td>\n",
       "      <td>0</td>\n",
       "    </tr>\n",
       "    <tr>\n",
       "      <th>1639421</th>\n",
       "      <td>1.000000</td>\n",
       "      <td>5.484797</td>\n",
       "      <td>1.0</td>\n",
       "      <td>1.000000</td>\n",
       "      <td>0.000000</td>\n",
       "      <td>0</td>\n",
       "    </tr>\n",
       "    <tr>\n",
       "      <th>1639422</th>\n",
       "      <td>1.000000</td>\n",
       "      <td>5.483551</td>\n",
       "      <td>1.0</td>\n",
       "      <td>1.000000</td>\n",
       "      <td>0.000000</td>\n",
       "      <td>0</td>\n",
       "    </tr>\n",
       "    <tr>\n",
       "      <th>1639423</th>\n",
       "      <td>1.000000</td>\n",
       "      <td>5.482928</td>\n",
       "      <td>1.0</td>\n",
       "      <td>1.000000</td>\n",
       "      <td>0.000000</td>\n",
       "      <td>0</td>\n",
       "    </tr>\n",
       "  </tbody>\n",
       "</table>\n",
       "<p>1639424 rows × 6 columns</p>\n",
       "</div>"
      ],
      "text/plain": [
       "               X1        X2   X3        X4        X5 target\n",
       "0        1.518921  5.463154  1.0  2.718282  2.890372      0\n",
       "1        1.546509  5.458010  1.0  2.718282  2.833213      1\n",
       "2        1.645427  5.456560  1.0  7.389056  2.890372      1\n",
       "3        1.652022  5.458479  1.0  2.718282  2.890372      1\n",
       "4        1.695538  5.466709  1.0  2.718282  2.890372      0\n",
       "...           ...       ...  ...       ...       ...    ...\n",
       "1639419  1.000000  5.482346  1.0  1.000000  0.000000      0\n",
       "1639420  1.000000  5.486580  1.0  1.000000  0.000000      0\n",
       "1639421  1.000000  5.484797  1.0  1.000000  0.000000      0\n",
       "1639422  1.000000  5.483551  1.0  1.000000  0.000000      0\n",
       "1639423  1.000000  5.482928  1.0  1.000000  0.000000      0\n",
       "\n",
       "[1639424 rows x 6 columns]"
      ]
     },
     "execution_count": 12,
     "metadata": {},
     "output_type": "execute_result"
    }
   ],
   "source": [
    "\n",
    "df.drop('Date', axis=1)\n",
    "\n"
   ]
  },
  {
   "cell_type": "code",
   "execution_count": 13,
   "id": "6661c65e",
   "metadata": {
    "execution": {
     "iopub.execute_input": "2025-08-19T17:00:50.350661Z",
     "iopub.status.busy": "2025-08-19T17:00:50.349642Z",
     "iopub.status.idle": "2025-08-19T17:00:53.771267Z",
     "shell.execute_reply": "2025-08-19T17:00:53.770282Z"
    },
    "papermill": {
     "duration": 3.432449,
     "end_time": "2025-08-19T17:00:53.773003",
     "exception": false,
     "start_time": "2025-08-19T17:00:50.340554",
     "status": "completed"
    },
    "tags": []
   },
   "outputs": [
    {
     "data": {
      "image/png": "[encoded data removed]",
      "text/plain": [
       "<Figure size 1500x1500 with 1 Axes>"
      ]
     },
     "metadata": {},
     "output_type": "display_data"
    }
   ],
   "source": [
    "fig, ax = plt.subplots(figsize=(15,15))\n",
    "sns.boxplot(data = df, ax=ax)\n",
    "plt.savefig(\"boxPlot.jpg\")"
   ]
  },
  {
   "cell_type": "code",
   "execution_count": 14,
   "id": "0ede294e",
   "metadata": {
    "execution": {
     "iopub.execute_input": "2025-08-19T17:00:53.792747Z",
     "iopub.status.busy": "2025-08-19T17:00:53.792407Z",
     "iopub.status.idle": "2025-08-19T17:00:54.291689Z",
     "shell.execute_reply": "2025-08-19T17:00:54.290530Z"
    },
    "papermill": {
     "duration": 0.510664,
     "end_time": "2025-08-19T17:00:54.293300",
     "exception": false,
     "start_time": "2025-08-19T17:00:53.782636",
     "status": "completed"
    },
    "tags": []
   },
   "outputs": [
    {
     "data": {
      "text/html": [
       "<div>\n",
       "<style scoped>\n",
       "    .dataframe tbody tr th:only-of-type {\n",
       "        vertical-align: middle;\n",
       "    }\n",
       "\n",
       "    .dataframe tbody tr th {\n",
       "        vertical-align: top;\n",
       "    }\n",
       "\n",
       "    .dataframe thead th {\n",
       "        text-align: right;\n",
       "    }\n",
       "</style>\n",
       "<table border=\"1\" class=\"dataframe\">\n",
       "  <thead>\n",
       "    <tr style=\"text-align: right;\">\n",
       "      <th></th>\n",
       "      <th>Date</th>\n",
       "      <th>X1</th>\n",
       "      <th>X2</th>\n",
       "      <th>X3</th>\n",
       "      <th>X4</th>\n",
       "      <th>X5</th>\n",
       "      <th>target</th>\n",
       "    </tr>\n",
       "  </thead>\n",
       "  <tbody>\n",
       "    <tr>\n",
       "      <th>Date</th>\n",
       "      <td>1.000000</td>\n",
       "      <td>0.049007</td>\n",
       "      <td>0.261630</td>\n",
       "      <td>0.002134</td>\n",
       "      <td>0.003132</td>\n",
       "      <td>0.111333</td>\n",
       "      <td>-0.032148</td>\n",
       "    </tr>\n",
       "    <tr>\n",
       "      <th>X1</th>\n",
       "      <td>0.049007</td>\n",
       "      <td>1.000000</td>\n",
       "      <td>-0.112976</td>\n",
       "      <td>-0.001039</td>\n",
       "      <td>0.001999</td>\n",
       "      <td>0.102220</td>\n",
       "      <td>0.096103</td>\n",
       "    </tr>\n",
       "    <tr>\n",
       "      <th>X2</th>\n",
       "      <td>0.261630</td>\n",
       "      <td>-0.112976</td>\n",
       "      <td>1.000000</td>\n",
       "      <td>-0.003727</td>\n",
       "      <td>0.000989</td>\n",
       "      <td>-0.264825</td>\n",
       "      <td>-0.163221</td>\n",
       "    </tr>\n",
       "    <tr>\n",
       "      <th>X3</th>\n",
       "      <td>0.002134</td>\n",
       "      <td>-0.001039</td>\n",
       "      <td>-0.003727</td>\n",
       "      <td>1.000000</td>\n",
       "      <td>-0.000008</td>\n",
       "      <td>0.002301</td>\n",
       "      <td>0.018852</td>\n",
       "    </tr>\n",
       "    <tr>\n",
       "      <th>X4</th>\n",
       "      <td>0.003132</td>\n",
       "      <td>0.001999</td>\n",
       "      <td>0.000989</td>\n",
       "      <td>-0.000008</td>\n",
       "      <td>1.000000</td>\n",
       "      <td>0.000874</td>\n",
       "      <td>0.045209</td>\n",
       "    </tr>\n",
       "    <tr>\n",
       "      <th>X5</th>\n",
       "      <td>0.111333</td>\n",
       "      <td>0.102220</td>\n",
       "      <td>-0.264825</td>\n",
       "      <td>0.002301</td>\n",
       "      <td>0.000874</td>\n",
       "      <td>1.000000</td>\n",
       "      <td>0.098049</td>\n",
       "    </tr>\n",
       "    <tr>\n",
       "      <th>target</th>\n",
       "      <td>-0.032148</td>\n",
       "      <td>0.096103</td>\n",
       "      <td>-0.163221</td>\n",
       "      <td>0.018852</td>\n",
       "      <td>0.045209</td>\n",
       "      <td>0.098049</td>\n",
       "      <td>1.000000</td>\n",
       "    </tr>\n",
       "  </tbody>\n",
       "</table>\n",
       "</div>"
      ],
      "text/plain": [
       "            Date        X1        X2        X3        X4        X5    target\n",
       "Date    1.000000  0.049007  0.261630  0.002134  0.003132  0.111333 -0.032148\n",
       "X1      0.049007  1.000000 -0.112976 -0.001039  0.001999  0.102220  0.096103\n",
       "X2      0.261630 -0.112976  1.000000 -0.003727  0.000989 -0.264825 -0.163221\n",
       "X3      0.002134 -0.001039 -0.003727  1.000000 -0.000008  0.002301  0.018852\n",
       "X4      0.003132  0.001999  0.000989 -0.000008  1.000000  0.000874  0.045209\n",
       "X5      0.111333  0.102220 -0.264825  0.002301  0.000874  1.000000  0.098049\n",
       "target -0.032148  0.096103 -0.163221  0.018852  0.045209  0.098049  1.000000"
      ]
     },
     "execution_count": 14,
     "metadata": {},
     "output_type": "execute_result"
    }
   ],
   "source": [
    "df.corr()"
   ]
  },
  {
   "cell_type": "code",
   "execution_count": 15,
   "id": "7244a4c5",
   "metadata": {
    "execution": {
     "iopub.execute_input": "2025-08-19T17:00:54.314034Z",
     "iopub.status.busy": "2025-08-19T17:00:54.313644Z",
     "iopub.status.idle": "2025-08-19T17:00:54.935261Z",
     "shell.execute_reply": "2025-08-19T17:00:54.934143Z"
    },
    "papermill": {
     "duration": 0.634285,
     "end_time": "2025-08-19T17:00:54.937053",
     "exception": false,
     "start_time": "2025-08-19T17:00:54.302768",
     "status": "completed"
    },
    "tags": []
   },
   "outputs": [
    {
     "name": "stdout",
     "output_type": "stream",
     "text": [
      "<class 'pandas.core.frame.DataFrame'>\n",
      "Index: 491828 entries, 1602121 to 277613\n",
      "Data columns (total 6 columns):\n",
      " #   Column  Non-Null Count   Dtype         \n",
      "---  ------  --------------   -----         \n",
      " 0   Date    491828 non-null  datetime64[ns]\n",
      " 1   X1      491828 non-null  float64       \n",
      " 2   X2      491828 non-null  float64       \n",
      " 3   X3      491828 non-null  float64       \n",
      " 4   X4      491828 non-null  float64       \n",
      " 5   X5      491828 non-null  float64       \n",
      "dtypes: datetime64[ns](1), float64(5)\n",
      "memory usage: 26.3 MB\n",
      "<class 'pandas.core.frame.DataFrame'>\n",
      "Index: 1147596 entries, 1570549 to 121958\n",
      "Data columns (total 6 columns):\n",
      " #   Column  Non-Null Count    Dtype         \n",
      "---  ------  --------------    -----         \n",
      " 0   Date    1147596 non-null  datetime64[ns]\n",
      " 1   X1      1147596 non-null  float64       \n",
      " 2   X2      1147596 non-null  float64       \n",
      " 3   X3      1147596 non-null  float64       \n",
      " 4   X4      1147596 non-null  float64       \n",
      " 5   X5      1147596 non-null  float64       \n",
      "dtypes: datetime64[ns](1), float64(5)\n",
      "memory usage: 61.3 MB\n",
      "<class 'pandas.core.series.Series'>\n",
      "Index: 1147596 entries, 1570549 to 121958\n",
      "Series name: target\n",
      "Non-Null Count    Dtype \n",
      "--------------    ----- \n",
      "1147596 non-null  object\n",
      "dtypes: object(1)\n",
      "memory usage: 17.5+ MB\n",
      "<class 'pandas.core.series.Series'>\n",
      "Index: 491828 entries, 1602121 to 277613\n",
      "Series name: target\n",
      "Non-Null Count   Dtype \n",
      "--------------   ----- \n",
      "491828 non-null  object\n",
      "dtypes: object(1)\n",
      "memory usage: 7.5+ MB\n"
     ]
    }
   ],
   "source": [
    "## Split the data into independent and dependent features\n",
    "X = df.iloc[:,:-1]\n",
    "y = df.iloc[:,-1]\n",
    "## Split the data into train and test set\n",
    "from sklearn.model_selection import train_test_split\n",
    "x_train, x_test, y_train, y_test = train_test_split(X, y, test_size=0.3, random_state = 42)\n",
    "x_test.info()\n",
    "x_train.info()\n",
    "y_train.info()\n",
    "y_test.info()"
   ]
  },
  {
   "cell_type": "code",
   "execution_count": 16,
   "id": "be4b8991",
   "metadata": {
    "execution": {
     "iopub.execute_input": "2025-08-19T17:00:54.957238Z",
     "iopub.status.busy": "2025-08-19T17:00:54.956866Z",
     "iopub.status.idle": "2025-08-19T17:00:54.984958Z",
     "shell.execute_reply": "2025-08-19T17:00:54.983721Z"
    },
    "papermill": {
     "duration": 0.040536,
     "end_time": "2025-08-19T17:00:54.986847",
     "exception": false,
     "start_time": "2025-08-19T17:00:54.946311",
     "status": "completed"
    },
    "tags": []
   },
   "outputs": [
    {
     "name": "stdout",
     "output_type": "stream",
     "text": [
      "  target\n",
      "0      0\n",
      "1      0\n",
      "2      0\n",
      "3      0\n",
      "4      0\n",
      "(1147596, 1)\n"
     ]
    }
   ],
   "source": [
    "# Force y_train to be a DataFrame with column \"target\"\n",
    "y_train = pd.DataFrame(y_train).reset_index(drop=True)\n",
    "y_train.columns = [\"target\"]\n",
    "\n",
    "# Now check\n",
    "print(y_train.head())\n",
    "print(y_train.shape)\n"
   ]
  },
  {
   "cell_type": "code",
   "execution_count": 17,
   "id": "b6495ed8",
   "metadata": {
    "execution": {
     "iopub.execute_input": "2025-08-19T17:00:55.008793Z",
     "iopub.status.busy": "2025-08-19T17:00:55.008406Z",
     "iopub.status.idle": "2025-08-19T17:00:55.069527Z",
     "shell.execute_reply": "2025-08-19T17:00:55.068335Z"
    },
    "papermill": {
     "duration": 0.07484,
     "end_time": "2025-08-19T17:00:55.071157",
     "exception": false,
     "start_time": "2025-08-19T17:00:54.996317",
     "status": "completed"
    },
    "tags": []
   },
   "outputs": [
    {
     "name": "stdout",
     "output_type": "stream",
     "text": [
      "<class 'pandas.core.frame.DataFrame'>\n",
      "Index: 1147596 entries, 1570549 to 121958\n",
      "Data columns (total 5 columns):\n",
      " #   Column  Non-Null Count    Dtype  \n",
      "---  ------  --------------    -----  \n",
      " 0   X1      1147596 non-null  float64\n",
      " 1   X2      1147596 non-null  float64\n",
      " 2   X3      1147596 non-null  float64\n",
      " 3   X4      1147596 non-null  float64\n",
      " 4   X5      1147596 non-null  float64\n",
      "dtypes: float64(5)\n",
      "memory usage: 52.5 MB\n"
     ]
    },
    {
     "data": {
      "text/html": [
       "<div>\n",
       "<style scoped>\n",
       "    .dataframe tbody tr th:only-of-type {\n",
       "        vertical-align: middle;\n",
       "    }\n",
       "\n",
       "    .dataframe tbody tr th {\n",
       "        vertical-align: top;\n",
       "    }\n",
       "\n",
       "    .dataframe thead th {\n",
       "        text-align: right;\n",
       "    }\n",
       "</style>\n",
       "<table border=\"1\" class=\"dataframe\">\n",
       "  <thead>\n",
       "    <tr style=\"text-align: right;\">\n",
       "      <th></th>\n",
       "      <th>target</th>\n",
       "    </tr>\n",
       "  </thead>\n",
       "  <tbody>\n",
       "    <tr>\n",
       "      <th>0</th>\n",
       "      <td>0</td>\n",
       "    </tr>\n",
       "    <tr>\n",
       "      <th>1</th>\n",
       "      <td>0</td>\n",
       "    </tr>\n",
       "    <tr>\n",
       "      <th>2</th>\n",
       "      <td>0</td>\n",
       "    </tr>\n",
       "    <tr>\n",
       "      <th>3</th>\n",
       "      <td>0</td>\n",
       "    </tr>\n",
       "    <tr>\n",
       "      <th>4</th>\n",
       "      <td>0</td>\n",
       "    </tr>\n",
       "    <tr>\n",
       "      <th>...</th>\n",
       "      <td>...</td>\n",
       "    </tr>\n",
       "    <tr>\n",
       "      <th>1147591</th>\n",
       "      <td>0</td>\n",
       "    </tr>\n",
       "    <tr>\n",
       "      <th>1147592</th>\n",
       "      <td>0</td>\n",
       "    </tr>\n",
       "    <tr>\n",
       "      <th>1147593</th>\n",
       "      <td>0</td>\n",
       "    </tr>\n",
       "    <tr>\n",
       "      <th>1147594</th>\n",
       "      <td>0</td>\n",
       "    </tr>\n",
       "    <tr>\n",
       "      <th>1147595</th>\n",
       "      <td>0</td>\n",
       "    </tr>\n",
       "  </tbody>\n",
       "</table>\n",
       "<p>1147596 rows × 1 columns</p>\n",
       "</div>"
      ],
      "text/plain": [
       "        target\n",
       "0            0\n",
       "1            0\n",
       "2            0\n",
       "3            0\n",
       "4            0\n",
       "...        ...\n",
       "1147591      0\n",
       "1147592      0\n",
       "1147593      0\n",
       "1147594      0\n",
       "1147595      0\n",
       "\n",
       "[1147596 rows x 1 columns]"
      ]
     },
     "execution_count": 17,
     "metadata": {},
     "output_type": "execute_result"
    }
   ],
   "source": [
    "# overwrite x_train without Date\n",
    "x_train = x_train.drop(columns=['Date'])\n",
    "\n",
    "\n",
    "# now check\n",
    "x_train.info()\n",
    "y_train\n"
   ]
  },
  {
   "cell_type": "code",
   "execution_count": 18,
   "id": "a27bf9e5",
   "metadata": {
    "execution": {
     "iopub.execute_input": "2025-08-19T17:00:55.159821Z",
     "iopub.status.busy": "2025-08-19T17:00:55.159451Z",
     "iopub.status.idle": "2025-08-19T17:00:55.201937Z",
     "shell.execute_reply": "2025-08-19T17:00:55.200881Z"
    },
    "papermill": {
     "duration": 0.122343,
     "end_time": "2025-08-19T17:00:55.203290",
     "exception": false,
     "start_time": "2025-08-19T17:00:55.080947",
     "status": "completed"
    },
    "tags": []
   },
   "outputs": [
    {
     "name": "stdout",
     "output_type": "stream",
     "text": [
      "<class 'pandas.core.frame.DataFrame'>\n",
      "Index: 491828 entries, 1602121 to 277613\n",
      "Data columns (total 5 columns):\n",
      " #   Column  Non-Null Count   Dtype  \n",
      "---  ------  --------------   -----  \n",
      " 0   X1      491828 non-null  float64\n",
      " 1   X2      491828 non-null  float64\n",
      " 2   X3      491828 non-null  float64\n",
      " 3   X4      491828 non-null  float64\n",
      " 4   X5      491828 non-null  float64\n",
      "dtypes: float64(5)\n",
      "memory usage: 22.5 MB\n"
     ]
    },
    {
     "data": {
      "text/plain": [
       "X1    0\n",
       "X2    0\n",
       "X3    0\n",
       "X4    0\n",
       "X5    0\n",
       "dtype: int64"
      ]
     },
     "execution_count": 18,
     "metadata": {},
     "output_type": "execute_result"
    }
   ],
   "source": [
    "x_test = x_test.drop(columns=['Date'])\n",
    "\n",
    "\n",
    "# now check\n",
    "x_test.info()\n",
    "x_test.isna().sum()"
   ]
  },
  {
   "cell_type": "code",
   "execution_count": 19,
   "id": "a5e81fd8",
   "metadata": {
    "execution": {
     "iopub.execute_input": "2025-08-19T17:00:55.223974Z",
     "iopub.status.busy": "2025-08-19T17:00:55.223675Z",
     "iopub.status.idle": "2025-08-19T17:00:55.236927Z",
     "shell.execute_reply": "2025-08-19T17:00:55.235862Z"
    },
    "papermill": {
     "duration": 0.025838,
     "end_time": "2025-08-19T17:00:55.238658",
     "exception": false,
     "start_time": "2025-08-19T17:00:55.212820",
     "status": "completed"
    },
    "tags": []
   },
   "outputs": [
    {
     "data": {
      "text/html": [
       "<div>\n",
       "<style scoped>\n",
       "    .dataframe tbody tr th:only-of-type {\n",
       "        vertical-align: middle;\n",
       "    }\n",
       "\n",
       "    .dataframe tbody tr th {\n",
       "        vertical-align: top;\n",
       "    }\n",
       "\n",
       "    .dataframe thead th {\n",
       "        text-align: right;\n",
       "    }\n",
       "</style>\n",
       "<table border=\"1\" class=\"dataframe\">\n",
       "  <thead>\n",
       "    <tr style=\"text-align: right;\">\n",
       "      <th></th>\n",
       "      <th>X1</th>\n",
       "      <th>X2</th>\n",
       "      <th>X3</th>\n",
       "      <th>X4</th>\n",
       "      <th>X5</th>\n",
       "    </tr>\n",
       "  </thead>\n",
       "  <tbody>\n",
       "    <tr>\n",
       "      <th>1602121</th>\n",
       "      <td>1.049171</td>\n",
       "      <td>5.488524</td>\n",
       "      <td>1.000000e+00</td>\n",
       "      <td>1.000000</td>\n",
       "      <td>2.944439</td>\n",
       "    </tr>\n",
       "    <tr>\n",
       "      <th>936861</th>\n",
       "      <td>1.152577</td>\n",
       "      <td>5.494912</td>\n",
       "      <td>2.718282e+00</td>\n",
       "      <td>1.000000</td>\n",
       "      <td>0.000000</td>\n",
       "    </tr>\n",
       "    <tr>\n",
       "      <th>1037923</th>\n",
       "      <td>1.296930</td>\n",
       "      <td>5.483551</td>\n",
       "      <td>7.200490e+10</td>\n",
       "      <td>1.000000</td>\n",
       "      <td>0.693147</td>\n",
       "    </tr>\n",
       "    <tr>\n",
       "      <th>60641</th>\n",
       "      <td>1.271249</td>\n",
       "      <td>5.489392</td>\n",
       "      <td>1.000000e+00</td>\n",
       "      <td>1.000000</td>\n",
       "      <td>2.944439</td>\n",
       "    </tr>\n",
       "    <tr>\n",
       "      <th>94463</th>\n",
       "      <td>1.081123</td>\n",
       "      <td>5.491826</td>\n",
       "      <td>1.000000e+00</td>\n",
       "      <td>2.718282</td>\n",
       "      <td>0.000000</td>\n",
       "    </tr>\n",
       "    <tr>\n",
       "      <th>...</th>\n",
       "      <td>...</td>\n",
       "      <td>...</td>\n",
       "      <td>...</td>\n",
       "      <td>...</td>\n",
       "      <td>...</td>\n",
       "    </tr>\n",
       "    <tr>\n",
       "      <th>1543308</th>\n",
       "      <td>1.109600</td>\n",
       "      <td>5.491950</td>\n",
       "      <td>1.000000e+00</td>\n",
       "      <td>1.000000</td>\n",
       "      <td>0.693147</td>\n",
       "    </tr>\n",
       "    <tr>\n",
       "      <th>1313398</th>\n",
       "      <td>1.091988</td>\n",
       "      <td>5.484050</td>\n",
       "      <td>2.718282e+00</td>\n",
       "      <td>1.000000</td>\n",
       "      <td>2.995732</td>\n",
       "    </tr>\n",
       "    <tr>\n",
       "      <th>1169609</th>\n",
       "      <td>1.089806</td>\n",
       "      <td>5.489723</td>\n",
       "      <td>1.000000e+00</td>\n",
       "      <td>1.000000</td>\n",
       "      <td>0.000000</td>\n",
       "    </tr>\n",
       "    <tr>\n",
       "      <th>1155682</th>\n",
       "      <td>1.251071</td>\n",
       "      <td>5.472691</td>\n",
       "      <td>1.000000e+00</td>\n",
       "      <td>7.389056</td>\n",
       "      <td>2.944439</td>\n",
       "    </tr>\n",
       "    <tr>\n",
       "      <th>277613</th>\n",
       "      <td>1.125244</td>\n",
       "      <td>5.467216</td>\n",
       "      <td>2.718282e+00</td>\n",
       "      <td>1.000000</td>\n",
       "      <td>2.890372</td>\n",
       "    </tr>\n",
       "  </tbody>\n",
       "</table>\n",
       "<p>491828 rows × 5 columns</p>\n",
       "</div>"
      ],
      "text/plain": [
       "               X1        X2            X3        X4        X5\n",
       "1602121  1.049171  5.488524  1.000000e+00  1.000000  2.944439\n",
       "936861   1.152577  5.494912  2.718282e+00  1.000000  0.000000\n",
       "1037923  1.296930  5.483551  7.200490e+10  1.000000  0.693147\n",
       "60641    1.271249  5.489392  1.000000e+00  1.000000  2.944439\n",
       "94463    1.081123  5.491826  1.000000e+00  2.718282  0.000000\n",
       "...           ...       ...           ...       ...       ...\n",
       "1543308  1.109600  5.491950  1.000000e+00  1.000000  0.693147\n",
       "1313398  1.091988  5.484050  2.718282e+00  1.000000  2.995732\n",
       "1169609  1.089806  5.489723  1.000000e+00  1.000000  0.000000\n",
       "1155682  1.251071  5.472691  1.000000e+00  7.389056  2.944439\n",
       "277613   1.125244  5.467216  2.718282e+00  1.000000  2.890372\n",
       "\n",
       "[491828 rows x 5 columns]"
      ]
     },
     "execution_count": 19,
     "metadata": {},
     "output_type": "execute_result"
    }
   ],
   "source": [
    "x_test"
   ]
  },
  {
   "cell_type": "code",
   "execution_count": 20,
   "id": "8e7546ec",
   "metadata": {
    "execution": {
     "iopub.execute_input": "2025-08-19T17:00:55.263973Z",
     "iopub.status.busy": "2025-08-19T17:00:55.263618Z",
     "iopub.status.idle": "2025-08-19T17:00:55.569327Z",
     "shell.execute_reply": "2025-08-19T17:00:55.567817Z"
    },
    "papermill": {
     "duration": 0.321427,
     "end_time": "2025-08-19T17:00:55.571813",
     "exception": false,
     "start_time": "2025-08-19T17:00:55.250386",
     "status": "completed"
    },
    "tags": []
   },
   "outputs": [
    {
     "name": "stdout",
     "output_type": "stream",
     "text": [
      "Train shape: (1147596, 5)\n",
      "Test shape: (491828, 5)\n",
      "<class 'pandas.core.frame.DataFrame'>\n",
      "Index: 491828 entries, 1602121 to 277613\n",
      "Data columns (total 5 columns):\n",
      " #   Column  Non-Null Count   Dtype  \n",
      "---  ------  --------------   -----  \n",
      " 0   X1      491828 non-null  float64\n",
      " 1   X2      491828 non-null  float64\n",
      " 2   X3      491828 non-null  float64\n",
      " 3   X4      491828 non-null  float64\n",
      " 4   X5      491828 non-null  float64\n",
      "dtypes: float64(5)\n",
      "memory usage: 22.5 MB\n"
     ]
    }
   ],
   "source": [
    "import numpy as np\n",
    "import pandas as pd\n",
    "from sklearn.preprocessing import StandardScaler\n",
    "\n",
    "\n",
    "\n",
    "\n",
    "\n",
    "# 🔹 Select only numeric columns for scaling\n",
    "numeric_features = x_train.select_dtypes(include=[np.number]).columns\n",
    "\n",
    "scaler = StandardScaler()\n",
    "\n",
    "# Fit on train numeric columns\n",
    "X_train_norm = x_train.copy()\n",
    "X_test_norm = x_test.copy()\n",
    "\n",
    "X_train_norm[numeric_features] = scaler.fit_transform(x_train[numeric_features])\n",
    "X_test_norm[numeric_features]  = scaler.transform(x_test[numeric_features])\n",
    "\n",
    "print(\"Train shape:\", X_train_norm.shape)\n",
    "print(\"Test shape:\", X_test_norm.shape)\n",
    "X_test_norm.info()\n"
   ]
  },
  {
   "cell_type": "code",
   "execution_count": 21,
   "id": "1c2fc1d8",
   "metadata": {
    "execution": {
     "iopub.execute_input": "2025-08-19T17:00:55.608083Z",
     "iopub.status.busy": "2025-08-19T17:00:55.607074Z",
     "iopub.status.idle": "2025-08-19T17:00:56.223520Z",
     "shell.execute_reply": "2025-08-19T17:00:56.222689Z"
    },
    "papermill": {
     "duration": 0.631477,
     "end_time": "2025-08-19T17:00:56.225031",
     "exception": false,
     "start_time": "2025-08-19T17:00:55.593554",
     "status": "completed"
    },
    "tags": []
   },
   "outputs": [
    {
     "data": {
      "image/png": "[encoded data removed]",
      "text/plain": [
       "<Figure size 1500x1500 with 1 Axes>"
      ]
     },
     "metadata": {},
     "output_type": "display_data"
    }
   ],
   "source": [
    "fig, ax = plt.subplots(figsize=(15,15))\n",
    "sns.boxplot(data = X_test_norm, ax=ax)\n",
    "plt.savefig(\"boxPlotTestData.jpg\")"
   ]
  },
  {
   "cell_type": "code",
   "execution_count": 22,
   "id": "2a41b337",
   "metadata": {
    "execution": {
     "iopub.execute_input": "2025-08-19T17:00:56.247203Z",
     "iopub.status.busy": "2025-08-19T17:00:56.246858Z",
     "iopub.status.idle": "2025-08-19T17:00:56.251558Z",
     "shell.execute_reply": "2025-08-19T17:00:56.250601Z"
    },
    "papermill": {
     "duration": 0.0173,
     "end_time": "2025-08-19T17:00:56.253161",
     "exception": false,
     "start_time": "2025-08-19T17:00:56.235861",
     "status": "completed"
    },
    "tags": []
   },
   "outputs": [],
   "source": [
    "X_train_norm.reset_index(drop=True, inplace=True)\n",
    "y_train.reset_index(drop=True, inplace=True)"
   ]
  },
  {
   "cell_type": "code",
   "execution_count": 23,
   "id": "9b51fbc4",
   "metadata": {
    "execution": {
     "iopub.execute_input": "2025-08-19T17:00:56.275165Z",
     "iopub.status.busy": "2025-08-19T17:00:56.274791Z",
     "iopub.status.idle": "2025-08-19T17:00:56.367767Z",
     "shell.execute_reply": "2025-08-19T17:00:56.366626Z"
    },
    "papermill": {
     "duration": 0.1058,
     "end_time": "2025-08-19T17:00:56.369448",
     "exception": false,
     "start_time": "2025-08-19T17:00:56.263648",
     "status": "completed"
    },
    "tags": []
   },
   "outputs": [
    {
     "name": "stdout",
     "output_type": "stream",
     "text": [
      "<class 'pandas.core.frame.DataFrame'>\n",
      "RangeIndex: 1147596 entries, 0 to 1147595\n",
      "Data columns (total 1 columns):\n",
      " #   Column  Non-Null Count    Dtype \n",
      "---  ------  --------------    ----- \n",
      " 0   target  1147596 non-null  object\n",
      "dtypes: object(1)\n",
      "memory usage: 8.8+ MB\n",
      "<class 'pandas.core.frame.DataFrame'>\n",
      "RangeIndex: 1147596 entries, 0 to 1147595\n",
      "Data columns (total 5 columns):\n",
      " #   Column  Non-Null Count    Dtype  \n",
      "---  ------  --------------    -----  \n",
      " 0   X1      1147596 non-null  float64\n",
      " 1   X2      1147596 non-null  float64\n",
      " 2   X3      1147596 non-null  float64\n",
      " 3   X4      1147596 non-null  float64\n",
      " 4   X5      1147596 non-null  float64\n",
      "dtypes: float64(5)\n",
      "memory usage: 43.8 MB\n"
     ]
    }
   ],
   "source": [
    "y_train.info()\n",
    "X_train_norm.info()"
   ]
  },
  {
   "cell_type": "code",
   "execution_count": 24,
   "id": "c4a5b169",
   "metadata": {
    "execution": {
     "iopub.execute_input": "2025-08-19T17:00:56.392214Z",
     "iopub.status.busy": "2025-08-19T17:00:56.391801Z",
     "iopub.status.idle": "2025-08-19T17:00:58.777676Z",
     "shell.execute_reply": "2025-08-19T17:00:58.776559Z"
    },
    "papermill": {
     "duration": 2.399311,
     "end_time": "2025-08-19T17:00:58.779543",
     "exception": false,
     "start_time": "2025-08-19T17:00:56.380232",
     "status": "completed"
    },
    "tags": []
   },
   "outputs": [],
   "source": [
    "import seaborn as sns\n",
    "import plotly.express as px\n",
    "import matplotlib.pyplot as plt\n",
    "import plotly.figure_factory as ff\n",
    "from plotly.subplots import make_subplots"
   ]
  },
  {
   "cell_type": "code",
   "execution_count": 25,
   "id": "7a8dbd4d",
   "metadata": {
    "execution": {
     "iopub.execute_input": "2025-08-19T17:00:58.806019Z",
     "iopub.status.busy": "2025-08-19T17:00:58.804950Z",
     "iopub.status.idle": "2025-08-19T17:01:00.571876Z",
     "shell.execute_reply": "2025-08-19T17:01:00.571038Z"
    },
    "papermill": {
     "duration": 1.781656,
     "end_time": "2025-08-19T17:01:00.573345",
     "exception": false,
     "start_time": "2025-08-19T17:00:58.791689",
     "status": "completed"
    },
    "tags": []
   },
   "outputs": [
    {
     "name": "stdout",
     "output_type": "stream",
     "text": [
      "Positive: 9892\n",
      "Negative: 1137704\n"
     ]
    },
    {
     "data": {
      "text/html": [
       "<html>\n",
       "<head><meta charset=\"utf-8\" /></head>\n",
       "<body>\n",
       "    <div>            <script src=\"https://cdnjs.cloudflare.com/ajax/libs/mathjax/2.7.5/MathJax.js?config=TeX-AMS-MML_SVG\"></script><script type=\"text/javascript\">if (window.MathJax && window.MathJax.Hub && window.MathJax.Hub.Config) {window.MathJax.Hub.Config({SVG: {font: \"STIX-Web\"}});}</script>                <script type=\"text/javascript\">window.PlotlyConfig = {MathJaxConfig: 'local'};</script>\n",
       "        <script charset=\"utf-8\" src=\"https://cdn.plot.ly/plotly-2.35.2.min.js\"></script>                <div id=\"5ffc5e14-b4c2-4aee-b177-faa70bcf6e40\" class=\"plotly-graph-div\" style=\"height:525px; width:100%;\"></div>            <script type=\"text/javascript\">                                    window.PLOTLYENV=window.PLOTLYENV || {};                                    if (document.getElementById(\"5ffc5e14-b4c2-4aee-b177-faa70bcf6e40\")) {                    Plotly.newPlot(                        \"5ffc5e14-b4c2-4aee-b177-faa70bcf6e40\",                        [{\"domain\":{\"x\":[0.0,1.0],\"y\":[0.0,1.0]},\"hovertemplate\":\"label=%{label}\\u003cbr\\u003evalue=%{value}\\u003cextra\\u003e\\u003c\\u002fextra\\u003e\",\"labels\":[\"Positive (1)\",\"Negative (0)\"],\"legendgroup\":\"\",\"name\":\"\",\"opacity\":0.9,\"showlegend\":true,\"values\":[9892,1137704],\"type\":\"pie\"}],                        {\"template\":{\"data\":{\"barpolar\":[{\"marker\":{\"line\":{\"color\":\"white\",\"width\":0.5},\"pattern\":{\"fillmode\":\"overlay\",\"size\":10,\"solidity\":0.2}},\"type\":\"barpolar\"}],\"bar\":[{\"error_x\":{\"color\":\"rgb(36,36,36)\"},\"error_y\":{\"color\":\"rgb(36,36,36)\"},\"marker\":{\"line\":{\"color\":\"white\",\"width\":0.5},\"pattern\":{\"fillmode\":\"overlay\",\"size\":10,\"solidity\":0.2}},\"type\":\"bar\"}],\"carpet\":[{\"aaxis\":{\"endlinecolor\":\"rgb(36,36,36)\",\"gridcolor\":\"white\",\"linecolor\":\"white\",\"minorgridcolor\":\"white\",\"startlinecolor\":\"rgb(36,36,36)\"},\"baxis\":{\"endlinecolor\":\"rgb(36,36,36)\",\"gridcolor\":\"white\",\"linecolor\":\"white\",\"minorgridcolor\":\"white\",\"startlinecolor\":\"rgb(36,36,36)\"},\"type\":\"carpet\"}],\"choropleth\":[{\"colorbar\":{\"outlinewidth\":1,\"tickcolor\":\"rgb(36,36,36)\",\"ticks\":\"outside\"},\"type\":\"choropleth\"}],\"contourcarpet\":[{\"colorbar\":{\"outlinewidth\":1,\"tickcolor\":\"rgb(36,36,36)\",\"ticks\":\"outside\"},\"type\":\"contourcarpet\"}],\"contour\":[{\"colorbar\":{\"outlinewidth\":1,\"tickcolor\":\"rgb(36,36,36)\",\"ticks\":\"outside\"},\"colorscale\":[[0.0,\"#440154\"],[0.1111111111111111,\"#482878\"],[0.2222222222222222,\"#3e4989\"],[0.3333333333333333,\"#31688e\"],[0.4444444444444444,\"#26828e\"],[0.5555555555555556,\"#1f9e89\"],[0.6666666666666666,\"#35b779\"],[0.7777777777777778,\"#6ece58\"],[0.8888888888888888,\"#b5de2b\"],[1.0,\"#fde725\"]],\"type\":\"contour\"}],\"heatmapgl\":[{\"colorbar\":{\"outlinewidth\":1,\"tickcolor\":\"rgb(36,36,36)\",\"ticks\":\"outside\"},\"colorscale\":[[0.0,\"#440154\"],[0.1111111111111111,\"#482878\"],[0.2222222222222222,\"#3e4989\"],[0.3333333333333333,\"#31688e\"],[0.4444444444444444,\"#26828e\"],[0.5555555555555556,\"#1f9e89\"],[0.6666666666666666,\"#35b779\"],[0.7777777777777778,\"#6ece58\"],[0.8888888888888888,\"#b5de2b\"],[1.0,\"#fde725\"]],\"type\":\"heatmapgl\"}],\"heatmap\":[{\"colorbar\":{\"outlinewidth\":1,\"tickcolor\":\"rgb(36,36,36)\",\"ticks\":\"outside\"},\"colorscale\":[[0.0,\"#440154\"],[0.1111111111111111,\"#482878\"],[0.2222222222222222,\"#3e4989\"],[0.3333333333333333,\"#31688e\"],[0.4444444444444444,\"#26828e\"],[0.5555555555555556,\"#1f9e89\"],[0.6666666666666666,\"#35b779\"],[0.7777777777777778,\"#6ece58\"],[0.8888888888888888,\"#b5de2b\"],[1.0,\"#fde725\"]],\"type\":\"heatmap\"}],\"histogram2dcontour\":[{\"colorbar\":{\"outlinewidth\":1,\"tickcolor\":\"rgb(36,36,36)\",\"ticks\":\"outside\"},\"colorscale\":[[0.0,\"#440154\"],[0.1111111111111111,\"#482878\"],[0.2222222222222222,\"#3e4989\"],[0.3333333333333333,\"#31688e\"],[0.4444444444444444,\"#26828e\"],[0.5555555555555556,\"#1f9e89\"],[0.6666666666666666,\"#35b779\"],[0.7777777777777778,\"#6ece58\"],[0.8888888888888888,\"#b5de2b\"],[1.0,\"#fde725\"]],\"type\":\"histogram2dcontour\"}],\"histogram2d\":[{\"colorbar\":{\"outlinewidth\":1,\"tickcolor\":\"rgb(36,36,36)\",\"ticks\":\"outside\"},\"colorscale\":[[0.0,\"#440154\"],[0.1111111111111111,\"#482878\"],[0.2222222222222222,\"#3e4989\"],[0.3333333333333333,\"#31688e\"],[0.4444444444444444,\"#26828e\"],[0.5555555555555556,\"#1f9e89\"],[0.6666666666666666,\"#35b779\"],[0.7777777777777778,\"#6ece58\"],[0.8888888888888888,\"#b5de2b\"],[1.0,\"#fde725\"]],\"type\":\"histogram2d\"}],\"histogram\":[{\"marker\":{\"line\":{\"color\":\"white\",\"width\":0.6}},\"type\":\"histogram\"}],\"mesh3d\":[{\"colorbar\":{\"outlinewidth\":1,\"tickcolor\":\"rgb(36,36,36)\",\"ticks\":\"outside\"},\"type\":\"mesh3d\"}],\"parcoords\":[{\"line\":{\"colorbar\":{\"outlinewidth\":1,\"tickcolor\":\"rgb(36,36,36)\",\"ticks\":\"outside\"}},\"type\":\"parcoords\"}],\"pie\":[{\"automargin\":true,\"type\":\"pie\"}],\"scatter3d\":[{\"line\":{\"colorbar\":{\"outlinewidth\":1,\"tickcolor\":\"rgb(36,36,36)\",\"ticks\":\"outside\"}},\"marker\":{\"colorbar\":{\"outlinewidth\":1,\"tickcolor\":\"rgb(36,36,36)\",\"ticks\":\"outside\"}},\"type\":\"scatter3d\"}],\"scattercarpet\":[{\"marker\":{\"colorbar\":{\"outlinewidth\":1,\"tickcolor\":\"rgb(36,36,36)\",\"ticks\":\"outside\"}},\"type\":\"scattercarpet\"}],\"scattergeo\":[{\"marker\":{\"colorbar\":{\"outlinewidth\":1,\"tickcolor\":\"rgb(36,36,36)\",\"ticks\":\"outside\"}},\"type\":\"scattergeo\"}],\"scattergl\":[{\"marker\":{\"colorbar\":{\"outlinewidth\":1,\"tickcolor\":\"rgb(36,36,36)\",\"ticks\":\"outside\"}},\"type\":\"scattergl\"}],\"scattermapbox\":[{\"marker\":{\"colorbar\":{\"outlinewidth\":1,\"tickcolor\":\"rgb(36,36,36)\",\"ticks\":\"outside\"}},\"type\":\"scattermapbox\"}],\"scatterpolargl\":[{\"marker\":{\"colorbar\":{\"outlinewidth\":1,\"tickcolor\":\"rgb(36,36,36)\",\"ticks\":\"outside\"}},\"type\":\"scatterpolargl\"}],\"scatterpolar\":[{\"marker\":{\"colorbar\":{\"outlinewidth\":1,\"tickcolor\":\"rgb(36,36,36)\",\"ticks\":\"outside\"}},\"type\":\"scatterpolar\"}],\"scatter\":[{\"fillpattern\":{\"fillmode\":\"overlay\",\"size\":10,\"solidity\":0.2},\"type\":\"scatter\"}],\"scatterternary\":[{\"marker\":{\"colorbar\":{\"outlinewidth\":1,\"tickcolor\":\"rgb(36,36,36)\",\"ticks\":\"outside\"}},\"type\":\"scatterternary\"}],\"surface\":[{\"colorbar\":{\"outlinewidth\":1,\"tickcolor\":\"rgb(36,36,36)\",\"ticks\":\"outside\"},\"colorscale\":[[0.0,\"#440154\"],[0.1111111111111111,\"#482878\"],[0.2222222222222222,\"#3e4989\"],[0.3333333333333333,\"#31688e\"],[0.4444444444444444,\"#26828e\"],[0.5555555555555556,\"#1f9e89\"],[0.6666666666666666,\"#35b779\"],[0.7777777777777778,\"#6ece58\"],[0.8888888888888888,\"#b5de2b\"],[1.0,\"#fde725\"]],\"type\":\"surface\"}],\"table\":[{\"cells\":{\"fill\":{\"color\":\"rgb(237,237,237)\"},\"line\":{\"color\":\"white\"}},\"header\":{\"fill\":{\"color\":\"rgb(217,217,217)\"},\"line\":{\"color\":\"white\"}},\"type\":\"table\"}]},\"layout\":{\"annotationdefaults\":{\"arrowhead\":0,\"arrowwidth\":1},\"autotypenumbers\":\"strict\",\"coloraxis\":{\"colorbar\":{\"outlinewidth\":1,\"tickcolor\":\"rgb(36,36,36)\",\"ticks\":\"outside\"}},\"colorscale\":{\"diverging\":[[0.0,\"rgb(103,0,31)\"],[0.1,\"rgb(178,24,43)\"],[0.2,\"rgb(214,96,77)\"],[0.3,\"rgb(244,165,130)\"],[0.4,\"rgb(253,219,199)\"],[0.5,\"rgb(247,247,247)\"],[0.6,\"rgb(209,229,240)\"],[0.7,\"rgb(146,197,222)\"],[0.8,\"rgb(67,147,195)\"],[0.9,\"rgb(33,102,172)\"],[1.0,\"rgb(5,48,97)\"]],\"sequential\":[[0.0,\"#440154\"],[0.1111111111111111,\"#482878\"],[0.2222222222222222,\"#3e4989\"],[0.3333333333333333,\"#31688e\"],[0.4444444444444444,\"#26828e\"],[0.5555555555555556,\"#1f9e89\"],[0.6666666666666666,\"#35b779\"],[0.7777777777777778,\"#6ece58\"],[0.8888888888888888,\"#b5de2b\"],[1.0,\"#fde725\"]],\"sequentialminus\":[[0.0,\"#440154\"],[0.1111111111111111,\"#482878\"],[0.2222222222222222,\"#3e4989\"],[0.3333333333333333,\"#31688e\"],[0.4444444444444444,\"#26828e\"],[0.5555555555555556,\"#1f9e89\"],[0.6666666666666666,\"#35b779\"],[0.7777777777777778,\"#6ece58\"],[0.8888888888888888,\"#b5de2b\"],[1.0,\"#fde725\"]]},\"colorway\":[\"#1F77B4\",\"#FF7F0E\",\"#2CA02C\",\"#D62728\",\"#9467BD\",\"#8C564B\",\"#E377C2\",\"#7F7F7F\",\"#BCBD22\",\"#17BECF\"],\"font\":{\"color\":\"rgb(36,36,36)\"},\"geo\":{\"bgcolor\":\"white\",\"lakecolor\":\"white\",\"landcolor\":\"white\",\"showlakes\":true,\"showland\":true,\"subunitcolor\":\"white\"},\"hoverlabel\":{\"align\":\"left\"},\"hovermode\":\"closest\",\"mapbox\":{\"style\":\"light\"},\"paper_bgcolor\":\"white\",\"plot_bgcolor\":\"white\",\"polar\":{\"angularaxis\":{\"gridcolor\":\"rgb(232,232,232)\",\"linecolor\":\"rgb(36,36,36)\",\"showgrid\":false,\"showline\":true,\"ticks\":\"outside\"},\"bgcolor\":\"white\",\"radialaxis\":{\"gridcolor\":\"rgb(232,232,232)\",\"linecolor\":\"rgb(36,36,36)\",\"showgrid\":false,\"showline\":true,\"ticks\":\"outside\"}},\"scene\":{\"xaxis\":{\"backgroundcolor\":\"white\",\"gridcolor\":\"rgb(232,232,232)\",\"gridwidth\":2,\"linecolor\":\"rgb(36,36,36)\",\"showbackground\":true,\"showgrid\":false,\"showline\":true,\"ticks\":\"outside\",\"zeroline\":false,\"zerolinecolor\":\"rgb(36,36,36)\"},\"yaxis\":{\"backgroundcolor\":\"white\",\"gridcolor\":\"rgb(232,232,232)\",\"gridwidth\":2,\"linecolor\":\"rgb(36,36,36)\",\"showbackground\":true,\"showgrid\":false,\"showline\":true,\"ticks\":\"outside\",\"zeroline\":false,\"zerolinecolor\":\"rgb(36,36,36)\"},\"zaxis\":{\"backgroundcolor\":\"white\",\"gridcolor\":\"rgb(232,232,232)\",\"gridwidth\":2,\"linecolor\":\"rgb(36,36,36)\",\"showbackground\":true,\"showgrid\":false,\"showline\":true,\"ticks\":\"outside\",\"zeroline\":false,\"zerolinecolor\":\"rgb(36,36,36)\"}},\"shapedefaults\":{\"fillcolor\":\"black\",\"line\":{\"width\":0},\"opacity\":0.3},\"ternary\":{\"aaxis\":{\"gridcolor\":\"rgb(232,232,232)\",\"linecolor\":\"rgb(36,36,36)\",\"showgrid\":false,\"showline\":true,\"ticks\":\"outside\"},\"baxis\":{\"gridcolor\":\"rgb(232,232,232)\",\"linecolor\":\"rgb(36,36,36)\",\"showgrid\":false,\"showline\":true,\"ticks\":\"outside\"},\"bgcolor\":\"white\",\"caxis\":{\"gridcolor\":\"rgb(232,232,232)\",\"linecolor\":\"rgb(36,36,36)\",\"showgrid\":false,\"showline\":true,\"ticks\":\"outside\"}},\"title\":{\"x\":0.05},\"xaxis\":{\"automargin\":true,\"gridcolor\":\"rgb(232,232,232)\",\"linecolor\":\"rgb(36,36,36)\",\"showgrid\":false,\"showline\":true,\"ticks\":\"outside\",\"title\":{\"standoff\":15},\"zeroline\":false,\"zerolinecolor\":\"rgb(36,36,36)\"},\"yaxis\":{\"automargin\":true,\"gridcolor\":\"rgb(232,232,232)\",\"linecolor\":\"rgb(36,36,36)\",\"showgrid\":false,\"showline\":true,\"ticks\":\"outside\",\"title\":{\"standoff\":15},\"zeroline\":false,\"zerolinecolor\":\"rgb(36,36,36)\"}}},\"legend\":{\"tracegroupgap\":0},\"title\":{\"text\":\"Distribution\"}},                        {\"responsive\": true}                    ).then(function(){\n",
       "                            \n",
       "var gd = document.getElementById('5ffc5e14-b4c2-4aee-b177-faa70bcf6e40');\n",
       "var x = new MutationObserver(function (mutations, observer) {{\n",
       "        var display = window.getComputedStyle(gd).display;\n",
       "        if (!display || display === 'none') {{\n",
       "            console.log([gd, 'removed!']);\n",
       "            Plotly.purge(gd);\n",
       "            observer.disconnect();\n",
       "        }}\n",
       "}});\n",
       "\n",
       "// Listen for the removal of the full notebook cells\n",
       "var notebookContainer = gd.closest('#notebook-container');\n",
       "if (notebookContainer) {{\n",
       "    x.observe(notebookContainer, {childList: true});\n",
       "}}\n",
       "\n",
       "// Listen for the clearing of the current output cell\n",
       "var outputEl = gd.closest('.output');\n",
       "if (outputEl) {{\n",
       "    x.observe(outputEl, {childList: true});\n",
       "}}\n",
       "\n",
       "                        })                };                            </script>        </div>\n",
       "</body>\n",
       "</html>"
      ]
     },
     "metadata": {},
     "output_type": "display_data"
    }
   ],
   "source": [
    "import pandas as pd\n",
    "import plotly.express as px\n",
    "\n",
    "# Convert Series to DataFrame\n",
    "y_train_df = y_train\n",
    "\n",
    "# Make sure target column is integer (not object/string)\n",
    "y_train_df['target'] = y_train_df['target'].astype(int)\n",
    "\n",
    "# Count positive and negative tweets\n",
    "one_count = y_train_df[y_train_df['target'] == 1].shape[0]\n",
    "zero_count = y_train_df[y_train_df['target'] == 0].shape[0]\n",
    "\n",
    "print(\"Positive:\", one_count)\n",
    "print(\"Negative:\", zero_count)\n",
    "\n",
    "# Pie chart\n",
    "fig = px.pie(\n",
    "    values=[one_count, zero_count],\n",
    "    names=['Positive (1)', 'Negative (0)'],\n",
    "    title='Distribution',\n",
    "    opacity=0.9,\n",
    "    template='simple_white'\n",
    ")\n",
    "fig.show()\n"
   ]
  },
  {
   "cell_type": "code",
   "execution_count": 26,
   "id": "69b0a12e",
   "metadata": {
    "execution": {
     "iopub.execute_input": "2025-08-19T17:01:00.596131Z",
     "iopub.status.busy": "2025-08-19T17:01:00.595813Z",
     "iopub.status.idle": "2025-08-19T17:01:01.152061Z",
     "shell.execute_reply": "2025-08-19T17:01:01.150918Z"
    },
    "papermill": {
     "duration": 0.569769,
     "end_time": "2025-08-19T17:01:01.154020",
     "exception": false,
     "start_time": "2025-08-19T17:01:00.584251",
     "status": "completed"
    },
    "tags": []
   },
   "outputs": [
    {
     "name": "stdout",
     "output_type": "stream",
     "text": [
      "\n",
      "Resampled class distribution:\n",
      "0    1137704\n",
      "1    1137704\n",
      "Name: count, dtype: int64\n"
     ]
    }
   ],
   "source": [
    "from imblearn.over_sampling import SMOTE\n",
    "\n",
    "# Apply SMOTE\n",
    "smote = SMOTE(random_state=42)\n",
    "X_train_resampled, y_train_resampled = smote.fit_resample(x_train, y_train)\n",
    "\n",
    "# Convert to 1D array\n",
    "y_train_resampled = y_train_resampled.values.ravel()   # works even if DataFrame\n",
    "\n",
    "# Check resampled class distribution\n",
    "print(\"\\nResampled class distribution:\")\n",
    "print(pd.Series(y_train_resampled).value_counts())\n"
   ]
  },
  {
   "cell_type": "code",
   "execution_count": 27,
   "id": "f0fdbd1b",
   "metadata": {
    "execution": {
     "iopub.execute_input": "2025-08-19T17:01:01.176961Z",
     "iopub.status.busy": "2025-08-19T17:01:01.176638Z",
     "iopub.status.idle": "2025-08-19T17:01:01.578737Z",
     "shell.execute_reply": "2025-08-19T17:01:01.577254Z"
    },
    "papermill": {
     "duration": 0.416069,
     "end_time": "2025-08-19T17:01:01.581031",
     "exception": false,
     "start_time": "2025-08-19T17:01:01.164962",
     "status": "completed"
    },
    "tags": []
   },
   "outputs": [],
   "source": [
    "from sklearn.metrics import classification_report, ConfusionMatrixDisplay\n",
    "from sklearn.model_selection import train_test_split, RandomizedSearchCV, GridSearchCV\n",
    "import xgboost as xgb"
   ]
  },
  {
   "cell_type": "code",
   "execution_count": 28,
   "id": "f925f3a2",
   "metadata": {
    "execution": {
     "iopub.execute_input": "2025-08-19T17:01:01.605334Z",
     "iopub.status.busy": "2025-08-19T17:01:01.604996Z",
     "iopub.status.idle": "2025-08-19T17:01:01.610439Z",
     "shell.execute_reply": "2025-08-19T17:01:01.609483Z"
    },
    "papermill": {
     "duration": 0.019676,
     "end_time": "2025-08-19T17:01:01.612261",
     "exception": false,
     "start_time": "2025-08-19T17:01:01.592585",
     "status": "completed"
    },
    "tags": []
   },
   "outputs": [],
   "source": [
    "xgb_model = xgb.XGBClassifier(\n",
    "    objective=\"binary:logistic\",  \n",
    "    eval_metric=\"logloss\",  \n",
    "    use_label_encoder=False,  \n",
    "    n_estimators=200,  \n",
    "    max_depth=6,  \n",
    "    learning_rate=0.05,  \n",
    "    subsample=0.8,  \n",
    "    colsample_bytree=0.8,  \n",
    "    random_state=42,  \n",
    "    tree_method=\"hist\",\n",
    "    device=\"gpu\"\n",
    ")"
   ]
  },
  {
   "cell_type": "code",
   "execution_count": 29,
   "id": "c6356c04",
   "metadata": {
    "execution": {
     "iopub.execute_input": "2025-08-19T17:01:01.635390Z",
     "iopub.status.busy": "2025-08-19T17:01:01.635044Z",
     "iopub.status.idle": "2025-08-19T17:01:01.642954Z",
     "shell.execute_reply": "2025-08-19T17:01:01.641877Z"
    },
    "papermill": {
     "duration": 0.021129,
     "end_time": "2025-08-19T17:01:01.644667",
     "exception": false,
     "start_time": "2025-08-19T17:01:01.623538",
     "status": "completed"
    },
    "tags": []
   },
   "outputs": [],
   "source": [
    "param_grid = {\n",
    "    'n_estimators': [100, 200, 500],\n",
    "    'max_depth': [3, 5, 7, 10],\n",
    "    'learning_rate': [0.01, 0.05, 0.1, 0.2],\n",
    "    'subsample': [0.6, 0.8, 1.0],\n",
    "    'colsample_bytree': [0.6, 0.8, 1.0],\n",
    "    'gamma': [0, 0.1, 0.2, 0.3],\n",
    "    'min_child_weight': [1, 3, 5],\n",
    "    'lambda': [0, 1, 5]\n",
    "}"
   ]
  },
  {
   "cell_type": "code",
   "execution_count": 30,
   "id": "ceeb05c3",
   "metadata": {
    "execution": {
     "iopub.execute_input": "2025-08-19T17:01:01.668667Z",
     "iopub.status.busy": "2025-08-19T17:01:01.668324Z",
     "iopub.status.idle": "2025-08-19T17:01:01.674322Z",
     "shell.execute_reply": "2025-08-19T17:01:01.673336Z"
    },
    "papermill": {
     "duration": 0.020266,
     "end_time": "2025-08-19T17:01:01.675968",
     "exception": false,
     "start_time": "2025-08-19T17:01:01.655702",
     "status": "completed"
    },
    "tags": []
   },
   "outputs": [],
   "source": [
    "r_model = RandomizedSearchCV(\n",
    "    xgb.XGBClassifier(\n",
    "        objective=\"binary:logistic\", \n",
    "        eval_metric=\"logloss\", \n",
    "        use_label_encoder=False,\n",
    "        tree_method=\"hist\",\n",
    "        device=\"gpu\"\n",
    "    ),\n",
    "    param_distributions=param_grid,\n",
    "    n_iter=20,\n",
    "    scoring='f1',\n",
    "    cv=3,\n",
    "    verbose=1,\n",
    "    n_jobs=-1\n",
    ")"
   ]
  },
  {
   "cell_type": "code",
   "execution_count": 31,
   "id": "e45f7190",
   "metadata": {
    "execution": {
     "iopub.execute_input": "2025-08-19T17:01:01.701868Z",
     "iopub.status.busy": "2025-08-19T17:01:01.701552Z",
     "iopub.status.idle": "2025-08-19T17:20:18.078364Z",
     "shell.execute_reply": "2025-08-19T17:20:18.077240Z"
    },
    "papermill": {
     "duration": 1156.406089,
     "end_time": "2025-08-19T17:20:18.094483",
     "exception": false,
     "start_time": "2025-08-19T17:01:01.688394",
     "status": "completed"
    },
    "tags": []
   },
   "outputs": [
    {
     "name": "stdout",
     "output_type": "stream",
     "text": [
      "Fitting 3 folds for each of 20 candidates, totalling 60 fits\n"
     ]
    },
    {
     "name": "stderr",
     "output_type": "stream",
     "text": [
      "/usr/local/lib/python3.11/dist-packages/xgboost/core.py:160: UserWarning: [17:01:06] WARNING: /workspace/src/context.cc:44: No visible GPU is found, setting device to CPU.\n",
      "  warnings.warn(smsg, UserWarning)\n",
      "/usr/local/lib/python3.11/dist-packages/xgboost/core.py:160: UserWarning: [17:01:06] WARNING: /workspace/src/context.cc:44: No visible GPU is found, setting device to CPU.\n",
      "  warnings.warn(smsg, UserWarning)\n",
      "/usr/local/lib/python3.11/dist-packages/xgboost/core.py:160: UserWarning: [17:01:06] WARNING: /workspace/src/context.cc:44: No visible GPU is found, setting device to CPU.\n",
      "  warnings.warn(smsg, UserWarning)\n",
      "/usr/local/lib/python3.11/dist-packages/xgboost/core.py:160: UserWarning: [17:01:06] WARNING: /workspace/src/context.cc:44: No visible GPU is found, setting device to CPU.\n",
      "  warnings.warn(smsg, UserWarning)\n",
      "/usr/local/lib/python3.11/dist-packages/xgboost/core.py:160: UserWarning: [17:02:19] WARNING: /workspace/src/context.cc:44: No visible GPU is found, setting device to CPU.\n",
      "  warnings.warn(smsg, UserWarning)\n",
      "/usr/local/lib/python3.11/dist-packages/xgboost/core.py:160: UserWarning: [17:03:30] WARNING: /workspace/src/context.cc:44: No visible GPU is found, setting device to CPU.\n",
      "  warnings.warn(smsg, UserWarning)\n",
      "/usr/local/lib/python3.11/dist-packages/xgboost/core.py:160: UserWarning: [17:04:01] WARNING: /workspace/src/context.cc:44: No visible GPU is found, setting device to CPU.\n",
      "  warnings.warn(smsg, UserWarning)\n",
      "/usr/local/lib/python3.11/dist-packages/xgboost/core.py:160: UserWarning: [17:04:01] WARNING: /workspace/src/context.cc:44: No visible GPU is found, setting device to CPU.\n",
      "  warnings.warn(smsg, UserWarning)\n",
      "/usr/local/lib/python3.11/dist-packages/xgboost/core.py:160: UserWarning: [17:04:03] WARNING: /workspace/src/context.cc:44: No visible GPU is found, setting device to CPU.\n",
      "  warnings.warn(smsg, UserWarning)\n",
      "/usr/local/lib/python3.11/dist-packages/xgboost/core.py:160: UserWarning: [17:04:39] WARNING: /workspace/src/context.cc:44: No visible GPU is found, setting device to CPU.\n",
      "  warnings.warn(smsg, UserWarning)\n",
      "/usr/local/lib/python3.11/dist-packages/xgboost/core.py:160: UserWarning: [17:05:15] WARNING: /workspace/src/context.cc:44: No visible GPU is found, setting device to CPU.\n",
      "  warnings.warn(smsg, UserWarning)\n",
      "/usr/local/lib/python3.11/dist-packages/xgboost/core.py:160: UserWarning: [17:05:50] WARNING: /workspace/src/context.cc:44: No visible GPU is found, setting device to CPU.\n",
      "  warnings.warn(smsg, UserWarning)\n",
      "/usr/local/lib/python3.11/dist-packages/xgboost/core.py:160: UserWarning: [17:06:23] WARNING: /workspace/src/context.cc:44: No visible GPU is found, setting device to CPU.\n",
      "  warnings.warn(smsg, UserWarning)\n",
      "/usr/local/lib/python3.11/dist-packages/xgboost/core.py:160: UserWarning: [17:06:52] WARNING: /workspace/src/context.cc:44: No visible GPU is found, setting device to CPU.\n",
      "  warnings.warn(smsg, UserWarning)\n",
      "/usr/local/lib/python3.11/dist-packages/xgboost/core.py:160: UserWarning: [17:06:59] WARNING: /workspace/src/context.cc:44: No visible GPU is found, setting device to CPU.\n",
      "  warnings.warn(smsg, UserWarning)\n",
      "/usr/local/lib/python3.11/dist-packages/xgboost/core.py:160: UserWarning: [17:07:00] WARNING: /workspace/src/context.cc:44: No visible GPU is found, setting device to CPU.\n",
      "  warnings.warn(smsg, UserWarning)\n",
      "/usr/local/lib/python3.11/dist-packages/xgboost/core.py:160: UserWarning: [17:07:05] WARNING: /workspace/src/context.cc:44: No visible GPU is found, setting device to CPU.\n",
      "  warnings.warn(smsg, UserWarning)\n",
      "/usr/local/lib/python3.11/dist-packages/xgboost/core.py:160: UserWarning: [17:07:37] WARNING: /workspace/src/context.cc:44: No visible GPU is found, setting device to CPU.\n",
      "  warnings.warn(smsg, UserWarning)\n",
      "/usr/local/lib/python3.11/dist-packages/xgboost/core.py:160: UserWarning: [17:07:40] WARNING: /workspace/src/context.cc:44: No visible GPU is found, setting device to CPU.\n",
      "  warnings.warn(smsg, UserWarning)\n",
      "/usr/local/lib/python3.11/dist-packages/xgboost/core.py:160: UserWarning: [17:07:44] WARNING: /workspace/src/context.cc:44: No visible GPU is found, setting device to CPU.\n",
      "  warnings.warn(smsg, UserWarning)\n",
      "/usr/local/lib/python3.11/dist-packages/xgboost/core.py:160: UserWarning: [17:07:44] WARNING: /workspace/src/context.cc:44: No visible GPU is found, setting device to CPU.\n",
      "  warnings.warn(smsg, UserWarning)\n",
      "/usr/local/lib/python3.11/dist-packages/xgboost/core.py:160: UserWarning: [17:08:10] WARNING: /workspace/src/context.cc:44: No visible GPU is found, setting device to CPU.\n",
      "  warnings.warn(smsg, UserWarning)\n",
      "/usr/local/lib/python3.11/dist-packages/xgboost/core.py:160: UserWarning: [17:08:14] WARNING: /workspace/src/context.cc:44: No visible GPU is found, setting device to CPU.\n",
      "  warnings.warn(smsg, UserWarning)\n",
      "/usr/local/lib/python3.11/dist-packages/xgboost/core.py:160: UserWarning: [17:08:15] WARNING: /workspace/src/context.cc:44: No visible GPU is found, setting device to CPU.\n",
      "  warnings.warn(smsg, UserWarning)\n",
      "/usr/local/lib/python3.11/dist-packages/xgboost/core.py:160: UserWarning: [17:08:15] WARNING: /workspace/src/context.cc:44: No visible GPU is found, setting device to CPU.\n",
      "  warnings.warn(smsg, UserWarning)\n",
      "/usr/local/lib/python3.11/dist-packages/xgboost/core.py:160: UserWarning: [17:08:39] WARNING: /workspace/src/context.cc:44: No visible GPU is found, setting device to CPU.\n",
      "  warnings.warn(smsg, UserWarning)\n",
      "/usr/local/lib/python3.11/dist-packages/xgboost/core.py:160: UserWarning: [17:08:43] WARNING: /workspace/src/context.cc:44: No visible GPU is found, setting device to CPU.\n",
      "  warnings.warn(smsg, UserWarning)\n",
      "/usr/local/lib/python3.11/dist-packages/xgboost/core.py:160: UserWarning: [17:08:44] WARNING: /workspace/src/context.cc:44: No visible GPU is found, setting device to CPU.\n",
      "  warnings.warn(smsg, UserWarning)\n",
      "/usr/local/lib/python3.11/dist-packages/xgboost/core.py:160: UserWarning: [17:08:56] WARNING: /workspace/src/context.cc:44: No visible GPU is found, setting device to CPU.\n",
      "  warnings.warn(smsg, UserWarning)\n",
      "/usr/local/lib/python3.11/dist-packages/xgboost/core.py:160: UserWarning: [17:09:20] WARNING: /workspace/src/context.cc:44: No visible GPU is found, setting device to CPU.\n",
      "  warnings.warn(smsg, UserWarning)\n",
      "/usr/local/lib/python3.11/dist-packages/xgboost/core.py:160: UserWarning: [17:09:24] WARNING: /workspace/src/context.cc:44: No visible GPU is found, setting device to CPU.\n",
      "  warnings.warn(smsg, UserWarning)\n",
      "/usr/local/lib/python3.11/dist-packages/xgboost/core.py:160: UserWarning: [17:09:24] WARNING: /workspace/src/context.cc:44: No visible GPU is found, setting device to CPU.\n",
      "  warnings.warn(smsg, UserWarning)\n",
      "/usr/local/lib/python3.11/dist-packages/xgboost/core.py:160: UserWarning: [17:09:37] WARNING: /workspace/src/context.cc:44: No visible GPU is found, setting device to CPU.\n",
      "  warnings.warn(smsg, UserWarning)\n",
      "/usr/local/lib/python3.11/dist-packages/xgboost/core.py:160: UserWarning: [17:10:01] WARNING: /workspace/src/context.cc:44: No visible GPU is found, setting device to CPU.\n",
      "  warnings.warn(smsg, UserWarning)\n",
      "/usr/local/lib/python3.11/dist-packages/xgboost/core.py:160: UserWarning: [17:10:21] WARNING: /workspace/src/context.cc:44: No visible GPU is found, setting device to CPU.\n",
      "  warnings.warn(smsg, UserWarning)\n",
      "/usr/local/lib/python3.11/dist-packages/xgboost/core.py:160: UserWarning: [17:10:21] WARNING: /workspace/src/context.cc:44: No visible GPU is found, setting device to CPU.\n",
      "  warnings.warn(smsg, UserWarning)\n",
      "/usr/local/lib/python3.11/dist-packages/xgboost/core.py:160: UserWarning: [17:10:33] WARNING: /workspace/src/context.cc:44: No visible GPU is found, setting device to CPU.\n",
      "  warnings.warn(smsg, UserWarning)\n",
      "/usr/local/lib/python3.11/dist-packages/xgboost/core.py:160: UserWarning: [17:10:51] WARNING: /workspace/src/context.cc:44: No visible GPU is found, setting device to CPU.\n",
      "  warnings.warn(smsg, UserWarning)\n",
      "/usr/local/lib/python3.11/dist-packages/xgboost/core.py:160: UserWarning: [17:11:10] WARNING: /workspace/src/context.cc:44: No visible GPU is found, setting device to CPU.\n",
      "  warnings.warn(smsg, UserWarning)\n",
      "/usr/local/lib/python3.11/dist-packages/xgboost/core.py:160: UserWarning: [17:11:29] WARNING: /workspace/src/context.cc:44: No visible GPU is found, setting device to CPU.\n",
      "  warnings.warn(smsg, UserWarning)\n",
      "/usr/local/lib/python3.11/dist-packages/xgboost/core.py:160: UserWarning: [17:11:53] WARNING: /workspace/src/context.cc:44: No visible GPU is found, setting device to CPU.\n",
      "  warnings.warn(smsg, UserWarning)\n",
      "/usr/local/lib/python3.11/dist-packages/xgboost/core.py:160: UserWarning: [17:11:56] WARNING: /workspace/src/context.cc:44: No visible GPU is found, setting device to CPU.\n",
      "  warnings.warn(smsg, UserWarning)\n",
      "/usr/local/lib/python3.11/dist-packages/xgboost/core.py:160: UserWarning: [17:12:10] WARNING: /workspace/src/context.cc:44: No visible GPU is found, setting device to CPU.\n",
      "  warnings.warn(smsg, UserWarning)\n",
      "/usr/local/lib/python3.11/dist-packages/xgboost/core.py:160: UserWarning: [17:12:11] WARNING: /workspace/src/context.cc:44: No visible GPU is found, setting device to CPU.\n",
      "  warnings.warn(smsg, UserWarning)\n",
      "/usr/local/lib/python3.11/dist-packages/xgboost/core.py:160: UserWarning: [17:12:20] WARNING: /workspace/src/context.cc:44: No visible GPU is found, setting device to CPU.\n",
      "  warnings.warn(smsg, UserWarning)\n",
      "/usr/local/lib/python3.11/dist-packages/xgboost/core.py:160: UserWarning: [17:12:23] WARNING: /workspace/src/context.cc:44: No visible GPU is found, setting device to CPU.\n",
      "  warnings.warn(smsg, UserWarning)\n",
      "/usr/local/lib/python3.11/dist-packages/xgboost/core.py:160: UserWarning: [17:12:36] WARNING: /workspace/src/context.cc:44: No visible GPU is found, setting device to CPU.\n",
      "  warnings.warn(smsg, UserWarning)\n",
      "/usr/local/lib/python3.11/dist-packages/xgboost/core.py:160: UserWarning: [17:12:38] WARNING: /workspace/src/context.cc:44: No visible GPU is found, setting device to CPU.\n",
      "  warnings.warn(smsg, UserWarning)\n",
      "/usr/local/lib/python3.11/dist-packages/xgboost/core.py:160: UserWarning: [17:12:47] WARNING: /workspace/src/context.cc:44: No visible GPU is found, setting device to CPU.\n",
      "  warnings.warn(smsg, UserWarning)\n",
      "/usr/local/lib/python3.11/dist-packages/xgboost/core.py:160: UserWarning: [17:13:06] WARNING: /workspace/src/context.cc:44: No visible GPU is found, setting device to CPU.\n",
      "  warnings.warn(smsg, UserWarning)\n",
      "/usr/local/lib/python3.11/dist-packages/xgboost/core.py:160: UserWarning: [17:13:25] WARNING: /workspace/src/context.cc:44: No visible GPU is found, setting device to CPU.\n",
      "  warnings.warn(smsg, UserWarning)\n",
      "/usr/local/lib/python3.11/dist-packages/xgboost/core.py:160: UserWarning: [17:13:44] WARNING: /workspace/src/context.cc:44: No visible GPU is found, setting device to CPU.\n",
      "  warnings.warn(smsg, UserWarning)\n",
      "/usr/local/lib/python3.11/dist-packages/xgboost/core.py:160: UserWarning: [17:14:25] WARNING: /workspace/src/context.cc:44: No visible GPU is found, setting device to CPU.\n",
      "  warnings.warn(smsg, UserWarning)\n",
      "/usr/local/lib/python3.11/dist-packages/xgboost/core.py:160: UserWarning: [17:15:07] WARNING: /workspace/src/context.cc:44: No visible GPU is found, setting device to CPU.\n",
      "  warnings.warn(smsg, UserWarning)\n",
      "/usr/local/lib/python3.11/dist-packages/xgboost/core.py:160: UserWarning: [17:15:28] WARNING: /workspace/src/context.cc:44: No visible GPU is found, setting device to CPU.\n",
      "  warnings.warn(smsg, UserWarning)\n",
      "/usr/local/lib/python3.11/dist-packages/joblib/externals/loky/process_executor.py:782: UserWarning:\n",
      "\n",
      "A worker stopped while some jobs were given to the executor. This can be caused by a too short worker timeout or by a memory leak.\n",
      "\n",
      "/usr/local/lib/python3.11/dist-packages/xgboost/core.py:160: UserWarning: [17:15:44] WARNING: /workspace/src/context.cc:44: No visible GPU is found, setting device to CPU.\n",
      "  warnings.warn(smsg, UserWarning)\n",
      "/usr/local/lib/python3.11/dist-packages/xgboost/core.py:160: UserWarning: [17:15:45] WARNING: /workspace/src/context.cc:44: No visible GPU is found, setting device to CPU.\n",
      "  warnings.warn(smsg, UserWarning)\n",
      "/usr/local/lib/python3.11/dist-packages/xgboost/core.py:160: UserWarning: [17:15:50] WARNING: /workspace/src/context.cc:44: No visible GPU is found, setting device to CPU.\n",
      "  warnings.warn(smsg, UserWarning)\n",
      "/usr/local/lib/python3.11/dist-packages/xgboost/core.py:160: UserWarning: [17:17:45] WARNING: /workspace/src/context.cc:44: No visible GPU is found, setting device to CPU.\n",
      "  warnings.warn(smsg, UserWarning)\n",
      "/usr/local/lib/python3.11/dist-packages/xgboost/core.py:160: UserWarning: [17:17:54] WARNING: /workspace/src/context.cc:44: No visible GPU is found, setting device to CPU.\n",
      "  warnings.warn(smsg, UserWarning)\n",
      "/usr/local/lib/python3.11/dist-packages/xgboost/core.py:160: UserWarning:\n",
      "\n",
      "[17:19:19] WARNING: /workspace/src/context.cc:44: No visible GPU is found, setting device to CPU.\n",
      "\n"
     ]
    },
    {
     "data": {
      "text/html": [
       "<style>#sk-container-id-1 {color: black;background-color: white;}#sk-container-id-1 pre{padding: 0;}#sk-container-id-1 div.sk-toggleable {background-color: white;}#sk-container-id-1 label.sk-toggleable__label {cursor: pointer;display: block;width: 100%;margin-bottom: 0;padding: 0.3em;box-sizing: border-box;text-align: center;}#sk-container-id-1 label.sk-toggleable__label-arrow:before {content: \"▸\";float: left;margin-right: 0.25em;color: #696969;}#sk-container-id-1 label.sk-toggleable__label-arrow:hover:before {color: black;}#sk-container-id-1 div.sk-estimator:hover label.sk-toggleable__label-arrow:before {color: black;}#sk-container-id-1 div.sk-toggleable__content {max-height: 0;max-width: 0;overflow: hidden;text-align: left;background-color: #f0f8ff;}#sk-container-id-1 div.sk-toggleable__content pre {margin: 0.2em;color: black;border-radius: 0.25em;background-color: #f0f8ff;}#sk-container-id-1 input.sk-toggleable__control:checked~div.sk-toggleable__content {max-height: 200px;max-width: 100%;overflow: auto;}#sk-container-id-1 input.sk-toggleable__control:checked~label.sk-toggleable__label-arrow:before {content: \"▾\";}#sk-container-id-1 div.sk-estimator input.sk-toggleable__control:checked~label.sk-toggleable__label {background-color: #d4ebff;}#sk-container-id-1 div.sk-label input.sk-toggleable__control:checked~label.sk-toggleable__label {background-color: #d4ebff;}#sk-container-id-1 input.sk-hidden--visually {border: 0;clip: rect(1px 1px 1px 1px);clip: rect(1px, 1px, 1px, 1px);height: 1px;margin: -1px;overflow: hidden;padding: 0;position: absolute;width: 1px;}#sk-container-id-1 div.sk-estimator {font-family: monospace;background-color: #f0f8ff;border: 1px dotted black;border-radius: 0.25em;box-sizing: border-box;margin-bottom: 0.5em;}#sk-container-id-1 div.sk-estimator:hover {background-color: #d4ebff;}#sk-container-id-1 div.sk-parallel-item::after {content: \"\";width: 100%;border-bottom: 1px solid gray;flex-grow: 1;}#sk-container-id-1 div.sk-label:hover label.sk-toggleable__label {background-color: #d4ebff;}#sk-container-id-1 div.sk-serial::before {content: \"\";position: absolute;border-left: 1px solid gray;box-sizing: border-box;top: 0;bottom: 0;left: 50%;z-index: 0;}#sk-container-id-1 div.sk-serial {display: flex;flex-direction: column;align-items: center;background-color: white;padding-right: 0.2em;padding-left: 0.2em;position: relative;}#sk-container-id-1 div.sk-item {position: relative;z-index: 1;}#sk-container-id-1 div.sk-parallel {display: flex;align-items: stretch;justify-content: center;background-color: white;position: relative;}#sk-container-id-1 div.sk-item::before, #sk-container-id-1 div.sk-parallel-item::before {content: \"\";position: absolute;border-left: 1px solid gray;box-sizing: border-box;top: 0;bottom: 0;left: 50%;z-index: -1;}#sk-container-id-1 div.sk-parallel-item {display: flex;flex-direction: column;z-index: 1;position: relative;background-color: white;}#sk-container-id-1 div.sk-parallel-item:first-child::after {align-self: flex-end;width: 50%;}#sk-container-id-1 div.sk-parallel-item:last-child::after {align-self: flex-start;width: 50%;}#sk-container-id-1 div.sk-parallel-item:only-child::after {width: 0;}#sk-container-id-1 div.sk-dashed-wrapped {border: 1px dashed gray;margin: 0 0.4em 0.5em 0.4em;box-sizing: border-box;padding-bottom: 0.4em;background-color: white;}#sk-container-id-1 div.sk-label label {font-family: monospace;font-weight: bold;display: inline-block;line-height: 1.2em;}#sk-container-id-1 div.sk-label-container {text-align: center;}#sk-container-id-1 div.sk-container {/* jupyter's `normalize.less` sets `[hidden] { display: none; }` but bootstrap.min.css set `[hidden] { display: none !important; }` so we also need the `!important` here to be able to override the default hidden behavior on the sphinx rendered scikit-learn.org. See: https://github.com/scikit-learn/scikit-learn/issues/21755 */display: inline-block !important;position: relative;}#sk-container-id-1 div.sk-text-repr-fallback {display: none;}</style><div id=\"sk-container-id-1\" class=\"sk-top-container\"><div class=\"sk-text-repr-fallback\"><pre>RandomizedSearchCV(cv=3,\n",
       "                   estimator=XGBClassifier(base_score=None, booster=None,\n",
       "                                           callbacks=None,\n",
       "                                           colsample_bylevel=None,\n",
       "                                           colsample_bynode=None,\n",
       "                                           colsample_bytree=None, device=&#x27;gpu&#x27;,\n",
       "                                           early_stopping_rounds=None,\n",
       "                                           enable_categorical=False,\n",
       "                                           eval_metric=&#x27;logloss&#x27;,\n",
       "                                           feature_types=None, gamma=None,\n",
       "                                           grow_policy=None,\n",
       "                                           importance_type=None,\n",
       "                                           interaction_constraints=None,\n",
       "                                           learnin...\n",
       "                                           n_estimators=None, n_jobs=None,\n",
       "                                           num_parallel_tree=None,\n",
       "                                           random_state=None, ...),\n",
       "                   n_iter=20, n_jobs=-1,\n",
       "                   param_distributions={&#x27;colsample_bytree&#x27;: [0.6, 0.8, 1.0],\n",
       "                                        &#x27;gamma&#x27;: [0, 0.1, 0.2, 0.3],\n",
       "                                        &#x27;lambda&#x27;: [0, 1, 5],\n",
       "                                        &#x27;learning_rate&#x27;: [0.01, 0.05, 0.1, 0.2],\n",
       "                                        &#x27;max_depth&#x27;: [3, 5, 7, 10],\n",
       "                                        &#x27;min_child_weight&#x27;: [1, 3, 5],\n",
       "                                        &#x27;n_estimators&#x27;: [100, 200, 500],\n",
       "                                        &#x27;subsample&#x27;: [0.6, 0.8, 1.0]},\n",
       "                   scoring=&#x27;f1&#x27;, verbose=1)</pre><b>In a Jupyter environment, please rerun this cell to show the HTML representation or trust the notebook. <br />On GitHub, the HTML representation is unable to render, please try loading this page with nbviewer.org.</b></div><div class=\"sk-container\" hidden><div class=\"sk-item sk-dashed-wrapped\"><div class=\"sk-label-container\"><div class=\"sk-label sk-toggleable\"><input class=\"sk-toggleable__control sk-hidden--visually\" id=\"sk-estimator-id-1\" type=\"checkbox\" ><label for=\"sk-estimator-id-1\" class=\"sk-toggleable__label sk-toggleable__label-arrow\">RandomizedSearchCV</label><div class=\"sk-toggleable__content\"><pre>RandomizedSearchCV(cv=3,\n",
       "                   estimator=XGBClassifier(base_score=None, booster=None,\n",
       "                                           callbacks=None,\n",
       "                                           colsample_bylevel=None,\n",
       "                                           colsample_bynode=None,\n",
       "                                           colsample_bytree=None, device=&#x27;gpu&#x27;,\n",
       "                                           early_stopping_rounds=None,\n",
       "                                           enable_categorical=False,\n",
       "                                           eval_metric=&#x27;logloss&#x27;,\n",
       "                                           feature_types=None, gamma=None,\n",
       "                                           grow_policy=None,\n",
       "                                           importance_type=None,\n",
       "                                           interaction_constraints=None,\n",
       "                                           learnin...\n",
       "                                           n_estimators=None, n_jobs=None,\n",
       "                                           num_parallel_tree=None,\n",
       "                                           random_state=None, ...),\n",
       "                   n_iter=20, n_jobs=-1,\n",
       "                   param_distributions={&#x27;colsample_bytree&#x27;: [0.6, 0.8, 1.0],\n",
       "                                        &#x27;gamma&#x27;: [0, 0.1, 0.2, 0.3],\n",
       "                                        &#x27;lambda&#x27;: [0, 1, 5],\n",
       "                                        &#x27;learning_rate&#x27;: [0.01, 0.05, 0.1, 0.2],\n",
       "                                        &#x27;max_depth&#x27;: [3, 5, 7, 10],\n",
       "                                        &#x27;min_child_weight&#x27;: [1, 3, 5],\n",
       "                                        &#x27;n_estimators&#x27;: [100, 200, 500],\n",
       "                                        &#x27;subsample&#x27;: [0.6, 0.8, 1.0]},\n",
       "                   scoring=&#x27;f1&#x27;, verbose=1)</pre></div></div></div><div class=\"sk-parallel\"><div class=\"sk-parallel-item\"><div class=\"sk-item\"><div class=\"sk-label-container\"><div class=\"sk-label sk-toggleable\"><input class=\"sk-toggleable__control sk-hidden--visually\" id=\"sk-estimator-id-2\" type=\"checkbox\" ><label for=\"sk-estimator-id-2\" class=\"sk-toggleable__label sk-toggleable__label-arrow\">estimator: XGBClassifier</label><div class=\"sk-toggleable__content\"><pre>XGBClassifier(base_score=None, booster=None, callbacks=None,\n",
       "              colsample_bylevel=None, colsample_bynode=None,\n",
       "              colsample_bytree=None, device=&#x27;gpu&#x27;, early_stopping_rounds=None,\n",
       "              enable_categorical=False, eval_metric=&#x27;logloss&#x27;,\n",
       "              feature_types=None, gamma=None, grow_policy=None,\n",
       "              importance_type=None, interaction_constraints=None,\n",
       "              learning_rate=None, max_bin=None, max_cat_threshold=None,\n",
       "              max_cat_to_onehot=None, max_delta_step=None, max_depth=None,\n",
       "              max_leaves=None, min_child_weight=None, missing=nan,\n",
       "              monotone_constraints=None, multi_strategy=None, n_estimators=None,\n",
       "              n_jobs=None, num_parallel_tree=None, random_state=None, ...)</pre></div></div></div><div class=\"sk-serial\"><div class=\"sk-item\"><div class=\"sk-estimator sk-toggleable\"><input class=\"sk-toggleable__control sk-hidden--visually\" id=\"sk-estimator-id-3\" type=\"checkbox\" ><label for=\"sk-estimator-id-3\" class=\"sk-toggleable__label sk-toggleable__label-arrow\">XGBClassifier</label><div class=\"sk-toggleable__content\"><pre>XGBClassifier(base_score=None, booster=None, callbacks=None,\n",
       "              colsample_bylevel=None, colsample_bynode=None,\n",
       "              colsample_bytree=None, device=&#x27;gpu&#x27;, early_stopping_rounds=None,\n",
       "              enable_categorical=False, eval_metric=&#x27;logloss&#x27;,\n",
       "              feature_types=None, gamma=None, grow_policy=None,\n",
       "              importance_type=None, interaction_constraints=None,\n",
       "              learning_rate=None, max_bin=None, max_cat_threshold=None,\n",
       "              max_cat_to_onehot=None, max_delta_step=None, max_depth=None,\n",
       "              max_leaves=None, min_child_weight=None, missing=nan,\n",
       "              monotone_constraints=None, multi_strategy=None, n_estimators=None,\n",
       "              n_jobs=None, num_parallel_tree=None, random_state=None, ...)</pre></div></div></div></div></div></div></div></div></div></div>"
      ],
      "text/plain": [
       "RandomizedSearchCV(cv=3,\n",
       "                   estimator=XGBClassifier(base_score=None, booster=None,\n",
       "                                           callbacks=None,\n",
       "                                           colsample_bylevel=None,\n",
       "                                           colsample_bynode=None,\n",
       "                                           colsample_bytree=None, device='gpu',\n",
       "                                           early_stopping_rounds=None,\n",
       "                                           enable_categorical=False,\n",
       "                                           eval_metric='logloss',\n",
       "                                           feature_types=None, gamma=None,\n",
       "                                           grow_policy=None,\n",
       "                                           importance_type=None,\n",
       "                                           interaction_constraints=None,\n",
       "                                           learnin...\n",
       "                                           n_estimators=None, n_jobs=None,\n",
       "                                           num_parallel_tree=None,\n",
       "                                           random_state=None, ...),\n",
       "                   n_iter=20, n_jobs=-1,\n",
       "                   param_distributions={'colsample_bytree': [0.6, 0.8, 1.0],\n",
       "                                        'gamma': [0, 0.1, 0.2, 0.3],\n",
       "                                        'lambda': [0, 1, 5],\n",
       "                                        'learning_rate': [0.01, 0.05, 0.1, 0.2],\n",
       "                                        'max_depth': [3, 5, 7, 10],\n",
       "                                        'min_child_weight': [1, 3, 5],\n",
       "                                        'n_estimators': [100, 200, 500],\n",
       "                                        'subsample': [0.6, 0.8, 1.0]},\n",
       "                   scoring='f1', verbose=1)"
      ]
     },
     "execution_count": 31,
     "metadata": {},
     "output_type": "execute_result"
    }
   ],
   "source": [
    "r_model.fit(X_train_resampled, y_train_resampled)"
   ]
  },
  {
   "cell_type": "code",
   "execution_count": 32,
   "id": "4804c80d",
   "metadata": {
    "execution": {
     "iopub.execute_input": "2025-08-19T17:20:18.125854Z",
     "iopub.status.busy": "2025-08-19T17:20:18.125539Z",
     "iopub.status.idle": "2025-08-19T17:20:18.130012Z",
     "shell.execute_reply": "2025-08-19T17:20:18.128947Z"
    },
    "papermill": {
     "duration": 0.021798,
     "end_time": "2025-08-19T17:20:18.131573",
     "exception": false,
     "start_time": "2025-08-19T17:20:18.109775",
     "status": "completed"
    },
    "tags": []
   },
   "outputs": [],
   "source": [
    "best_model = r_model.best_estimator_"
   ]
  },
  {
   "cell_type": "code",
   "execution_count": 33,
   "id": "27145f02",
   "metadata": {
    "execution": {
     "iopub.execute_input": "2025-08-19T17:20:18.162956Z",
     "iopub.status.busy": "2025-08-19T17:20:18.162640Z",
     "iopub.status.idle": "2025-08-19T17:20:23.332972Z",
     "shell.execute_reply": "2025-08-19T17:20:23.332187Z"
    },
    "papermill": {
     "duration": 5.189313,
     "end_time": "2025-08-19T17:20:23.335945",
     "exception": false,
     "start_time": "2025-08-19T17:20:18.146632",
     "status": "completed"
    },
    "tags": []
   },
   "outputs": [],
   "source": [
    "r_pred = best_model.predict(x_test)"
   ]
  },
  {
   "cell_type": "code",
   "execution_count": 34,
   "id": "0e546a08",
   "metadata": {
    "execution": {
     "iopub.execute_input": "2025-08-19T17:20:23.371886Z",
     "iopub.status.busy": "2025-08-19T17:20:23.371528Z",
     "iopub.status.idle": "2025-08-19T17:20:23.748167Z",
     "shell.execute_reply": "2025-08-19T17:20:23.747236Z"
    },
    "papermill": {
     "duration": 0.394668,
     "end_time": "2025-08-19T17:20:23.749984",
     "exception": false,
     "start_time": "2025-08-19T17:20:23.355316",
     "status": "completed"
    },
    "tags": []
   },
   "outputs": [
    {
     "data": {
      "text/plain": [
       "<sklearn.metrics._plot.confusion_matrix.ConfusionMatrixDisplay at 0x79196b808510>"
      ]
     },
     "execution_count": 34,
     "metadata": {},
     "output_type": "execute_result"
    },
    {
     "data": {
      "image/png": "[encoded data removed]",
      "text/plain": [
       "<Figure size 640x480 with 2 Axes>"
      ]
     },
     "metadata": {},
     "output_type": "display_data"
    }
   ],
   "source": [
    "\n",
    "from sklearn.metrics import ConfusionMatrixDisplay\n",
    "\n",
    "# Convert y_test to integers if it's string\n",
    "y_test_int = y_test.astype(int)\n",
    "r_pred_int = r_pred.astype(int)\n",
    "\n",
    "# Plot confusion matrix\n",
    "ConfusionMatrixDisplay.from_predictions(y_test_int, r_pred_int)\n"
   ]
  },
  {
   "cell_type": "code",
   "execution_count": 35,
   "id": "68edf5c5",
   "metadata": {
    "execution": {
     "iopub.execute_input": "2025-08-19T17:20:23.787874Z",
     "iopub.status.busy": "2025-08-19T17:20:23.787525Z",
     "iopub.status.idle": "2025-08-19T17:20:24.415571Z",
     "shell.execute_reply": "2025-08-19T17:20:24.413959Z"
    },
    "papermill": {
     "duration": 0.649353,
     "end_time": "2025-08-19T17:20:24.417554",
     "exception": false,
     "start_time": "2025-08-19T17:20:23.768201",
     "status": "completed"
    },
    "tags": []
   },
   "outputs": [
    {
     "name": "stdout",
     "output_type": "stream",
     "text": [
      "              precision    recall  f1-score   support\n",
      "\n",
      "           0       1.00      0.97      0.98    487682\n",
      "           1       0.19      0.84      0.31      4146\n",
      "\n",
      "    accuracy                           0.97    491828\n",
      "   macro avg       0.59      0.91      0.65    491828\n",
      "weighted avg       0.99      0.97      0.98    491828\n",
      "\n"
     ]
    }
   ],
   "source": [
    "print(classification_report(y_test_int, r_pred_int))"
   ]
  },
  {
   "cell_type": "code",
   "execution_count": 36,
   "id": "937aaf19",
   "metadata": {
    "execution": {
     "iopub.execute_input": "2025-08-19T17:20:24.449653Z",
     "iopub.status.busy": "2025-08-19T17:20:24.449348Z",
     "iopub.status.idle": "2025-08-19T17:20:24.488397Z",
     "shell.execute_reply": "2025-08-19T17:20:24.487185Z"
    },
    "papermill": {
     "duration": 0.057013,
     "end_time": "2025-08-19T17:20:24.490333",
     "exception": false,
     "start_time": "2025-08-19T17:20:24.433320",
     "status": "completed"
    },
    "tags": []
   },
   "outputs": [
    {
     "name": "stdout",
     "output_type": "stream",
     "text": [
      "Accuracy: 0.9684096879396862\n"
     ]
    }
   ],
   "source": [
    "from sklearn.metrics import accuracy_score\n",
    "\n",
    "\n",
    "\n",
    "accuracy = accuracy_score(y_test_int, r_pred_int)\n",
    "print(\"Accuracy:\", accuracy)\n"
   ]
  },
  {
   "cell_type": "code",
   "execution_count": 37,
   "id": "8bd9eca7",
   "metadata": {
    "execution": {
     "iopub.execute_input": "2025-08-19T17:20:24.523020Z",
     "iopub.status.busy": "2025-08-19T17:20:24.522706Z",
     "iopub.status.idle": "2025-08-19T17:20:28.613773Z",
     "shell.execute_reply": "2025-08-19T17:20:28.613039Z"
    },
    "papermill": {
     "duration": 4.108871,
     "end_time": "2025-08-19T17:20:28.615480",
     "exception": false,
     "start_time": "2025-08-19T17:20:24.506609",
     "status": "completed"
    },
    "tags": []
   },
   "outputs": [
    {
     "data": {
      "text/html": [
       "<div>\n",
       "<style scoped>\n",
       "    .dataframe tbody tr th:only-of-type {\n",
       "        vertical-align: middle;\n",
       "    }\n",
       "\n",
       "    .dataframe tbody tr th {\n",
       "        vertical-align: top;\n",
       "    }\n",
       "\n",
       "    .dataframe thead th {\n",
       "        text-align: right;\n",
       "    }\n",
       "</style>\n",
       "<table border=\"1\" class=\"dataframe\">\n",
       "  <thead>\n",
       "    <tr style=\"text-align: right;\">\n",
       "      <th></th>\n",
       "      <th>ID</th>\n",
       "      <th>target</th>\n",
       "    </tr>\n",
       "  </thead>\n",
       "  <tbody>\n",
       "    <tr>\n",
       "      <th>0</th>\n",
       "      <td>0</td>\n",
       "      <td>0</td>\n",
       "    </tr>\n",
       "    <tr>\n",
       "      <th>1</th>\n",
       "      <td>1</td>\n",
       "      <td>0</td>\n",
       "    </tr>\n",
       "    <tr>\n",
       "      <th>2</th>\n",
       "      <td>2</td>\n",
       "      <td>0</td>\n",
       "    </tr>\n",
       "    <tr>\n",
       "      <th>3</th>\n",
       "      <td>3</td>\n",
       "      <td>0</td>\n",
       "    </tr>\n",
       "    <tr>\n",
       "      <th>4</th>\n",
       "      <td>4</td>\n",
       "      <td>1</td>\n",
       "    </tr>\n",
       "  </tbody>\n",
       "</table>\n",
       "</div>"
      ],
      "text/plain": [
       "   ID  target\n",
       "0   0       0\n",
       "1   1       0\n",
       "2   2       0\n",
       "3   3       0\n",
       "4   4       1"
      ]
     },
     "execution_count": 37,
     "metadata": {},
     "output_type": "execute_result"
    }
   ],
   "source": [
    "submission = pd.DataFrame({\n",
    "    'ID': test['ID'].values,\n",
    "}) \n",
    "preds = r_model.predict(test.drop(['Date', 'ID'], axis=1))\n",
    "submission['target'] = preds\n",
    "submission.head()"
   ]
  },
  {
   "cell_type": "code",
   "execution_count": 38,
   "id": "aa2b15ac",
   "metadata": {
    "execution": {
     "iopub.execute_input": "2025-08-19T17:20:28.652914Z",
     "iopub.status.busy": "2025-08-19T17:20:28.652204Z",
     "iopub.status.idle": "2025-08-19T17:20:28.993359Z",
     "shell.execute_reply": "2025-08-19T17:20:28.992308Z"
    },
    "papermill": {
     "duration": 0.360815,
     "end_time": "2025-08-19T17:20:28.995196",
     "exception": false,
     "start_time": "2025-08-19T17:20:28.634381",
     "status": "completed"
    },
    "tags": []
   },
   "outputs": [],
   "source": [
    "submission.to_csv('submission.csv', index=False)"
   ]
  },
  {
   "cell_type": "code",
   "execution_count": null,
   "id": "30101482",
   "metadata": {
    "papermill": {
     "duration": 0.015814,
     "end_time": "2025-08-19T17:20:29.027070",
     "exception": false,
     "start_time": "2025-08-19T17:20:29.011256",
     "status": "completed"
    },
    "tags": []
   },
   "outputs": [],
   "source": []
  }
 ],
 "metadata": {
  "kaggle": {
   "accelerator": "none",
   "dataSources": [
    {
     "databundleVersionId": 13432625,
     "sourceId": 112759,
     "sourceType": "competition"
    }
   ],
   "dockerImageVersionId": 31089,
   "isGpuEnabled": false,
   "isInternetEnabled": true,
   "language": "python",
   "sourceType": "notebook"
  },
  "kernelspec": {
   "display_name": "Python 3",
   "language": "python",
   "name": "python3"
  },
  "language_info": {
   "codemirror_mode": {
    "name": "ipython",
    "version": 3
   },
   "file_extension": ".py",
   "mimetype": "text/x-python",
   "name": "python",
   "nbconvert_exporter": "python",
   "pygments_lexer": "ipython3",
   "version": "3.11.13"
  },
  "papermill": {
   "default_parameters": {},
   "duration": 1204.293737,
   "end_time": "2025-08-19T17:20:31.666205",
   "environment_variables": {},
   "exception": null,
   "input_path": "__notebook__.ipynb",
   "output_path": "__notebook__.ipynb",
   "parameters": {},
   "start_time": "2025-08-19T17:00:27.372468",
   "version": "2.6.0"
  }
 },
 "nbformat": 4,
 "nbformat_minor": 5
}
