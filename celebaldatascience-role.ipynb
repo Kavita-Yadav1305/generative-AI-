{
 "cells": [
  {
   "cell_type": "code",
   "execution_count": 1,
   "id": "859b1dad",
   "metadata": {
    "_cell_guid": "b1076dfc-b9ad-4769-8c92-a6c4dae69d19",
    "_uuid": "8f2839f25d086af736a60e9eeb907d3b93b6e0e5",
    "execution": {
     "iopub.execute_input": "2025-08-19T15:53:07.767883Z",
     "iopub.status.busy": "2025-08-19T15:53:07.767582Z",
     "iopub.status.idle": "2025-08-19T15:53:09.831452Z",
     "shell.execute_reply": "2025-08-19T15:53:09.830267Z"
    },
    "papermill": {
     "duration": 2.074399,
     "end_time": "2025-08-19T15:53:09.833082",
     "exception": false,
     "start_time": "2025-08-19T15:53:07.758683",
     "status": "completed"
    },
    "tags": []
   },
   "outputs": [
    {
     "name": "stdout",
     "output_type": "stream",
     "text": [
      "/kaggle/input/ch-26-mnit-jaipur/train.parquet\n",
      "/kaggle/input/ch-26-mnit-jaipur/sample_submission.parquet\n",
      "/kaggle/input/ch-26-mnit-jaipur/test.parquet\n"
     ]
    }
   ],
   "source": [
    "# This Python 3 environment comes with many helpful analytics libraries installed\n",
    "# It is defined by the kaggle/python Docker image: https://github.com/kaggle/docker-python\n",
    "# For example, here's several helpful packages to load\n",
    "\n",
    "import numpy as np # linear algebra\n",
    "import pandas as pd # data processing, CSV file I/O (e.g. pd.read_csv)\n",
    "\n",
    "# Input data files are available in the read-only \"../input/\" directory\n",
    "# For example, running this (by clicking run or pressing Shift+Enter) will list all files under the input directory\n",
    "\n",
    "import os\n",
    "for dirname, _, filenames in os.walk('/kaggle/input'):\n",
    "    for filename in filenames:\n",
    "        print(os.path.join(dirname, filename))\n",
    "# /kaggle/input/ch-26-mnit-jaipur/train.parquet\n",
    "# /kaggle/input/ch-26-mnit-jaipur/sample_submission.parquet\n",
    "# /kaggle/input/ch-26-mnit-jaipur/test.parquet\n",
    "# You can write up to 20GB to the current directory (/kaggle/working/) that gets preserved as output when you create a version using \"Save & Run All\" \n",
    "# You can also write temporary files to /kaggle/temp/, but they won't be saved outside of the current session"
   ]
  },
  {
   "cell_type": "code",
   "execution_count": 2,
   "id": "38b57156",
   "metadata": {
    "execution": {
     "iopub.execute_input": "2025-08-19T15:53:09.848658Z",
     "iopub.status.busy": "2025-08-19T15:53:09.848180Z",
     "iopub.status.idle": "2025-08-19T15:53:21.842803Z",
     "shell.execute_reply": "2025-08-19T15:53:21.841639Z"
    },
    "papermill": {
     "duration": 12.004354,
     "end_time": "2025-08-19T15:53:21.844650",
     "exception": false,
     "start_time": "2025-08-19T15:53:09.840296",
     "status": "completed"
    },
    "tags": []
   },
   "outputs": [
    {
     "name": "stdout",
     "output_type": "stream",
     "text": [
      "Found existing installation: scikit-learn 1.2.2\r\n",
      "Uninstalling scikit-learn-1.2.2:\r\n",
      "  Successfully uninstalled scikit-learn-1.2.2\r\n",
      "Found existing installation: imbalanced-learn 0.13.0\r\n",
      "Uninstalling imbalanced-learn-0.13.0:\r\n",
      "  Successfully uninstalled imbalanced-learn-0.13.0\r\n",
      "Collecting scikit-learn==1.2.2\r\n",
      "  Downloading scikit_learn-1.2.2-cp311-cp311-manylinux_2_17_x86_64.manylinux2014_x86_64.whl.metadata (11 kB)\r\n",
      "Collecting imbalanced-learn==0.10.1\r\n",
      "  Downloading imbalanced_learn-0.10.1-py3-none-any.whl.metadata (8.2 kB)\r\n",
      "Requirement already satisfied: numpy>=1.17.3 in /usr/local/lib/python3.11/dist-packages (from scikit-learn==1.2.2) (1.26.4)\r\n",
      "Requirement already satisfied: scipy>=1.3.2 in /usr/local/lib/python3.11/dist-packages (from scikit-learn==1.2.2) (1.15.3)\r\n",
      "Requirement already satisfied: joblib>=1.1.1 in /usr/local/lib/python3.11/dist-packages (from scikit-learn==1.2.2) (1.5.1)\r\n",
      "Requirement already satisfied: threadpoolctl>=2.0.0 in /usr/local/lib/python3.11/dist-packages (from scikit-learn==1.2.2) (3.6.0)\r\n",
      "Requirement already satisfied: mkl_fft in /usr/local/lib/python3.11/dist-packages (from numpy>=1.17.3->scikit-learn==1.2.2) (1.3.8)\r\n",
      "Requirement already satisfied: mkl_random in /usr/local/lib/python3.11/dist-packages (from numpy>=1.17.3->scikit-learn==1.2.2) (1.2.4)\r\n",
      "Requirement already satisfied: mkl_umath in /usr/local/lib/python3.11/dist-packages (from numpy>=1.17.3->scikit-learn==1.2.2) (0.1.1)\r\n",
      "Requirement already satisfied: mkl in /usr/local/lib/python3.11/dist-packages (from numpy>=1.17.3->scikit-learn==1.2.2) (2025.2.0)\r\n",
      "Requirement already satisfied: tbb4py in /usr/local/lib/python3.11/dist-packages (from numpy>=1.17.3->scikit-learn==1.2.2) (2022.2.0)\r\n",
      "Requirement already satisfied: mkl-service in /usr/local/lib/python3.11/dist-packages (from numpy>=1.17.3->scikit-learn==1.2.2) (2.4.1)\r\n",
      "Requirement already satisfied: intel-openmp<2026,>=2024 in /usr/local/lib/python3.11/dist-packages (from mkl->numpy>=1.17.3->scikit-learn==1.2.2) (2024.2.0)\r\n",
      "Requirement already satisfied: tbb==2022.* in /usr/local/lib/python3.11/dist-packages (from mkl->numpy>=1.17.3->scikit-learn==1.2.2) (2022.2.0)\r\n",
      "Requirement already satisfied: tcmlib==1.* in /usr/local/lib/python3.11/dist-packages (from tbb==2022.*->mkl->numpy>=1.17.3->scikit-learn==1.2.2) (1.4.0)\r\n",
      "Requirement already satisfied: intel-cmplr-lib-rt in /usr/local/lib/python3.11/dist-packages (from mkl_umath->numpy>=1.17.3->scikit-learn==1.2.2) (2024.2.0)\r\n",
      "Requirement already satisfied: intel-cmplr-lib-ur==2024.2.0 in /usr/local/lib/python3.11/dist-packages (from intel-openmp<2026,>=2024->mkl->numpy>=1.17.3->scikit-learn==1.2.2) (2024.2.0)\r\n",
      "Downloading scikit_learn-1.2.2-cp311-cp311-manylinux_2_17_x86_64.manylinux2014_x86_64.whl (9.6 MB)\r\n",
      "\u001b[2K   \u001b[90m━━━━━━━━━━━━━━━━━━━━━━━━━━━━━━━━━━━━━━━━\u001b[0m \u001b[32m9.6/9.6 MB\u001b[0m \u001b[31m91.9 MB/s\u001b[0m eta \u001b[36m0:00:00\u001b[0m\r\n",
      "\u001b[?25hDownloading imbalanced_learn-0.10.1-py3-none-any.whl (226 kB)\r\n",
      "\u001b[2K   \u001b[90m━━━━━━━━━━━━━━━━━━━━━━━━━━━━━━━━━━━━━━━\u001b[0m \u001b[32m226.0/226.0 kB\u001b[0m \u001b[31m279.0 MB/s\u001b[0m eta \u001b[36m0:00:00\u001b[0m\r\n",
      "\u001b[?25hInstalling collected packages: scikit-learn, imbalanced-learn\r\n",
      "\u001b[31mERROR: pip's dependency resolver does not currently take into account all the packages that are installed. This behaviour is the source of the following dependency conflicts.\r\n",
      "cesium 0.12.4 requires numpy<3.0,>=2.0, but you have numpy 1.26.4 which is incompatible.\r\n",
      "mlxtend 0.23.4 requires scikit-learn>=1.3.1, but you have scikit-learn 1.2.2 which is incompatible.\u001b[0m\u001b[31m\r\n",
      "\u001b[0mSuccessfully installed imbalanced-learn-0.10.1 scikit-learn-1.2.2\r\n"
     ]
    }
   ],
   "source": [
    "!pip uninstall -y scikit-learn imbalanced-learn\n",
    "!pip install --no-cache-dir scikit-learn==1.2.2 imbalanced-learn==0.10.1\n",
    "\n"
   ]
  },
  {
   "cell_type": "code",
   "execution_count": 3,
   "id": "a480dee5",
   "metadata": {
    "execution": {
     "iopub.execute_input": "2025-08-19T15:53:21.862912Z",
     "iopub.status.busy": "2025-08-19T15:53:21.861242Z",
     "iopub.status.idle": "2025-08-19T15:53:23.699306Z",
     "shell.execute_reply": "2025-08-19T15:53:23.697973Z"
    },
    "papermill": {
     "duration": 1.848714,
     "end_time": "2025-08-19T15:53:23.701145",
     "exception": false,
     "start_time": "2025-08-19T15:53:21.852431",
     "status": "completed"
    },
    "tags": []
   },
   "outputs": [
    {
     "name": "stdout",
     "output_type": "stream",
     "text": [
      "scikit-learn version: 1.2.2\n",
      "imbalanced-learn version: 0.10.1\n"
     ]
    }
   ],
   "source": [
    "import sklearn\n",
    "import imblearn\n",
    "print(\"scikit-learn version:\", sklearn.__version__)\n",
    "print(\"imbalanced-learn version:\", imblearn.__version__)\n"
   ]
  },
  {
   "cell_type": "code",
   "execution_count": 4,
   "id": "d4ab1921",
   "metadata": {
    "execution": {
     "iopub.execute_input": "2025-08-19T15:53:23.718476Z",
     "iopub.status.busy": "2025-08-19T15:53:23.717990Z",
     "iopub.status.idle": "2025-08-19T15:53:24.273562Z",
     "shell.execute_reply": "2025-08-19T15:53:24.272605Z"
    },
    "papermill": {
     "duration": 0.566333,
     "end_time": "2025-08-19T15:53:24.275174",
     "exception": false,
     "start_time": "2025-08-19T15:53:23.708841",
     "status": "completed"
    },
    "tags": []
   },
   "outputs": [
    {
     "data": {
      "text/html": [
       "<div>\n",
       "<style scoped>\n",
       "    .dataframe tbody tr th:only-of-type {\n",
       "        vertical-align: middle;\n",
       "    }\n",
       "\n",
       "    .dataframe tbody tr th {\n",
       "        vertical-align: top;\n",
       "    }\n",
       "\n",
       "    .dataframe thead th {\n",
       "        text-align: right;\n",
       "    }\n",
       "</style>\n",
       "<table border=\"1\" class=\"dataframe\">\n",
       "  <thead>\n",
       "    <tr style=\"text-align: right;\">\n",
       "      <th></th>\n",
       "      <th>Date</th>\n",
       "      <th>X1</th>\n",
       "      <th>X2</th>\n",
       "      <th>X3</th>\n",
       "      <th>X4</th>\n",
       "      <th>X5</th>\n",
       "      <th>target</th>\n",
       "    </tr>\n",
       "  </thead>\n",
       "  <tbody>\n",
       "    <tr>\n",
       "      <th>0</th>\n",
       "      <td>2020-12-16</td>\n",
       "      <td>1.518921</td>\n",
       "      <td>5.463154</td>\n",
       "      <td>1.0</td>\n",
       "      <td>2.718282</td>\n",
       "      <td>2.890372</td>\n",
       "      <td>0</td>\n",
       "    </tr>\n",
       "    <tr>\n",
       "      <th>1</th>\n",
       "      <td>2020-12-16</td>\n",
       "      <td>1.546509</td>\n",
       "      <td>5.458010</td>\n",
       "      <td>1.0</td>\n",
       "      <td>2.718282</td>\n",
       "      <td>2.833213</td>\n",
       "      <td>1</td>\n",
       "    </tr>\n",
       "    <tr>\n",
       "      <th>2</th>\n",
       "      <td>2020-12-16</td>\n",
       "      <td>1.645427</td>\n",
       "      <td>5.456560</td>\n",
       "      <td>1.0</td>\n",
       "      <td>7.389056</td>\n",
       "      <td>2.890372</td>\n",
       "      <td>1</td>\n",
       "    </tr>\n",
       "    <tr>\n",
       "      <th>3</th>\n",
       "      <td>2020-12-16</td>\n",
       "      <td>1.652022</td>\n",
       "      <td>5.458479</td>\n",
       "      <td>1.0</td>\n",
       "      <td>2.718282</td>\n",
       "      <td>2.890372</td>\n",
       "      <td>1</td>\n",
       "    </tr>\n",
       "    <tr>\n",
       "      <th>4</th>\n",
       "      <td>2020-12-16</td>\n",
       "      <td>1.695538</td>\n",
       "      <td>5.466709</td>\n",
       "      <td>1.0</td>\n",
       "      <td>2.718282</td>\n",
       "      <td>2.890372</td>\n",
       "      <td>0</td>\n",
       "    </tr>\n",
       "    <tr>\n",
       "      <th>...</th>\n",
       "      <td>...</td>\n",
       "      <td>...</td>\n",
       "      <td>...</td>\n",
       "      <td>...</td>\n",
       "      <td>...</td>\n",
       "      <td>...</td>\n",
       "      <td>...</td>\n",
       "    </tr>\n",
       "    <tr>\n",
       "      <th>1639419</th>\n",
       "      <td>2024-11-26</td>\n",
       "      <td>1.000000</td>\n",
       "      <td>5.482346</td>\n",
       "      <td>1.0</td>\n",
       "      <td>1.000000</td>\n",
       "      <td>0.000000</td>\n",
       "      <td>0</td>\n",
       "    </tr>\n",
       "    <tr>\n",
       "      <th>1639420</th>\n",
       "      <td>2024-11-26</td>\n",
       "      <td>1.000000</td>\n",
       "      <td>5.486580</td>\n",
       "      <td>1.0</td>\n",
       "      <td>1.000000</td>\n",
       "      <td>0.000000</td>\n",
       "      <td>0</td>\n",
       "    </tr>\n",
       "    <tr>\n",
       "      <th>1639421</th>\n",
       "      <td>2024-11-26</td>\n",
       "      <td>1.000000</td>\n",
       "      <td>5.484797</td>\n",
       "      <td>1.0</td>\n",
       "      <td>1.000000</td>\n",
       "      <td>0.000000</td>\n",
       "      <td>0</td>\n",
       "    </tr>\n",
       "    <tr>\n",
       "      <th>1639422</th>\n",
       "      <td>2024-11-26</td>\n",
       "      <td>1.000000</td>\n",
       "      <td>5.483551</td>\n",
       "      <td>1.0</td>\n",
       "      <td>1.000000</td>\n",
       "      <td>0.000000</td>\n",
       "      <td>0</td>\n",
       "    </tr>\n",
       "    <tr>\n",
       "      <th>1639423</th>\n",
       "      <td>2024-11-26</td>\n",
       "      <td>1.000000</td>\n",
       "      <td>5.482928</td>\n",
       "      <td>1.0</td>\n",
       "      <td>1.000000</td>\n",
       "      <td>0.000000</td>\n",
       "      <td>0</td>\n",
       "    </tr>\n",
       "  </tbody>\n",
       "</table>\n",
       "<p>1639424 rows × 7 columns</p>\n",
       "</div>"
      ],
      "text/plain": [
       "              Date        X1        X2   X3        X4        X5 target\n",
       "0       2020-12-16  1.518921  5.463154  1.0  2.718282  2.890372      0\n",
       "1       2020-12-16  1.546509  5.458010  1.0  2.718282  2.833213      1\n",
       "2       2020-12-16  1.645427  5.456560  1.0  7.389056  2.890372      1\n",
       "3       2020-12-16  1.652022  5.458479  1.0  2.718282  2.890372      1\n",
       "4       2020-12-16  1.695538  5.466709  1.0  2.718282  2.890372      0\n",
       "...            ...       ...       ...  ...       ...       ...    ...\n",
       "1639419 2024-11-26  1.000000  5.482346  1.0  1.000000  0.000000      0\n",
       "1639420 2024-11-26  1.000000  5.486580  1.0  1.000000  0.000000      0\n",
       "1639421 2024-11-26  1.000000  5.484797  1.0  1.000000  0.000000      0\n",
       "1639422 2024-11-26  1.000000  5.483551  1.0  1.000000  0.000000      0\n",
       "1639423 2024-11-26  1.000000  5.482928  1.0  1.000000  0.000000      0\n",
       "\n",
       "[1639424 rows x 7 columns]"
      ]
     },
     "execution_count": 4,
     "metadata": {},
     "output_type": "execute_result"
    }
   ],
   "source": [
    "# training set \n",
    "df=pd.read_parquet(\"/kaggle/input/ch-26-mnit-jaipur/train.parquet\")\n",
    "df\n"
   ]
  },
  {
   "cell_type": "code",
   "execution_count": 5,
   "id": "8bb93219",
   "metadata": {
    "execution": {
     "iopub.execute_input": "2025-08-19T15:53:24.292777Z",
     "iopub.status.busy": "2025-08-19T15:53:24.291764Z",
     "iopub.status.idle": "2025-08-19T15:53:24.307616Z",
     "shell.execute_reply": "2025-08-19T15:53:24.306580Z"
    },
    "papermill": {
     "duration": 0.026428,
     "end_time": "2025-08-19T15:53:24.309476",
     "exception": false,
     "start_time": "2025-08-19T15:53:24.283048",
     "status": "completed"
    },
    "tags": []
   },
   "outputs": [
    {
     "data": {
      "text/html": [
       "<div>\n",
       "<style scoped>\n",
       "    .dataframe tbody tr th:only-of-type {\n",
       "        vertical-align: middle;\n",
       "    }\n",
       "\n",
       "    .dataframe tbody tr th {\n",
       "        vertical-align: top;\n",
       "    }\n",
       "\n",
       "    .dataframe thead th {\n",
       "        text-align: right;\n",
       "    }\n",
       "</style>\n",
       "<table border=\"1\" class=\"dataframe\">\n",
       "  <thead>\n",
       "    <tr style=\"text-align: right;\">\n",
       "      <th></th>\n",
       "      <th>Date</th>\n",
       "      <th>X1</th>\n",
       "      <th>X2</th>\n",
       "      <th>X3</th>\n",
       "      <th>X4</th>\n",
       "      <th>X5</th>\n",
       "      <th>target</th>\n",
       "    </tr>\n",
       "  </thead>\n",
       "  <tbody>\n",
       "    <tr>\n",
       "      <th>0</th>\n",
       "      <td>2020-12-16</td>\n",
       "      <td>1.518921</td>\n",
       "      <td>5.463154</td>\n",
       "      <td>1.000000e+00</td>\n",
       "      <td>2.718282</td>\n",
       "      <td>2.890372</td>\n",
       "      <td>0</td>\n",
       "    </tr>\n",
       "    <tr>\n",
       "      <th>1</th>\n",
       "      <td>2020-12-16</td>\n",
       "      <td>1.546509</td>\n",
       "      <td>5.458010</td>\n",
       "      <td>1.000000e+00</td>\n",
       "      <td>2.718282</td>\n",
       "      <td>2.833213</td>\n",
       "      <td>1</td>\n",
       "    </tr>\n",
       "    <tr>\n",
       "      <th>2</th>\n",
       "      <td>2020-12-16</td>\n",
       "      <td>1.645427</td>\n",
       "      <td>5.456560</td>\n",
       "      <td>1.000000e+00</td>\n",
       "      <td>7.389056</td>\n",
       "      <td>2.890372</td>\n",
       "      <td>1</td>\n",
       "    </tr>\n",
       "    <tr>\n",
       "      <th>3</th>\n",
       "      <td>2020-12-16</td>\n",
       "      <td>1.652022</td>\n",
       "      <td>5.458479</td>\n",
       "      <td>1.000000e+00</td>\n",
       "      <td>2.718282</td>\n",
       "      <td>2.890372</td>\n",
       "      <td>1</td>\n",
       "    </tr>\n",
       "    <tr>\n",
       "      <th>4</th>\n",
       "      <td>2020-12-16</td>\n",
       "      <td>1.695538</td>\n",
       "      <td>5.466709</td>\n",
       "      <td>1.000000e+00</td>\n",
       "      <td>2.718282</td>\n",
       "      <td>2.890372</td>\n",
       "      <td>0</td>\n",
       "    </tr>\n",
       "    <tr>\n",
       "      <th>...</th>\n",
       "      <td>...</td>\n",
       "      <td>...</td>\n",
       "      <td>...</td>\n",
       "      <td>...</td>\n",
       "      <td>...</td>\n",
       "      <td>...</td>\n",
       "      <td>...</td>\n",
       "    </tr>\n",
       "    <tr>\n",
       "      <th>39995</th>\n",
       "      <td>2021-01-20</td>\n",
       "      <td>1.786038</td>\n",
       "      <td>5.459160</td>\n",
       "      <td>3.185593e+16</td>\n",
       "      <td>7.389056</td>\n",
       "      <td>0.000000</td>\n",
       "      <td>0</td>\n",
       "    </tr>\n",
       "    <tr>\n",
       "      <th>39996</th>\n",
       "      <td>2021-01-20</td>\n",
       "      <td>1.778909</td>\n",
       "      <td>5.458947</td>\n",
       "      <td>1.171914e+16</td>\n",
       "      <td>2.718282</td>\n",
       "      <td>0.000000</td>\n",
       "      <td>0</td>\n",
       "    </tr>\n",
       "    <tr>\n",
       "      <th>39997</th>\n",
       "      <td>2021-01-20</td>\n",
       "      <td>1.771807</td>\n",
       "      <td>5.458138</td>\n",
       "      <td>1.171914e+16</td>\n",
       "      <td>2.718282</td>\n",
       "      <td>0.000000</td>\n",
       "      <td>0</td>\n",
       "    </tr>\n",
       "    <tr>\n",
       "      <th>39998</th>\n",
       "      <td>2021-01-20</td>\n",
       "      <td>1.778909</td>\n",
       "      <td>5.462008</td>\n",
       "      <td>3.185593e+16</td>\n",
       "      <td>7.389056</td>\n",
       "      <td>0.000000</td>\n",
       "      <td>0</td>\n",
       "    </tr>\n",
       "    <tr>\n",
       "      <th>39999</th>\n",
       "      <td>2021-01-20</td>\n",
       "      <td>1.778909</td>\n",
       "      <td>5.464255</td>\n",
       "      <td>1.171914e+16</td>\n",
       "      <td>2.718282</td>\n",
       "      <td>0.000000</td>\n",
       "      <td>0</td>\n",
       "    </tr>\n",
       "  </tbody>\n",
       "</table>\n",
       "<p>40000 rows × 7 columns</p>\n",
       "</div>"
      ],
      "text/plain": [
       "            Date        X1        X2            X3        X4        X5 target\n",
       "0     2020-12-16  1.518921  5.463154  1.000000e+00  2.718282  2.890372      0\n",
       "1     2020-12-16  1.546509  5.458010  1.000000e+00  2.718282  2.833213      1\n",
       "2     2020-12-16  1.645427  5.456560  1.000000e+00  7.389056  2.890372      1\n",
       "3     2020-12-16  1.652022  5.458479  1.000000e+00  2.718282  2.890372      1\n",
       "4     2020-12-16  1.695538  5.466709  1.000000e+00  2.718282  2.890372      0\n",
       "...          ...       ...       ...           ...       ...       ...    ...\n",
       "39995 2021-01-20  1.786038  5.459160  3.185593e+16  7.389056  0.000000      0\n",
       "39996 2021-01-20  1.778909  5.458947  1.171914e+16  2.718282  0.000000      0\n",
       "39997 2021-01-20  1.771807  5.458138  1.171914e+16  2.718282  0.000000      0\n",
       "39998 2021-01-20  1.778909  5.462008  3.185593e+16  7.389056  0.000000      0\n",
       "39999 2021-01-20  1.778909  5.464255  1.171914e+16  2.718282  0.000000      0\n",
       "\n",
       "[40000 rows x 7 columns]"
      ]
     },
     "execution_count": 5,
     "metadata": {},
     "output_type": "execute_result"
    }
   ],
   "source": [
    "df=df.head(40000)\n",
    "df"
   ]
  },
  {
   "cell_type": "code",
   "execution_count": 6,
   "id": "66a647c7",
   "metadata": {
    "execution": {
     "iopub.execute_input": "2025-08-19T15:53:24.327219Z",
     "iopub.status.busy": "2025-08-19T15:53:24.326871Z",
     "iopub.status.idle": "2025-08-19T15:53:24.468113Z",
     "shell.execute_reply": "2025-08-19T15:53:24.467179Z"
    },
    "papermill": {
     "duration": 0.151978,
     "end_time": "2025-08-19T15:53:24.469701",
     "exception": false,
     "start_time": "2025-08-19T15:53:24.317723",
     "status": "completed"
    },
    "tags": []
   },
   "outputs": [
    {
     "data": {
      "text/html": [
       "<div>\n",
       "<style scoped>\n",
       "    .dataframe tbody tr th:only-of-type {\n",
       "        vertical-align: middle;\n",
       "    }\n",
       "\n",
       "    .dataframe tbody tr th {\n",
       "        vertical-align: top;\n",
       "    }\n",
       "\n",
       "    .dataframe thead th {\n",
       "        text-align: right;\n",
       "    }\n",
       "</style>\n",
       "<table border=\"1\" class=\"dataframe\">\n",
       "  <thead>\n",
       "    <tr style=\"text-align: right;\">\n",
       "      <th></th>\n",
       "      <th>ID</th>\n",
       "      <th>Date</th>\n",
       "      <th>X1</th>\n",
       "      <th>X2</th>\n",
       "      <th>X3</th>\n",
       "      <th>X4</th>\n",
       "      <th>X5</th>\n",
       "    </tr>\n",
       "  </thead>\n",
       "  <tbody>\n",
       "    <tr>\n",
       "      <th>0</th>\n",
       "      <td>0</td>\n",
       "      <td>2020-12-16</td>\n",
       "      <td>1.685395</td>\n",
       "      <td>5.463917</td>\n",
       "      <td>1.0</td>\n",
       "      <td>7.389056</td>\n",
       "      <td>2.890372</td>\n",
       "    </tr>\n",
       "    <tr>\n",
       "      <th>1</th>\n",
       "      <td>1</td>\n",
       "      <td>2020-12-16</td>\n",
       "      <td>1.488844</td>\n",
       "      <td>5.454936</td>\n",
       "      <td>1.0</td>\n",
       "      <td>7.389056</td>\n",
       "      <td>2.890372</td>\n",
       "    </tr>\n",
       "    <tr>\n",
       "      <th>2</th>\n",
       "      <td>2</td>\n",
       "      <td>2020-12-16</td>\n",
       "      <td>1.164160</td>\n",
       "      <td>5.471136</td>\n",
       "      <td>1.0</td>\n",
       "      <td>1.000000</td>\n",
       "      <td>2.890372</td>\n",
       "    </tr>\n",
       "    <tr>\n",
       "      <th>3</th>\n",
       "      <td>3</td>\n",
       "      <td>2020-12-16</td>\n",
       "      <td>1.000000</td>\n",
       "      <td>5.467385</td>\n",
       "      <td>1.0</td>\n",
       "      <td>1.000000</td>\n",
       "      <td>2.890372</td>\n",
       "    </tr>\n",
       "    <tr>\n",
       "      <th>4</th>\n",
       "      <td>4</td>\n",
       "      <td>2020-12-16</td>\n",
       "      <td>1.000000</td>\n",
       "      <td>5.453995</td>\n",
       "      <td>1.0</td>\n",
       "      <td>1.000000</td>\n",
       "      <td>2.833213</td>\n",
       "    </tr>\n",
       "    <tr>\n",
       "      <th>...</th>\n",
       "      <td>...</td>\n",
       "      <td>...</td>\n",
       "      <td>...</td>\n",
       "      <td>...</td>\n",
       "      <td>...</td>\n",
       "      <td>...</td>\n",
       "      <td>...</td>\n",
       "    </tr>\n",
       "    <tr>\n",
       "      <th>409851</th>\n",
       "      <td>409851</td>\n",
       "      <td>2024-11-26</td>\n",
       "      <td>1.120752</td>\n",
       "      <td>5.483053</td>\n",
       "      <td>1.0</td>\n",
       "      <td>2.718282</td>\n",
       "      <td>0.000000</td>\n",
       "    </tr>\n",
       "    <tr>\n",
       "      <th>409852</th>\n",
       "      <td>409852</td>\n",
       "      <td>2024-11-26</td>\n",
       "      <td>1.096365</td>\n",
       "      <td>5.477802</td>\n",
       "      <td>1.0</td>\n",
       "      <td>7.389056</td>\n",
       "      <td>0.000000</td>\n",
       "    </tr>\n",
       "    <tr>\n",
       "      <th>409853</th>\n",
       "      <td>409853</td>\n",
       "      <td>2024-11-26</td>\n",
       "      <td>1.111822</td>\n",
       "      <td>5.479972</td>\n",
       "      <td>1.0</td>\n",
       "      <td>2.718282</td>\n",
       "      <td>0.000000</td>\n",
       "    </tr>\n",
       "    <tr>\n",
       "      <th>409854</th>\n",
       "      <td>409854</td>\n",
       "      <td>2024-11-26</td>\n",
       "      <td>1.000000</td>\n",
       "      <td>5.486165</td>\n",
       "      <td>1.0</td>\n",
       "      <td>1.000000</td>\n",
       "      <td>0.000000</td>\n",
       "    </tr>\n",
       "    <tr>\n",
       "      <th>409855</th>\n",
       "      <td>409855</td>\n",
       "      <td>2024-11-26</td>\n",
       "      <td>1.000000</td>\n",
       "      <td>5.484050</td>\n",
       "      <td>1.0</td>\n",
       "      <td>1.000000</td>\n",
       "      <td>0.000000</td>\n",
       "    </tr>\n",
       "  </tbody>\n",
       "</table>\n",
       "<p>409856 rows × 7 columns</p>\n",
       "</div>"
      ],
      "text/plain": [
       "            ID       Date        X1        X2   X3        X4        X5\n",
       "0            0 2020-12-16  1.685395  5.463917  1.0  7.389056  2.890372\n",
       "1            1 2020-12-16  1.488844  5.454936  1.0  7.389056  2.890372\n",
       "2            2 2020-12-16  1.164160  5.471136  1.0  1.000000  2.890372\n",
       "3            3 2020-12-16  1.000000  5.467385  1.0  1.000000  2.890372\n",
       "4            4 2020-12-16  1.000000  5.453995  1.0  1.000000  2.833213\n",
       "...        ...        ...       ...       ...  ...       ...       ...\n",
       "409851  409851 2024-11-26  1.120752  5.483053  1.0  2.718282  0.000000\n",
       "409852  409852 2024-11-26  1.096365  5.477802  1.0  7.389056  0.000000\n",
       "409853  409853 2024-11-26  1.111822  5.479972  1.0  2.718282  0.000000\n",
       "409854  409854 2024-11-26  1.000000  5.486165  1.0  1.000000  0.000000\n",
       "409855  409855 2024-11-26  1.000000  5.484050  1.0  1.000000  0.000000\n",
       "\n",
       "[409856 rows x 7 columns]"
      ]
     },
     "execution_count": 6,
     "metadata": {},
     "output_type": "execute_result"
    }
   ],
   "source": [
    "test=pd.read_parquet(\"/kaggle/input/ch-26-mnit-jaipur/test.parquet\")\n",
    "\n",
    "\n",
    "test\n",
    "test.isna().sum()\n",
    "test"
   ]
  },
  {
   "cell_type": "code",
   "execution_count": 7,
   "id": "4290e13a",
   "metadata": {
    "execution": {
     "iopub.execute_input": "2025-08-19T15:53:24.487963Z",
     "iopub.status.busy": "2025-08-19T15:53:24.487619Z",
     "iopub.status.idle": "2025-08-19T15:53:24.512881Z",
     "shell.execute_reply": "2025-08-19T15:53:24.511594Z"
    },
    "papermill": {
     "duration": 0.036301,
     "end_time": "2025-08-19T15:53:24.514648",
     "exception": false,
     "start_time": "2025-08-19T15:53:24.478347",
     "status": "completed"
    },
    "tags": []
   },
   "outputs": [
    {
     "name": "stdout",
     "output_type": "stream",
     "text": [
      "<class 'pandas.core.frame.DataFrame'>\n",
      "RangeIndex: 40000 entries, 0 to 39999\n",
      "Data columns (total 7 columns):\n",
      " #   Column  Non-Null Count  Dtype         \n",
      "---  ------  --------------  -----         \n",
      " 0   Date    40000 non-null  datetime64[ns]\n",
      " 1   X1      40000 non-null  float64       \n",
      " 2   X2      40000 non-null  float64       \n",
      " 3   X3      40000 non-null  float64       \n",
      " 4   X4      40000 non-null  float64       \n",
      " 5   X5      40000 non-null  float64       \n",
      " 6   target  40000 non-null  object        \n",
      "dtypes: datetime64[ns](1), float64(5), object(1)\n",
      "memory usage: 2.1+ MB\n"
     ]
    }
   ],
   "source": [
    "df.info() #datattype of columns"
   ]
  },
  {
   "cell_type": "code",
   "execution_count": 8,
   "id": "bc03e5f0",
   "metadata": {
    "execution": {
     "iopub.execute_input": "2025-08-19T15:53:24.532577Z",
     "iopub.status.busy": "2025-08-19T15:53:24.532126Z",
     "iopub.status.idle": "2025-08-19T15:53:24.571143Z",
     "shell.execute_reply": "2025-08-19T15:53:24.570178Z"
    },
    "papermill": {
     "duration": 0.050043,
     "end_time": "2025-08-19T15:53:24.572971",
     "exception": false,
     "start_time": "2025-08-19T15:53:24.522928",
     "status": "completed"
    },
    "tags": []
   },
   "outputs": [
    {
     "data": {
      "text/html": [
       "<div>\n",
       "<style scoped>\n",
       "    .dataframe tbody tr th:only-of-type {\n",
       "        vertical-align: middle;\n",
       "    }\n",
       "\n",
       "    .dataframe tbody tr th {\n",
       "        vertical-align: top;\n",
       "    }\n",
       "\n",
       "    .dataframe thead th {\n",
       "        text-align: right;\n",
       "    }\n",
       "</style>\n",
       "<table border=\"1\" class=\"dataframe\">\n",
       "  <thead>\n",
       "    <tr style=\"text-align: right;\">\n",
       "      <th></th>\n",
       "      <th>Date</th>\n",
       "      <th>X1</th>\n",
       "      <th>X2</th>\n",
       "      <th>X3</th>\n",
       "      <th>X4</th>\n",
       "      <th>X5</th>\n",
       "    </tr>\n",
       "  </thead>\n",
       "  <tbody>\n",
       "    <tr>\n",
       "      <th>count</th>\n",
       "      <td>40000</td>\n",
       "      <td>40000.000000</td>\n",
       "      <td>40000.000000</td>\n",
       "      <td>4.000000e+04</td>\n",
       "      <td>4.000000e+04</td>\n",
       "      <td>40000.000000</td>\n",
       "    </tr>\n",
       "    <tr>\n",
       "      <th>mean</th>\n",
       "      <td>2021-02-27 00:34:31.440000256</td>\n",
       "      <td>1.154371</td>\n",
       "      <td>5.488993</td>\n",
       "      <td>1.300221e+29</td>\n",
       "      <td>5.795628e+29</td>\n",
       "      <td>1.199735</td>\n",
       "    </tr>\n",
       "    <tr>\n",
       "      <th>min</th>\n",
       "      <td>2020-12-16 00:00:00</td>\n",
       "      <td>1.000000</td>\n",
       "      <td>5.428468</td>\n",
       "      <td>1.000000e+00</td>\n",
       "      <td>1.000000e+00</td>\n",
       "      <td>0.000000</td>\n",
       "    </tr>\n",
       "    <tr>\n",
       "      <th>25%</th>\n",
       "      <td>2020-12-25 00:00:00</td>\n",
       "      <td>1.000000</td>\n",
       "      <td>5.479096</td>\n",
       "      <td>1.000000e+00</td>\n",
       "      <td>1.000000e+00</td>\n",
       "      <td>0.000000</td>\n",
       "    </tr>\n",
       "    <tr>\n",
       "      <th>50%</th>\n",
       "      <td>2021-01-14 00:00:00</td>\n",
       "      <td>1.134282</td>\n",
       "      <td>5.490135</td>\n",
       "      <td>1.000000e+00</td>\n",
       "      <td>1.000000e+00</td>\n",
       "      <td>0.000000</td>\n",
       "    </tr>\n",
       "    <tr>\n",
       "      <th>75%</th>\n",
       "      <td>2021-04-01 00:00:00</td>\n",
       "      <td>1.223848</td>\n",
       "      <td>5.499420</td>\n",
       "      <td>1.000000e+00</td>\n",
       "      <td>2.718282e+00</td>\n",
       "      <td>2.890372</td>\n",
       "    </tr>\n",
       "    <tr>\n",
       "      <th>max</th>\n",
       "      <td>2021-12-01 00:00:00</td>\n",
       "      <td>2.367892</td>\n",
       "      <td>5.532163</td>\n",
       "      <td>2.758513e+33</td>\n",
       "      <td>7.498417e+33</td>\n",
       "      <td>3.044522</td>\n",
       "    </tr>\n",
       "    <tr>\n",
       "      <th>std</th>\n",
       "      <td>NaN</td>\n",
       "      <td>0.147090</td>\n",
       "      <td>0.014792</td>\n",
       "      <td>1.565923e+31</td>\n",
       "      <td>4.474334e+31</td>\n",
       "      <td>1.434007</td>\n",
       "    </tr>\n",
       "  </tbody>\n",
       "</table>\n",
       "</div>"
      ],
      "text/plain": [
       "                                Date            X1            X2  \\\n",
       "count                          40000  40000.000000  40000.000000   \n",
       "mean   2021-02-27 00:34:31.440000256      1.154371      5.488993   \n",
       "min              2020-12-16 00:00:00      1.000000      5.428468   \n",
       "25%              2020-12-25 00:00:00      1.000000      5.479096   \n",
       "50%              2021-01-14 00:00:00      1.134282      5.490135   \n",
       "75%              2021-04-01 00:00:00      1.223848      5.499420   \n",
       "max              2021-12-01 00:00:00      2.367892      5.532163   \n",
       "std                              NaN      0.147090      0.014792   \n",
       "\n",
       "                 X3            X4            X5  \n",
       "count  4.000000e+04  4.000000e+04  40000.000000  \n",
       "mean   1.300221e+29  5.795628e+29      1.199735  \n",
       "min    1.000000e+00  1.000000e+00      0.000000  \n",
       "25%    1.000000e+00  1.000000e+00      0.000000  \n",
       "50%    1.000000e+00  1.000000e+00      0.000000  \n",
       "75%    1.000000e+00  2.718282e+00      2.890372  \n",
       "max    2.758513e+33  7.498417e+33      3.044522  \n",
       "std    1.565923e+31  4.474334e+31      1.434007  "
      ]
     },
     "execution_count": 8,
     "metadata": {},
     "output_type": "execute_result"
    }
   ],
   "source": [
    "df.describe()"
   ]
  },
  {
   "cell_type": "code",
   "execution_count": 9,
   "id": "a24eaaee",
   "metadata": {
    "execution": {
     "iopub.execute_input": "2025-08-19T15:53:24.591940Z",
     "iopub.status.busy": "2025-08-19T15:53:24.591631Z",
     "iopub.status.idle": "2025-08-19T15:53:24.602788Z",
     "shell.execute_reply": "2025-08-19T15:53:24.601931Z"
    },
    "papermill": {
     "duration": 0.022119,
     "end_time": "2025-08-19T15:53:24.604351",
     "exception": false,
     "start_time": "2025-08-19T15:53:24.582232",
     "status": "completed"
    },
    "tags": []
   },
   "outputs": [
    {
     "data": {
      "text/plain": [
       "Date      0\n",
       "X1        0\n",
       "X2        0\n",
       "X3        0\n",
       "X4        0\n",
       "X5        0\n",
       "target    0\n",
       "dtype: int64"
      ]
     },
     "execution_count": 9,
     "metadata": {},
     "output_type": "execute_result"
    }
   ],
   "source": [
    "df.isna().sum() #number of null values"
   ]
  },
  {
   "cell_type": "code",
   "execution_count": 10,
   "id": "b7438555",
   "metadata": {
    "execution": {
     "iopub.execute_input": "2025-08-19T15:53:24.624109Z",
     "iopub.status.busy": "2025-08-19T15:53:24.623791Z",
     "iopub.status.idle": "2025-08-19T15:53:24.636704Z",
     "shell.execute_reply": "2025-08-19T15:53:24.635514Z"
    },
    "papermill": {
     "duration": 0.024719,
     "end_time": "2025-08-19T15:53:24.638324",
     "exception": false,
     "start_time": "2025-08-19T15:53:24.613605",
     "status": "completed"
    },
    "tags": []
   },
   "outputs": [
    {
     "data": {
      "text/plain": [
       "<bound method DataFrame.nunique of             Date        X1        X2            X3        X4        X5 target\n",
       "0     2020-12-16  1.518921  5.463154  1.000000e+00  2.718282  2.890372      0\n",
       "1     2020-12-16  1.546509  5.458010  1.000000e+00  2.718282  2.833213      1\n",
       "2     2020-12-16  1.645427  5.456560  1.000000e+00  7.389056  2.890372      1\n",
       "3     2020-12-16  1.652022  5.458479  1.000000e+00  2.718282  2.890372      1\n",
       "4     2020-12-16  1.695538  5.466709  1.000000e+00  2.718282  2.890372      0\n",
       "...          ...       ...       ...           ...       ...       ...    ...\n",
       "39995 2021-01-20  1.786038  5.459160  3.185593e+16  7.389056  0.000000      0\n",
       "39996 2021-01-20  1.778909  5.458947  1.171914e+16  2.718282  0.000000      0\n",
       "39997 2021-01-20  1.771807  5.458138  1.171914e+16  2.718282  0.000000      0\n",
       "39998 2021-01-20  1.778909  5.462008  3.185593e+16  7.389056  0.000000      0\n",
       "39999 2021-01-20  1.778909  5.464255  1.171914e+16  2.718282  0.000000      0\n",
       "\n",
       "[40000 rows x 7 columns]>"
      ]
     },
     "execution_count": 10,
     "metadata": {},
     "output_type": "execute_result"
    }
   ],
   "source": [
    "df.nunique #to know number of unique values in each column"
   ]
  },
  {
   "cell_type": "code",
   "execution_count": 11,
   "id": "de04a9ee",
   "metadata": {
    "execution": {
     "iopub.execute_input": "2025-08-19T15:53:24.657689Z",
     "iopub.status.busy": "2025-08-19T15:53:24.657261Z",
     "iopub.status.idle": "2025-08-19T15:53:24.665433Z",
     "shell.execute_reply": "2025-08-19T15:53:24.664468Z"
    },
    "papermill": {
     "duration": 0.019682,
     "end_time": "2025-08-19T15:53:24.666895",
     "exception": false,
     "start_time": "2025-08-19T15:53:24.647213",
     "status": "completed"
    },
    "tags": []
   },
   "outputs": [
    {
     "data": {
      "text/plain": [
       "array(['0', '1'], dtype=object)"
      ]
     },
     "execution_count": 11,
     "metadata": {},
     "output_type": "execute_result"
    }
   ],
   "source": [
    "df[\"target\"].unique()\n",
    "#to know number of classes hence its a binary classification"
   ]
  },
  {
   "cell_type": "code",
   "execution_count": 12,
   "id": "0e5a9812",
   "metadata": {
    "execution": {
     "iopub.execute_input": "2025-08-19T15:53:24.686568Z",
     "iopub.status.busy": "2025-08-19T15:53:24.686209Z",
     "iopub.status.idle": "2025-08-19T15:53:25.264778Z",
     "shell.execute_reply": "2025-08-19T15:53:25.263701Z"
    },
    "papermill": {
     "duration": 0.590605,
     "end_time": "2025-08-19T15:53:25.266511",
     "exception": false,
     "start_time": "2025-08-19T15:53:24.675906",
     "status": "completed"
    },
    "tags": []
   },
   "outputs": [],
   "source": [
    "import seaborn as sns\n",
    "from matplotlib import pyplot as plt"
   ]
  },
  {
   "cell_type": "code",
   "execution_count": 13,
   "id": "f407e503",
   "metadata": {
    "execution": {
     "iopub.execute_input": "2025-08-19T15:53:25.286095Z",
     "iopub.status.busy": "2025-08-19T15:53:25.285626Z",
     "iopub.status.idle": "2025-08-19T15:53:25.301588Z",
     "shell.execute_reply": "2025-08-19T15:53:25.300729Z"
    },
    "papermill": {
     "duration": 0.027484,
     "end_time": "2025-08-19T15:53:25.303135",
     "exception": false,
     "start_time": "2025-08-19T15:53:25.275651",
     "status": "completed"
    },
    "tags": []
   },
   "outputs": [
    {
     "data": {
      "text/html": [
       "<div>\n",
       "<style scoped>\n",
       "    .dataframe tbody tr th:only-of-type {\n",
       "        vertical-align: middle;\n",
       "    }\n",
       "\n",
       "    .dataframe tbody tr th {\n",
       "        vertical-align: top;\n",
       "    }\n",
       "\n",
       "    .dataframe thead th {\n",
       "        text-align: right;\n",
       "    }\n",
       "</style>\n",
       "<table border=\"1\" class=\"dataframe\">\n",
       "  <thead>\n",
       "    <tr style=\"text-align: right;\">\n",
       "      <th></th>\n",
       "      <th>X1</th>\n",
       "      <th>X2</th>\n",
       "      <th>X3</th>\n",
       "      <th>X4</th>\n",
       "      <th>X5</th>\n",
       "      <th>target</th>\n",
       "    </tr>\n",
       "  </thead>\n",
       "  <tbody>\n",
       "    <tr>\n",
       "      <th>0</th>\n",
       "      <td>1.518921</td>\n",
       "      <td>5.463154</td>\n",
       "      <td>1.000000e+00</td>\n",
       "      <td>2.718282</td>\n",
       "      <td>2.890372</td>\n",
       "      <td>0</td>\n",
       "    </tr>\n",
       "    <tr>\n",
       "      <th>1</th>\n",
       "      <td>1.546509</td>\n",
       "      <td>5.458010</td>\n",
       "      <td>1.000000e+00</td>\n",
       "      <td>2.718282</td>\n",
       "      <td>2.833213</td>\n",
       "      <td>1</td>\n",
       "    </tr>\n",
       "    <tr>\n",
       "      <th>2</th>\n",
       "      <td>1.645427</td>\n",
       "      <td>5.456560</td>\n",
       "      <td>1.000000e+00</td>\n",
       "      <td>7.389056</td>\n",
       "      <td>2.890372</td>\n",
       "      <td>1</td>\n",
       "    </tr>\n",
       "    <tr>\n",
       "      <th>3</th>\n",
       "      <td>1.652022</td>\n",
       "      <td>5.458479</td>\n",
       "      <td>1.000000e+00</td>\n",
       "      <td>2.718282</td>\n",
       "      <td>2.890372</td>\n",
       "      <td>1</td>\n",
       "    </tr>\n",
       "    <tr>\n",
       "      <th>4</th>\n",
       "      <td>1.695538</td>\n",
       "      <td>5.466709</td>\n",
       "      <td>1.000000e+00</td>\n",
       "      <td>2.718282</td>\n",
       "      <td>2.890372</td>\n",
       "      <td>0</td>\n",
       "    </tr>\n",
       "    <tr>\n",
       "      <th>...</th>\n",
       "      <td>...</td>\n",
       "      <td>...</td>\n",
       "      <td>...</td>\n",
       "      <td>...</td>\n",
       "      <td>...</td>\n",
       "      <td>...</td>\n",
       "    </tr>\n",
       "    <tr>\n",
       "      <th>39995</th>\n",
       "      <td>1.786038</td>\n",
       "      <td>5.459160</td>\n",
       "      <td>3.185593e+16</td>\n",
       "      <td>7.389056</td>\n",
       "      <td>0.000000</td>\n",
       "      <td>0</td>\n",
       "    </tr>\n",
       "    <tr>\n",
       "      <th>39996</th>\n",
       "      <td>1.778909</td>\n",
       "      <td>5.458947</td>\n",
       "      <td>1.171914e+16</td>\n",
       "      <td>2.718282</td>\n",
       "      <td>0.000000</td>\n",
       "      <td>0</td>\n",
       "    </tr>\n",
       "    <tr>\n",
       "      <th>39997</th>\n",
       "      <td>1.771807</td>\n",
       "      <td>5.458138</td>\n",
       "      <td>1.171914e+16</td>\n",
       "      <td>2.718282</td>\n",
       "      <td>0.000000</td>\n",
       "      <td>0</td>\n",
       "    </tr>\n",
       "    <tr>\n",
       "      <th>39998</th>\n",
       "      <td>1.778909</td>\n",
       "      <td>5.462008</td>\n",
       "      <td>3.185593e+16</td>\n",
       "      <td>7.389056</td>\n",
       "      <td>0.000000</td>\n",
       "      <td>0</td>\n",
       "    </tr>\n",
       "    <tr>\n",
       "      <th>39999</th>\n",
       "      <td>1.778909</td>\n",
       "      <td>5.464255</td>\n",
       "      <td>1.171914e+16</td>\n",
       "      <td>2.718282</td>\n",
       "      <td>0.000000</td>\n",
       "      <td>0</td>\n",
       "    </tr>\n",
       "  </tbody>\n",
       "</table>\n",
       "<p>40000 rows × 6 columns</p>\n",
       "</div>"
      ],
      "text/plain": [
       "             X1        X2            X3        X4        X5 target\n",
       "0      1.518921  5.463154  1.000000e+00  2.718282  2.890372      0\n",
       "1      1.546509  5.458010  1.000000e+00  2.718282  2.833213      1\n",
       "2      1.645427  5.456560  1.000000e+00  7.389056  2.890372      1\n",
       "3      1.652022  5.458479  1.000000e+00  2.718282  2.890372      1\n",
       "4      1.695538  5.466709  1.000000e+00  2.718282  2.890372      0\n",
       "...         ...       ...           ...       ...       ...    ...\n",
       "39995  1.786038  5.459160  3.185593e+16  7.389056  0.000000      0\n",
       "39996  1.778909  5.458947  1.171914e+16  2.718282  0.000000      0\n",
       "39997  1.771807  5.458138  1.171914e+16  2.718282  0.000000      0\n",
       "39998  1.778909  5.462008  3.185593e+16  7.389056  0.000000      0\n",
       "39999  1.778909  5.464255  1.171914e+16  2.718282  0.000000      0\n",
       "\n",
       "[40000 rows x 6 columns]"
      ]
     },
     "execution_count": 13,
     "metadata": {},
     "output_type": "execute_result"
    }
   ],
   "source": [
    "\n",
    "df.drop('Date', axis=1)\n",
    "\n"
   ]
  },
  {
   "cell_type": "code",
   "execution_count": 14,
   "id": "a56cd367",
   "metadata": {
    "execution": {
     "iopub.execute_input": "2025-08-19T15:53:25.322915Z",
     "iopub.status.busy": "2025-08-19T15:53:25.322573Z",
     "iopub.status.idle": "2025-08-19T15:53:25.801644Z",
     "shell.execute_reply": "2025-08-19T15:53:25.800498Z"
    },
    "papermill": {
     "duration": 0.490756,
     "end_time": "2025-08-19T15:53:25.803359",
     "exception": false,
     "start_time": "2025-08-19T15:53:25.312603",
     "status": "completed"
    },
    "tags": []
   },
   "outputs": [
    {
     "data": {
      "image/png": "[encoded data removed]",
      "text/plain": [
       "<Figure size 1500x1500 with 1 Axes>"
      ]
     },
     "metadata": {},
     "output_type": "display_data"
    }
   ],
   "source": [
    "fig, ax = plt.subplots(figsize=(15,15))\n",
    "sns.boxplot(data = df, ax=ax)\n",
    "plt.savefig(\"boxPlot.jpg\")"
   ]
  },
  {
   "cell_type": "code",
   "execution_count": 15,
   "id": "74385631",
   "metadata": {
    "execution": {
     "iopub.execute_input": "2025-08-19T15:53:25.824847Z",
     "iopub.status.busy": "2025-08-19T15:53:25.824527Z",
     "iopub.status.idle": "2025-08-19T15:53:25.850044Z",
     "shell.execute_reply": "2025-08-19T15:53:25.848826Z"
    },
    "papermill": {
     "duration": 0.038004,
     "end_time": "2025-08-19T15:53:25.851752",
     "exception": false,
     "start_time": "2025-08-19T15:53:25.813748",
     "status": "completed"
    },
    "tags": []
   },
   "outputs": [
    {
     "data": {
      "text/html": [
       "<div>\n",
       "<style scoped>\n",
       "    .dataframe tbody tr th:only-of-type {\n",
       "        vertical-align: middle;\n",
       "    }\n",
       "\n",
       "    .dataframe tbody tr th {\n",
       "        vertical-align: top;\n",
       "    }\n",
       "\n",
       "    .dataframe thead th {\n",
       "        text-align: right;\n",
       "    }\n",
       "</style>\n",
       "<table border=\"1\" class=\"dataframe\">\n",
       "  <thead>\n",
       "    <tr style=\"text-align: right;\">\n",
       "      <th></th>\n",
       "      <th>Date</th>\n",
       "      <th>X1</th>\n",
       "      <th>X2</th>\n",
       "      <th>X3</th>\n",
       "      <th>X4</th>\n",
       "      <th>X5</th>\n",
       "      <th>target</th>\n",
       "    </tr>\n",
       "  </thead>\n",
       "  <tbody>\n",
       "    <tr>\n",
       "      <th>Date</th>\n",
       "      <td>1.000000</td>\n",
       "      <td>0.047920</td>\n",
       "      <td>-0.044853</td>\n",
       "      <td>-0.005263</td>\n",
       "      <td>-0.002473</td>\n",
       "      <td>0.010720</td>\n",
       "      <td>-0.017068</td>\n",
       "    </tr>\n",
       "    <tr>\n",
       "      <th>X1</th>\n",
       "      <td>0.047920</td>\n",
       "      <td>1.000000</td>\n",
       "      <td>-0.153479</td>\n",
       "      <td>0.010960</td>\n",
       "      <td>0.008999</td>\n",
       "      <td>0.086875</td>\n",
       "      <td>0.104233</td>\n",
       "    </tr>\n",
       "    <tr>\n",
       "      <th>X2</th>\n",
       "      <td>-0.044853</td>\n",
       "      <td>-0.153479</td>\n",
       "      <td>1.000000</td>\n",
       "      <td>-0.007454</td>\n",
       "      <td>-0.006605</td>\n",
       "      <td>-0.444038</td>\n",
       "      <td>-0.268029</td>\n",
       "    </tr>\n",
       "    <tr>\n",
       "      <th>X3</th>\n",
       "      <td>-0.005263</td>\n",
       "      <td>0.010960</td>\n",
       "      <td>-0.007454</td>\n",
       "      <td>1.000000</td>\n",
       "      <td>-0.000108</td>\n",
       "      <td>-0.006823</td>\n",
       "      <td>0.056049</td>\n",
       "    </tr>\n",
       "    <tr>\n",
       "      <th>X4</th>\n",
       "      <td>-0.002473</td>\n",
       "      <td>0.008999</td>\n",
       "      <td>-0.006605</td>\n",
       "      <td>-0.000108</td>\n",
       "      <td>1.000000</td>\n",
       "      <td>0.015046</td>\n",
       "      <td>0.086197</td>\n",
       "    </tr>\n",
       "    <tr>\n",
       "      <th>X5</th>\n",
       "      <td>0.010720</td>\n",
       "      <td>0.086875</td>\n",
       "      <td>-0.444038</td>\n",
       "      <td>-0.006823</td>\n",
       "      <td>0.015046</td>\n",
       "      <td>1.000000</td>\n",
       "      <td>0.134135</td>\n",
       "    </tr>\n",
       "    <tr>\n",
       "      <th>target</th>\n",
       "      <td>-0.017068</td>\n",
       "      <td>0.104233</td>\n",
       "      <td>-0.268029</td>\n",
       "      <td>0.056049</td>\n",
       "      <td>0.086197</td>\n",
       "      <td>0.134135</td>\n",
       "      <td>1.000000</td>\n",
       "    </tr>\n",
       "  </tbody>\n",
       "</table>\n",
       "</div>"
      ],
      "text/plain": [
       "            Date        X1        X2        X3        X4        X5    target\n",
       "Date    1.000000  0.047920 -0.044853 -0.005263 -0.002473  0.010720 -0.017068\n",
       "X1      0.047920  1.000000 -0.153479  0.010960  0.008999  0.086875  0.104233\n",
       "X2     -0.044853 -0.153479  1.000000 -0.007454 -0.006605 -0.444038 -0.268029\n",
       "X3     -0.005263  0.010960 -0.007454  1.000000 -0.000108 -0.006823  0.056049\n",
       "X4     -0.002473  0.008999 -0.006605 -0.000108  1.000000  0.015046  0.086197\n",
       "X5      0.010720  0.086875 -0.444038 -0.006823  0.015046  1.000000  0.134135\n",
       "target -0.017068  0.104233 -0.268029  0.056049  0.086197  0.134135  1.000000"
      ]
     },
     "execution_count": 15,
     "metadata": {},
     "output_type": "execute_result"
    }
   ],
   "source": [
    "df.corr()"
   ]
  },
  {
   "cell_type": "code",
   "execution_count": 16,
   "id": "e3850899",
   "metadata": {
    "execution": {
     "iopub.execute_input": "2025-08-19T15:53:25.872980Z",
     "iopub.status.busy": "2025-08-19T15:53:25.872666Z",
     "iopub.status.idle": "2025-08-19T15:53:25.905187Z",
     "shell.execute_reply": "2025-08-19T15:53:25.904011Z"
    },
    "papermill": {
     "duration": 0.045061,
     "end_time": "2025-08-19T15:53:25.907133",
     "exception": false,
     "start_time": "2025-08-19T15:53:25.862072",
     "status": "completed"
    },
    "tags": []
   },
   "outputs": [
    {
     "name": "stdout",
     "output_type": "stream",
     "text": [
      "<class 'pandas.core.frame.DataFrame'>\n",
      "Index: 12000 entries, 32823 to 1380\n",
      "Data columns (total 6 columns):\n",
      " #   Column  Non-Null Count  Dtype         \n",
      "---  ------  --------------  -----         \n",
      " 0   Date    12000 non-null  datetime64[ns]\n",
      " 1   X1      12000 non-null  float64       \n",
      " 2   X2      12000 non-null  float64       \n",
      " 3   X3      12000 non-null  float64       \n",
      " 4   X4      12000 non-null  float64       \n",
      " 5   X5      12000 non-null  float64       \n",
      "dtypes: datetime64[ns](1), float64(5)\n",
      "memory usage: 656.2 KB\n",
      "<class 'pandas.core.frame.DataFrame'>\n",
      "Index: 28000 entries, 38015 to 15795\n",
      "Data columns (total 6 columns):\n",
      " #   Column  Non-Null Count  Dtype         \n",
      "---  ------  --------------  -----         \n",
      " 0   Date    28000 non-null  datetime64[ns]\n",
      " 1   X1      28000 non-null  float64       \n",
      " 2   X2      28000 non-null  float64       \n",
      " 3   X3      28000 non-null  float64       \n",
      " 4   X4      28000 non-null  float64       \n",
      " 5   X5      28000 non-null  float64       \n",
      "dtypes: datetime64[ns](1), float64(5)\n",
      "memory usage: 1.5 MB\n",
      "<class 'pandas.core.series.Series'>\n",
      "Index: 28000 entries, 38015 to 15795\n",
      "Series name: target\n",
      "Non-Null Count  Dtype \n",
      "--------------  ----- \n",
      "28000 non-null  object\n",
      "dtypes: object(1)\n",
      "memory usage: 437.5+ KB\n",
      "<class 'pandas.core.series.Series'>\n",
      "Index: 12000 entries, 32823 to 1380\n",
      "Series name: target\n",
      "Non-Null Count  Dtype \n",
      "--------------  ----- \n",
      "12000 non-null  object\n",
      "dtypes: object(1)\n",
      "memory usage: 187.5+ KB\n"
     ]
    }
   ],
   "source": [
    "## Split the data into independent and dependent features\n",
    "X = df.iloc[:,:-1]\n",
    "y = df.iloc[:,-1]\n",
    "## Split the data into train and test set\n",
    "from sklearn.model_selection import train_test_split\n",
    "x_train, x_test, y_train, y_test = train_test_split(X, y, test_size=0.3, random_state = 42)\n",
    "x_test.info()\n",
    "x_train.info()\n",
    "y_train.info()\n",
    "y_test.info()"
   ]
  },
  {
   "cell_type": "code",
   "execution_count": 17,
   "id": "af81a732",
   "metadata": {
    "execution": {
     "iopub.execute_input": "2025-08-19T15:53:25.928844Z",
     "iopub.status.busy": "2025-08-19T15:53:25.928484Z",
     "iopub.status.idle": "2025-08-19T15:53:25.937341Z",
     "shell.execute_reply": "2025-08-19T15:53:25.936033Z"
    },
    "papermill": {
     "duration": 0.021221,
     "end_time": "2025-08-19T15:53:25.939056",
     "exception": false,
     "start_time": "2025-08-19T15:53:25.917835",
     "status": "completed"
    },
    "tags": []
   },
   "outputs": [
    {
     "name": "stdout",
     "output_type": "stream",
     "text": [
      "  target\n",
      "0      0\n",
      "1      0\n",
      "2      0\n",
      "3      0\n",
      "4      0\n",
      "(28000, 1)\n"
     ]
    }
   ],
   "source": [
    "# Force y_train to be a DataFrame with column \"target\"\n",
    "y_train = pd.DataFrame(y_train).reset_index(drop=True)\n",
    "y_train.columns = [\"target\"]\n",
    "\n",
    "# Now check\n",
    "print(y_train.head())\n",
    "print(y_train.shape)\n"
   ]
  },
  {
   "cell_type": "code",
   "execution_count": 18,
   "id": "092357a7",
   "metadata": {
    "execution": {
     "iopub.execute_input": "2025-08-19T15:53:26.032997Z",
     "iopub.status.busy": "2025-08-19T15:53:26.032315Z",
     "iopub.status.idle": "2025-08-19T15:53:26.048250Z",
     "shell.execute_reply": "2025-08-19T15:53:26.047345Z"
    },
    "papermill": {
     "duration": 0.099351,
     "end_time": "2025-08-19T15:53:26.049808",
     "exception": false,
     "start_time": "2025-08-19T15:53:25.950457",
     "status": "completed"
    },
    "tags": []
   },
   "outputs": [
    {
     "name": "stdout",
     "output_type": "stream",
     "text": [
      "<class 'pandas.core.frame.DataFrame'>\n",
      "Index: 28000 entries, 38015 to 15795\n",
      "Data columns (total 5 columns):\n",
      " #   Column  Non-Null Count  Dtype  \n",
      "---  ------  --------------  -----  \n",
      " 0   X1      28000 non-null  float64\n",
      " 1   X2      28000 non-null  float64\n",
      " 2   X3      28000 non-null  float64\n",
      " 3   X4      28000 non-null  float64\n",
      " 4   X5      28000 non-null  float64\n",
      "dtypes: float64(5)\n",
      "memory usage: 1.3 MB\n"
     ]
    },
    {
     "data": {
      "text/html": [
       "<div>\n",
       "<style scoped>\n",
       "    .dataframe tbody tr th:only-of-type {\n",
       "        vertical-align: middle;\n",
       "    }\n",
       "\n",
       "    .dataframe tbody tr th {\n",
       "        vertical-align: top;\n",
       "    }\n",
       "\n",
       "    .dataframe thead th {\n",
       "        text-align: right;\n",
       "    }\n",
       "</style>\n",
       "<table border=\"1\" class=\"dataframe\">\n",
       "  <thead>\n",
       "    <tr style=\"text-align: right;\">\n",
       "      <th></th>\n",
       "      <th>target</th>\n",
       "    </tr>\n",
       "  </thead>\n",
       "  <tbody>\n",
       "    <tr>\n",
       "      <th>0</th>\n",
       "      <td>0</td>\n",
       "    </tr>\n",
       "    <tr>\n",
       "      <th>1</th>\n",
       "      <td>0</td>\n",
       "    </tr>\n",
       "    <tr>\n",
       "      <th>2</th>\n",
       "      <td>0</td>\n",
       "    </tr>\n",
       "    <tr>\n",
       "      <th>3</th>\n",
       "      <td>0</td>\n",
       "    </tr>\n",
       "    <tr>\n",
       "      <th>4</th>\n",
       "      <td>0</td>\n",
       "    </tr>\n",
       "    <tr>\n",
       "      <th>...</th>\n",
       "      <td>...</td>\n",
       "    </tr>\n",
       "    <tr>\n",
       "      <th>27995</th>\n",
       "      <td>0</td>\n",
       "    </tr>\n",
       "    <tr>\n",
       "      <th>27996</th>\n",
       "      <td>0</td>\n",
       "    </tr>\n",
       "    <tr>\n",
       "      <th>27997</th>\n",
       "      <td>0</td>\n",
       "    </tr>\n",
       "    <tr>\n",
       "      <th>27998</th>\n",
       "      <td>0</td>\n",
       "    </tr>\n",
       "    <tr>\n",
       "      <th>27999</th>\n",
       "      <td>0</td>\n",
       "    </tr>\n",
       "  </tbody>\n",
       "</table>\n",
       "<p>28000 rows × 1 columns</p>\n",
       "</div>"
      ],
      "text/plain": [
       "      target\n",
       "0          0\n",
       "1          0\n",
       "2          0\n",
       "3          0\n",
       "4          0\n",
       "...      ...\n",
       "27995      0\n",
       "27996      0\n",
       "27997      0\n",
       "27998      0\n",
       "27999      0\n",
       "\n",
       "[28000 rows x 1 columns]"
      ]
     },
     "execution_count": 18,
     "metadata": {},
     "output_type": "execute_result"
    }
   ],
   "source": [
    "# overwrite x_train without Date\n",
    "x_train = x_train.drop(columns=['Date'])\n",
    "\n",
    "\n",
    "# now check\n",
    "x_train.info()\n",
    "y_train\n"
   ]
  },
  {
   "cell_type": "code",
   "execution_count": 19,
   "id": "a480ea8d",
   "metadata": {
    "execution": {
     "iopub.execute_input": "2025-08-19T15:53:26.071672Z",
     "iopub.status.busy": "2025-08-19T15:53:26.071274Z",
     "iopub.status.idle": "2025-08-19T15:53:26.091203Z",
     "shell.execute_reply": "2025-08-19T15:53:26.089276Z"
    },
    "papermill": {
     "duration": 0.032597,
     "end_time": "2025-08-19T15:53:26.093030",
     "exception": false,
     "start_time": "2025-08-19T15:53:26.060433",
     "status": "completed"
    },
    "tags": []
   },
   "outputs": [
    {
     "name": "stdout",
     "output_type": "stream",
     "text": [
      "<class 'pandas.core.frame.DataFrame'>\n",
      "Index: 12000 entries, 32823 to 1380\n",
      "Data columns (total 5 columns):\n",
      " #   Column  Non-Null Count  Dtype  \n",
      "---  ------  --------------  -----  \n",
      " 0   X1      12000 non-null  float64\n",
      " 1   X2      12000 non-null  float64\n",
      " 2   X3      12000 non-null  float64\n",
      " 3   X4      12000 non-null  float64\n",
      " 4   X5      12000 non-null  float64\n",
      "dtypes: float64(5)\n",
      "memory usage: 562.5 KB\n"
     ]
    },
    {
     "data": {
      "text/plain": [
       "X1    0\n",
       "X2    0\n",
       "X3    0\n",
       "X4    0\n",
       "X5    0\n",
       "dtype: int64"
      ]
     },
     "execution_count": 19,
     "metadata": {},
     "output_type": "execute_result"
    }
   ],
   "source": [
    "x_test = x_test.drop(columns=['Date'])\n",
    "\n",
    "\n",
    "# now check\n",
    "x_test.info()\n",
    "x_test.isna().sum()"
   ]
  },
  {
   "cell_type": "code",
   "execution_count": 20,
   "id": "c07d90a4",
   "metadata": {
    "execution": {
     "iopub.execute_input": "2025-08-19T15:53:26.116809Z",
     "iopub.status.busy": "2025-08-19T15:53:26.116455Z",
     "iopub.status.idle": "2025-08-19T15:53:26.131110Z",
     "shell.execute_reply": "2025-08-19T15:53:26.129631Z"
    },
    "papermill": {
     "duration": 0.027421,
     "end_time": "2025-08-19T15:53:26.132775",
     "exception": false,
     "start_time": "2025-08-19T15:53:26.105354",
     "status": "completed"
    },
    "tags": []
   },
   "outputs": [
    {
     "data": {
      "text/html": [
       "<div>\n",
       "<style scoped>\n",
       "    .dataframe tbody tr th:only-of-type {\n",
       "        vertical-align: middle;\n",
       "    }\n",
       "\n",
       "    .dataframe tbody tr th {\n",
       "        vertical-align: top;\n",
       "    }\n",
       "\n",
       "    .dataframe thead th {\n",
       "        text-align: right;\n",
       "    }\n",
       "</style>\n",
       "<table border=\"1\" class=\"dataframe\">\n",
       "  <thead>\n",
       "    <tr style=\"text-align: right;\">\n",
       "      <th></th>\n",
       "      <th>X1</th>\n",
       "      <th>X2</th>\n",
       "      <th>X3</th>\n",
       "      <th>X4</th>\n",
       "      <th>X5</th>\n",
       "    </tr>\n",
       "  </thead>\n",
       "  <tbody>\n",
       "    <tr>\n",
       "      <th>32823</th>\n",
       "      <td>1.256085</td>\n",
       "      <td>5.490342</td>\n",
       "      <td>1.0</td>\n",
       "      <td>7.389056</td>\n",
       "      <td>0.000000</td>\n",
       "    </tr>\n",
       "    <tr>\n",
       "      <th>16298</th>\n",
       "      <td>1.168826</td>\n",
       "      <td>5.456901</td>\n",
       "      <td>1.0</td>\n",
       "      <td>1.000000</td>\n",
       "      <td>2.833213</td>\n",
       "    </tr>\n",
       "    <tr>\n",
       "      <th>28505</th>\n",
       "      <td>1.074655</td>\n",
       "      <td>5.478261</td>\n",
       "      <td>1.0</td>\n",
       "      <td>1.000000</td>\n",
       "      <td>2.890372</td>\n",
       "    </tr>\n",
       "    <tr>\n",
       "      <th>6689</th>\n",
       "      <td>1.307347</td>\n",
       "      <td>5.491579</td>\n",
       "      <td>1.0</td>\n",
       "      <td>1.000000</td>\n",
       "      <td>0.000000</td>\n",
       "    </tr>\n",
       "    <tr>\n",
       "      <th>26893</th>\n",
       "      <td>1.164160</td>\n",
       "      <td>5.490094</td>\n",
       "      <td>1.0</td>\n",
       "      <td>1.000000</td>\n",
       "      <td>0.000000</td>\n",
       "    </tr>\n",
       "    <tr>\n",
       "      <th>...</th>\n",
       "      <td>...</td>\n",
       "      <td>...</td>\n",
       "      <td>...</td>\n",
       "      <td>...</td>\n",
       "      <td>...</td>\n",
       "    </tr>\n",
       "    <tr>\n",
       "      <th>3779</th>\n",
       "      <td>1.000000</td>\n",
       "      <td>5.508619</td>\n",
       "      <td>1.0</td>\n",
       "      <td>1.000000</td>\n",
       "      <td>0.000000</td>\n",
       "    </tr>\n",
       "    <tr>\n",
       "      <th>11973</th>\n",
       "      <td>1.051271</td>\n",
       "      <td>5.522141</td>\n",
       "      <td>1.0</td>\n",
       "      <td>1.000000</td>\n",
       "      <td>0.000000</td>\n",
       "    </tr>\n",
       "    <tr>\n",
       "      <th>35668</th>\n",
       "      <td>1.453537</td>\n",
       "      <td>5.494583</td>\n",
       "      <td>1.0</td>\n",
       "      <td>7.389056</td>\n",
       "      <td>2.944439</td>\n",
       "    </tr>\n",
       "    <tr>\n",
       "      <th>483</th>\n",
       "      <td>1.091988</td>\n",
       "      <td>5.506063</td>\n",
       "      <td>1.0</td>\n",
       "      <td>1.000000</td>\n",
       "      <td>0.000000</td>\n",
       "    </tr>\n",
       "    <tr>\n",
       "      <th>1380</th>\n",
       "      <td>1.317848</td>\n",
       "      <td>5.508943</td>\n",
       "      <td>1.0</td>\n",
       "      <td>1.000000</td>\n",
       "      <td>0.000000</td>\n",
       "    </tr>\n",
       "  </tbody>\n",
       "</table>\n",
       "<p>12000 rows × 5 columns</p>\n",
       "</div>"
      ],
      "text/plain": [
       "             X1        X2   X3        X4        X5\n",
       "32823  1.256085  5.490342  1.0  7.389056  0.000000\n",
       "16298  1.168826  5.456901  1.0  1.000000  2.833213\n",
       "28505  1.074655  5.478261  1.0  1.000000  2.890372\n",
       "6689   1.307347  5.491579  1.0  1.000000  0.000000\n",
       "26893  1.164160  5.490094  1.0  1.000000  0.000000\n",
       "...         ...       ...  ...       ...       ...\n",
       "3779   1.000000  5.508619  1.0  1.000000  0.000000\n",
       "11973  1.051271  5.522141  1.0  1.000000  0.000000\n",
       "35668  1.453537  5.494583  1.0  7.389056  2.944439\n",
       "483    1.091988  5.506063  1.0  1.000000  0.000000\n",
       "1380   1.317848  5.508943  1.0  1.000000  0.000000\n",
       "\n",
       "[12000 rows x 5 columns]"
      ]
     },
     "execution_count": 20,
     "metadata": {},
     "output_type": "execute_result"
    }
   ],
   "source": [
    "x_test"
   ]
  },
  {
   "cell_type": "code",
   "execution_count": 21,
   "id": "989b7bc7",
   "metadata": {
    "execution": {
     "iopub.execute_input": "2025-08-19T15:53:26.156799Z",
     "iopub.status.busy": "2025-08-19T15:53:26.156319Z",
     "iopub.status.idle": "2025-08-19T15:53:26.197608Z",
     "shell.execute_reply": "2025-08-19T15:53:26.196510Z"
    },
    "papermill": {
     "duration": 0.056426,
     "end_time": "2025-08-19T15:53:26.199598",
     "exception": false,
     "start_time": "2025-08-19T15:53:26.143172",
     "status": "completed"
    },
    "tags": []
   },
   "outputs": [
    {
     "name": "stdout",
     "output_type": "stream",
     "text": [
      "Train shape: (28000, 5)\n",
      "Test shape: (12000, 5)\n",
      "<class 'pandas.core.frame.DataFrame'>\n",
      "Index: 12000 entries, 32823 to 1380\n",
      "Data columns (total 5 columns):\n",
      " #   Column  Non-Null Count  Dtype  \n",
      "---  ------  --------------  -----  \n",
      " 0   X1      12000 non-null  float64\n",
      " 1   X2      12000 non-null  float64\n",
      " 2   X3      12000 non-null  float64\n",
      " 3   X4      12000 non-null  float64\n",
      " 4   X5      12000 non-null  float64\n",
      "dtypes: float64(5)\n",
      "memory usage: 562.5 KB\n"
     ]
    }
   ],
   "source": [
    "import numpy as np\n",
    "import pandas as pd\n",
    "from sklearn.preprocessing import StandardScaler\n",
    "\n",
    "\n",
    "\n",
    "\n",
    "\n",
    "# 🔹 Select only numeric columns for scaling\n",
    "numeric_features = x_train.select_dtypes(include=[np.number]).columns\n",
    "\n",
    "scaler = StandardScaler()\n",
    "\n",
    "# Fit on train numeric columns\n",
    "X_train_norm = x_train.copy()\n",
    "X_test_norm = x_test.copy()\n",
    "\n",
    "X_train_norm[numeric_features] = scaler.fit_transform(x_train[numeric_features])\n",
    "X_test_norm[numeric_features]  = scaler.transform(x_test[numeric_features])\n",
    "\n",
    "print(\"Train shape:\", X_train_norm.shape)\n",
    "print(\"Test shape:\", X_test_norm.shape)\n",
    "X_test_norm.info()\n"
   ]
  },
  {
   "cell_type": "code",
   "execution_count": 22,
   "id": "051786fc",
   "metadata": {
    "execution": {
     "iopub.execute_input": "2025-08-19T15:53:26.222036Z",
     "iopub.status.busy": "2025-08-19T15:53:26.221709Z",
     "iopub.status.idle": "2025-08-19T15:53:26.532477Z",
     "shell.execute_reply": "2025-08-19T15:53:26.531149Z"
    },
    "papermill": {
     "duration": 0.323726,
     "end_time": "2025-08-19T15:53:26.534155",
     "exception": false,
     "start_time": "2025-08-19T15:53:26.210429",
     "status": "completed"
    },
    "tags": []
   },
   "outputs": [
    {
     "data": {
      "image/png": "[encoded data removed]",
      "text/plain": [
       "<Figure size 1500x1500 with 1 Axes>"
      ]
     },
     "metadata": {},
     "output_type": "display_data"
    }
   ],
   "source": [
    "fig, ax = plt.subplots(figsize=(15,15))\n",
    "sns.boxplot(data = X_test_norm, ax=ax)\n",
    "plt.savefig(\"boxPlotTestData.jpg\")"
   ]
  },
  {
   "cell_type": "code",
   "execution_count": 23,
   "id": "8085522e",
   "metadata": {
    "execution": {
     "iopub.execute_input": "2025-08-19T15:53:26.557528Z",
     "iopub.status.busy": "2025-08-19T15:53:26.557153Z",
     "iopub.status.idle": "2025-08-19T15:53:26.562312Z",
     "shell.execute_reply": "2025-08-19T15:53:26.561358Z"
    },
    "papermill": {
     "duration": 0.018818,
     "end_time": "2025-08-19T15:53:26.563962",
     "exception": false,
     "start_time": "2025-08-19T15:53:26.545144",
     "status": "completed"
    },
    "tags": []
   },
   "outputs": [],
   "source": [
    "X_train_norm.reset_index(drop=True, inplace=True)\n",
    "y_train.reset_index(drop=True, inplace=True)"
   ]
  },
  {
   "cell_type": "code",
   "execution_count": 24,
   "id": "4e4bb24b",
   "metadata": {
    "execution": {
     "iopub.execute_input": "2025-08-19T15:53:26.591844Z",
     "iopub.status.busy": "2025-08-19T15:53:26.590974Z",
     "iopub.status.idle": "2025-08-19T15:53:26.607378Z",
     "shell.execute_reply": "2025-08-19T15:53:26.606168Z"
    },
    "papermill": {
     "duration": 0.030697,
     "end_time": "2025-08-19T15:53:26.609179",
     "exception": false,
     "start_time": "2025-08-19T15:53:26.578482",
     "status": "completed"
    },
    "tags": []
   },
   "outputs": [
    {
     "name": "stdout",
     "output_type": "stream",
     "text": [
      "<class 'pandas.core.frame.DataFrame'>\n",
      "RangeIndex: 28000 entries, 0 to 27999\n",
      "Data columns (total 1 columns):\n",
      " #   Column  Non-Null Count  Dtype \n",
      "---  ------  --------------  ----- \n",
      " 0   target  28000 non-null  object\n",
      "dtypes: object(1)\n",
      "memory usage: 218.9+ KB\n",
      "<class 'pandas.core.frame.DataFrame'>\n",
      "RangeIndex: 28000 entries, 0 to 27999\n",
      "Data columns (total 5 columns):\n",
      " #   Column  Non-Null Count  Dtype  \n",
      "---  ------  --------------  -----  \n",
      " 0   X1      28000 non-null  float64\n",
      " 1   X2      28000 non-null  float64\n",
      " 2   X3      28000 non-null  float64\n",
      " 3   X4      28000 non-null  float64\n",
      " 4   X5      28000 non-null  float64\n",
      "dtypes: float64(5)\n",
      "memory usage: 1.1 MB\n"
     ]
    }
   ],
   "source": [
    "y_train.info()\n",
    "X_train_norm.info()"
   ]
  },
  {
   "cell_type": "code",
   "execution_count": 25,
   "id": "ca7d9245",
   "metadata": {
    "execution": {
     "iopub.execute_input": "2025-08-19T15:53:26.634072Z",
     "iopub.status.busy": "2025-08-19T15:53:26.633746Z",
     "iopub.status.idle": "2025-08-19T15:53:29.242193Z",
     "shell.execute_reply": "2025-08-19T15:53:29.241047Z"
    },
    "papermill": {
     "duration": 2.622657,
     "end_time": "2025-08-19T15:53:29.243976",
     "exception": false,
     "start_time": "2025-08-19T15:53:26.621319",
     "status": "completed"
    },
    "tags": []
   },
   "outputs": [],
   "source": [
    "import seaborn as sns\n",
    "import plotly.express as px\n",
    "import matplotlib.pyplot as plt\n",
    "import plotly.figure_factory as ff\n",
    "from plotly.subplots import make_subplots"
   ]
  },
  {
   "cell_type": "code",
   "execution_count": 26,
   "id": "6c6f6e07",
   "metadata": {
    "execution": {
     "iopub.execute_input": "2025-08-19T15:53:29.267589Z",
     "iopub.status.busy": "2025-08-19T15:53:29.267015Z",
     "iopub.status.idle": "2025-08-19T15:53:31.029619Z",
     "shell.execute_reply": "2025-08-19T15:53:31.028513Z"
    },
    "papermill": {
     "duration": 1.776085,
     "end_time": "2025-08-19T15:53:31.031101",
     "exception": false,
     "start_time": "2025-08-19T15:53:29.255016",
     "status": "completed"
    },
    "tags": []
   },
   "outputs": [
    {
     "name": "stdout",
     "output_type": "stream",
     "text": [
      "Positive: 604\n",
      "Negative: 27396\n"
     ]
    },
    {
     "data": {
      "text/html": [
       "<html>\n",
       "<head><meta charset=\"utf-8\" /></head>\n",
       "<body>\n",
       "    <div>            <script src=\"https://cdnjs.cloudflare.com/ajax/libs/mathjax/2.7.5/MathJax.js?config=TeX-AMS-MML_SVG\"></script><script type=\"text/javascript\">if (window.MathJax && window.MathJax.Hub && window.MathJax.Hub.Config) {window.MathJax.Hub.Config({SVG: {font: \"STIX-Web\"}});}</script>                <script type=\"text/javascript\">window.PlotlyConfig = {MathJaxConfig: 'local'};</script>\n",
       "        <script charset=\"utf-8\" src=\"https://cdn.plot.ly/plotly-2.35.2.min.js\"></script>                <div id=\"d5c8f904-0962-49e0-b727-8f3d27d5c48e\" class=\"plotly-graph-div\" style=\"height:525px; width:100%;\"></div>            <script type=\"text/javascript\">                                    window.PLOTLYENV=window.PLOTLYENV || {};                                    if (document.getElementById(\"d5c8f904-0962-49e0-b727-8f3d27d5c48e\")) {                    Plotly.newPlot(                        \"d5c8f904-0962-49e0-b727-8f3d27d5c48e\",                        [{\"domain\":{\"x\":[0.0,1.0],\"y\":[0.0,1.0]},\"hovertemplate\":\"label=%{label}\\u003cbr\\u003evalue=%{value}\\u003cextra\\u003e\\u003c\\u002fextra\\u003e\",\"labels\":[\"Positive (1)\",\"Negative (0)\"],\"legendgroup\":\"\",\"name\":\"\",\"opacity\":0.9,\"showlegend\":true,\"values\":[604,27396],\"type\":\"pie\"}],                        {\"template\":{\"data\":{\"barpolar\":[{\"marker\":{\"line\":{\"color\":\"white\",\"width\":0.5},\"pattern\":{\"fillmode\":\"overlay\",\"size\":10,\"solidity\":0.2}},\"type\":\"barpolar\"}],\"bar\":[{\"error_x\":{\"color\":\"rgb(36,36,36)\"},\"error_y\":{\"color\":\"rgb(36,36,36)\"},\"marker\":{\"line\":{\"color\":\"white\",\"width\":0.5},\"pattern\":{\"fillmode\":\"overlay\",\"size\":10,\"solidity\":0.2}},\"type\":\"bar\"}],\"carpet\":[{\"aaxis\":{\"endlinecolor\":\"rgb(36,36,36)\",\"gridcolor\":\"white\",\"linecolor\":\"white\",\"minorgridcolor\":\"white\",\"startlinecolor\":\"rgb(36,36,36)\"},\"baxis\":{\"endlinecolor\":\"rgb(36,36,36)\",\"gridcolor\":\"white\",\"linecolor\":\"white\",\"minorgridcolor\":\"white\",\"startlinecolor\":\"rgb(36,36,36)\"},\"type\":\"carpet\"}],\"choropleth\":[{\"colorbar\":{\"outlinewidth\":1,\"tickcolor\":\"rgb(36,36,36)\",\"ticks\":\"outside\"},\"type\":\"choropleth\"}],\"contourcarpet\":[{\"colorbar\":{\"outlinewidth\":1,\"tickcolor\":\"rgb(36,36,36)\",\"ticks\":\"outside\"},\"type\":\"contourcarpet\"}],\"contour\":[{\"colorbar\":{\"outlinewidth\":1,\"tickcolor\":\"rgb(36,36,36)\",\"ticks\":\"outside\"},\"colorscale\":[[0.0,\"#440154\"],[0.1111111111111111,\"#482878\"],[0.2222222222222222,\"#3e4989\"],[0.3333333333333333,\"#31688e\"],[0.4444444444444444,\"#26828e\"],[0.5555555555555556,\"#1f9e89\"],[0.6666666666666666,\"#35b779\"],[0.7777777777777778,\"#6ece58\"],[0.8888888888888888,\"#b5de2b\"],[1.0,\"#fde725\"]],\"type\":\"contour\"}],\"heatmapgl\":[{\"colorbar\":{\"outlinewidth\":1,\"tickcolor\":\"rgb(36,36,36)\",\"ticks\":\"outside\"},\"colorscale\":[[0.0,\"#440154\"],[0.1111111111111111,\"#482878\"],[0.2222222222222222,\"#3e4989\"],[0.3333333333333333,\"#31688e\"],[0.4444444444444444,\"#26828e\"],[0.5555555555555556,\"#1f9e89\"],[0.6666666666666666,\"#35b779\"],[0.7777777777777778,\"#6ece58\"],[0.8888888888888888,\"#b5de2b\"],[1.0,\"#fde725\"]],\"type\":\"heatmapgl\"}],\"heatmap\":[{\"colorbar\":{\"outlinewidth\":1,\"tickcolor\":\"rgb(36,36,36)\",\"ticks\":\"outside\"},\"colorscale\":[[0.0,\"#440154\"],[0.1111111111111111,\"#482878\"],[0.2222222222222222,\"#3e4989\"],[0.3333333333333333,\"#31688e\"],[0.4444444444444444,\"#26828e\"],[0.5555555555555556,\"#1f9e89\"],[0.6666666666666666,\"#35b779\"],[0.7777777777777778,\"#6ece58\"],[0.8888888888888888,\"#b5de2b\"],[1.0,\"#fde725\"]],\"type\":\"heatmap\"}],\"histogram2dcontour\":[{\"colorbar\":{\"outlinewidth\":1,\"tickcolor\":\"rgb(36,36,36)\",\"ticks\":\"outside\"},\"colorscale\":[[0.0,\"#440154\"],[0.1111111111111111,\"#482878\"],[0.2222222222222222,\"#3e4989\"],[0.3333333333333333,\"#31688e\"],[0.4444444444444444,\"#26828e\"],[0.5555555555555556,\"#1f9e89\"],[0.6666666666666666,\"#35b779\"],[0.7777777777777778,\"#6ece58\"],[0.8888888888888888,\"#b5de2b\"],[1.0,\"#fde725\"]],\"type\":\"histogram2dcontour\"}],\"histogram2d\":[{\"colorbar\":{\"outlinewidth\":1,\"tickcolor\":\"rgb(36,36,36)\",\"ticks\":\"outside\"},\"colorscale\":[[0.0,\"#440154\"],[0.1111111111111111,\"#482878\"],[0.2222222222222222,\"#3e4989\"],[0.3333333333333333,\"#31688e\"],[0.4444444444444444,\"#26828e\"],[0.5555555555555556,\"#1f9e89\"],[0.6666666666666666,\"#35b779\"],[0.7777777777777778,\"#6ece58\"],[0.8888888888888888,\"#b5de2b\"],[1.0,\"#fde725\"]],\"type\":\"histogram2d\"}],\"histogram\":[{\"marker\":{\"line\":{\"color\":\"white\",\"width\":0.6}},\"type\":\"histogram\"}],\"mesh3d\":[{\"colorbar\":{\"outlinewidth\":1,\"tickcolor\":\"rgb(36,36,36)\",\"ticks\":\"outside\"},\"type\":\"mesh3d\"}],\"parcoords\":[{\"line\":{\"colorbar\":{\"outlinewidth\":1,\"tickcolor\":\"rgb(36,36,36)\",\"ticks\":\"outside\"}},\"type\":\"parcoords\"}],\"pie\":[{\"automargin\":true,\"type\":\"pie\"}],\"scatter3d\":[{\"line\":{\"colorbar\":{\"outlinewidth\":1,\"tickcolor\":\"rgb(36,36,36)\",\"ticks\":\"outside\"}},\"marker\":{\"colorbar\":{\"outlinewidth\":1,\"tickcolor\":\"rgb(36,36,36)\",\"ticks\":\"outside\"}},\"type\":\"scatter3d\"}],\"scattercarpet\":[{\"marker\":{\"colorbar\":{\"outlinewidth\":1,\"tickcolor\":\"rgb(36,36,36)\",\"ticks\":\"outside\"}},\"type\":\"scattercarpet\"}],\"scattergeo\":[{\"marker\":{\"colorbar\":{\"outlinewidth\":1,\"tickcolor\":\"rgb(36,36,36)\",\"ticks\":\"outside\"}},\"type\":\"scattergeo\"}],\"scattergl\":[{\"marker\":{\"colorbar\":{\"outlinewidth\":1,\"tickcolor\":\"rgb(36,36,36)\",\"ticks\":\"outside\"}},\"type\":\"scattergl\"}],\"scattermapbox\":[{\"marker\":{\"colorbar\":{\"outlinewidth\":1,\"tickcolor\":\"rgb(36,36,36)\",\"ticks\":\"outside\"}},\"type\":\"scattermapbox\"}],\"scatterpolargl\":[{\"marker\":{\"colorbar\":{\"outlinewidth\":1,\"tickcolor\":\"rgb(36,36,36)\",\"ticks\":\"outside\"}},\"type\":\"scatterpolargl\"}],\"scatterpolar\":[{\"marker\":{\"colorbar\":{\"outlinewidth\":1,\"tickcolor\":\"rgb(36,36,36)\",\"ticks\":\"outside\"}},\"type\":\"scatterpolar\"}],\"scatter\":[{\"fillpattern\":{\"fillmode\":\"overlay\",\"size\":10,\"solidity\":0.2},\"type\":\"scatter\"}],\"scatterternary\":[{\"marker\":{\"colorbar\":{\"outlinewidth\":1,\"tickcolor\":\"rgb(36,36,36)\",\"ticks\":\"outside\"}},\"type\":\"scatterternary\"}],\"surface\":[{\"colorbar\":{\"outlinewidth\":1,\"tickcolor\":\"rgb(36,36,36)\",\"ticks\":\"outside\"},\"colorscale\":[[0.0,\"#440154\"],[0.1111111111111111,\"#482878\"],[0.2222222222222222,\"#3e4989\"],[0.3333333333333333,\"#31688e\"],[0.4444444444444444,\"#26828e\"],[0.5555555555555556,\"#1f9e89\"],[0.6666666666666666,\"#35b779\"],[0.7777777777777778,\"#6ece58\"],[0.8888888888888888,\"#b5de2b\"],[1.0,\"#fde725\"]],\"type\":\"surface\"}],\"table\":[{\"cells\":{\"fill\":{\"color\":\"rgb(237,237,237)\"},\"line\":{\"color\":\"white\"}},\"header\":{\"fill\":{\"color\":\"rgb(217,217,217)\"},\"line\":{\"color\":\"white\"}},\"type\":\"table\"}]},\"layout\":{\"annotationdefaults\":{\"arrowhead\":0,\"arrowwidth\":1},\"autotypenumbers\":\"strict\",\"coloraxis\":{\"colorbar\":{\"outlinewidth\":1,\"tickcolor\":\"rgb(36,36,36)\",\"ticks\":\"outside\"}},\"colorscale\":{\"diverging\":[[0.0,\"rgb(103,0,31)\"],[0.1,\"rgb(178,24,43)\"],[0.2,\"rgb(214,96,77)\"],[0.3,\"rgb(244,165,130)\"],[0.4,\"rgb(253,219,199)\"],[0.5,\"rgb(247,247,247)\"],[0.6,\"rgb(209,229,240)\"],[0.7,\"rgb(146,197,222)\"],[0.8,\"rgb(67,147,195)\"],[0.9,\"rgb(33,102,172)\"],[1.0,\"rgb(5,48,97)\"]],\"sequential\":[[0.0,\"#440154\"],[0.1111111111111111,\"#482878\"],[0.2222222222222222,\"#3e4989\"],[0.3333333333333333,\"#31688e\"],[0.4444444444444444,\"#26828e\"],[0.5555555555555556,\"#1f9e89\"],[0.6666666666666666,\"#35b779\"],[0.7777777777777778,\"#6ece58\"],[0.8888888888888888,\"#b5de2b\"],[1.0,\"#fde725\"]],\"sequentialminus\":[[0.0,\"#440154\"],[0.1111111111111111,\"#482878\"],[0.2222222222222222,\"#3e4989\"],[0.3333333333333333,\"#31688e\"],[0.4444444444444444,\"#26828e\"],[0.5555555555555556,\"#1f9e89\"],[0.6666666666666666,\"#35b779\"],[0.7777777777777778,\"#6ece58\"],[0.8888888888888888,\"#b5de2b\"],[1.0,\"#fde725\"]]},\"colorway\":[\"#1F77B4\",\"#FF7F0E\",\"#2CA02C\",\"#D62728\",\"#9467BD\",\"#8C564B\",\"#E377C2\",\"#7F7F7F\",\"#BCBD22\",\"#17BECF\"],\"font\":{\"color\":\"rgb(36,36,36)\"},\"geo\":{\"bgcolor\":\"white\",\"lakecolor\":\"white\",\"landcolor\":\"white\",\"showlakes\":true,\"showland\":true,\"subunitcolor\":\"white\"},\"hoverlabel\":{\"align\":\"left\"},\"hovermode\":\"closest\",\"mapbox\":{\"style\":\"light\"},\"paper_bgcolor\":\"white\",\"plot_bgcolor\":\"white\",\"polar\":{\"angularaxis\":{\"gridcolor\":\"rgb(232,232,232)\",\"linecolor\":\"rgb(36,36,36)\",\"showgrid\":false,\"showline\":true,\"ticks\":\"outside\"},\"bgcolor\":\"white\",\"radialaxis\":{\"gridcolor\":\"rgb(232,232,232)\",\"linecolor\":\"rgb(36,36,36)\",\"showgrid\":false,\"showline\":true,\"ticks\":\"outside\"}},\"scene\":{\"xaxis\":{\"backgroundcolor\":\"white\",\"gridcolor\":\"rgb(232,232,232)\",\"gridwidth\":2,\"linecolor\":\"rgb(36,36,36)\",\"showbackground\":true,\"showgrid\":false,\"showline\":true,\"ticks\":\"outside\",\"zeroline\":false,\"zerolinecolor\":\"rgb(36,36,36)\"},\"yaxis\":{\"backgroundcolor\":\"white\",\"gridcolor\":\"rgb(232,232,232)\",\"gridwidth\":2,\"linecolor\":\"rgb(36,36,36)\",\"showbackground\":true,\"showgrid\":false,\"showline\":true,\"ticks\":\"outside\",\"zeroline\":false,\"zerolinecolor\":\"rgb(36,36,36)\"},\"zaxis\":{\"backgroundcolor\":\"white\",\"gridcolor\":\"rgb(232,232,232)\",\"gridwidth\":2,\"linecolor\":\"rgb(36,36,36)\",\"showbackground\":true,\"showgrid\":false,\"showline\":true,\"ticks\":\"outside\",\"zeroline\":false,\"zerolinecolor\":\"rgb(36,36,36)\"}},\"shapedefaults\":{\"fillcolor\":\"black\",\"line\":{\"width\":0},\"opacity\":0.3},\"ternary\":{\"aaxis\":{\"gridcolor\":\"rgb(232,232,232)\",\"linecolor\":\"rgb(36,36,36)\",\"showgrid\":false,\"showline\":true,\"ticks\":\"outside\"},\"baxis\":{\"gridcolor\":\"rgb(232,232,232)\",\"linecolor\":\"rgb(36,36,36)\",\"showgrid\":false,\"showline\":true,\"ticks\":\"outside\"},\"bgcolor\":\"white\",\"caxis\":{\"gridcolor\":\"rgb(232,232,232)\",\"linecolor\":\"rgb(36,36,36)\",\"showgrid\":false,\"showline\":true,\"ticks\":\"outside\"}},\"title\":{\"x\":0.05},\"xaxis\":{\"automargin\":true,\"gridcolor\":\"rgb(232,232,232)\",\"linecolor\":\"rgb(36,36,36)\",\"showgrid\":false,\"showline\":true,\"ticks\":\"outside\",\"title\":{\"standoff\":15},\"zeroline\":false,\"zerolinecolor\":\"rgb(36,36,36)\"},\"yaxis\":{\"automargin\":true,\"gridcolor\":\"rgb(232,232,232)\",\"linecolor\":\"rgb(36,36,36)\",\"showgrid\":false,\"showline\":true,\"ticks\":\"outside\",\"title\":{\"standoff\":15},\"zeroline\":false,\"zerolinecolor\":\"rgb(36,36,36)\"}}},\"legend\":{\"tracegroupgap\":0},\"title\":{\"text\":\"Distribution\"}},                        {\"responsive\": true}                    ).then(function(){\n",
       "                            \n",
       "var gd = document.getElementById('d5c8f904-0962-49e0-b727-8f3d27d5c48e');\n",
       "var x = new MutationObserver(function (mutations, observer) {{\n",
       "        var display = window.getComputedStyle(gd).display;\n",
       "        if (!display || display === 'none') {{\n",
       "            console.log([gd, 'removed!']);\n",
       "            Plotly.purge(gd);\n",
       "            observer.disconnect();\n",
       "        }}\n",
       "}});\n",
       "\n",
       "// Listen for the removal of the full notebook cells\n",
       "var notebookContainer = gd.closest('#notebook-container');\n",
       "if (notebookContainer) {{\n",
       "    x.observe(notebookContainer, {childList: true});\n",
       "}}\n",
       "\n",
       "// Listen for the clearing of the current output cell\n",
       "var outputEl = gd.closest('.output');\n",
       "if (outputEl) {{\n",
       "    x.observe(outputEl, {childList: true});\n",
       "}}\n",
       "\n",
       "                        })                };                            </script>        </div>\n",
       "</body>\n",
       "</html>"
      ]
     },
     "metadata": {},
     "output_type": "display_data"
    }
   ],
   "source": [
    "import pandas as pd\n",
    "import plotly.express as px\n",
    "\n",
    "# Convert Series to DataFrame\n",
    "y_train_df = y_train\n",
    "\n",
    "# Make sure target column is integer (not object/string)\n",
    "y_train_df['target'] = y_train_df['target'].astype(int)\n",
    "\n",
    "# Count positive and negative tweets\n",
    "one_count = y_train_df[y_train_df['target'] == 1].shape[0]\n",
    "zero_count = y_train_df[y_train_df['target'] == 0].shape[0]\n",
    "\n",
    "print(\"Positive:\", one_count)\n",
    "print(\"Negative:\", zero_count)\n",
    "\n",
    "# Pie chart\n",
    "fig = px.pie(\n",
    "    values=[one_count, zero_count],\n",
    "    names=['Positive (1)', 'Negative (0)'],\n",
    "    title='Distribution',\n",
    "    opacity=0.9,\n",
    "    template='simple_white'\n",
    ")\n",
    "fig.show()\n"
   ]
  },
  {
   "cell_type": "code",
   "execution_count": 27,
   "id": "b9295732",
   "metadata": {
    "execution": {
     "iopub.execute_input": "2025-08-19T15:53:31.055987Z",
     "iopub.status.busy": "2025-08-19T15:53:31.055667Z",
     "iopub.status.idle": "2025-08-19T15:53:31.095524Z",
     "shell.execute_reply": "2025-08-19T15:53:31.094476Z"
    },
    "papermill": {
     "duration": 0.054227,
     "end_time": "2025-08-19T15:53:31.096999",
     "exception": false,
     "start_time": "2025-08-19T15:53:31.042772",
     "status": "completed"
    },
    "tags": []
   },
   "outputs": [
    {
     "name": "stdout",
     "output_type": "stream",
     "text": [
      "\n",
      "Resampled class distribution:\n",
      "0    27396\n",
      "1    27396\n",
      "Name: count, dtype: int64\n"
     ]
    }
   ],
   "source": [
    "from imblearn.over_sampling import SMOTE\n",
    "\n",
    "# Apply SMOTE\n",
    "smote = SMOTE(random_state=42)\n",
    "X_train_resampled, y_train_resampled = smote.fit_resample(x_train, y_train)\n",
    "\n",
    "# Convert to 1D array\n",
    "y_train_resampled = y_train_resampled.values.ravel()   # works even if DataFrame\n",
    "\n",
    "# Check resampled class distribution\n",
    "print(\"\\nResampled class distribution:\")\n",
    "print(pd.Series(y_train_resampled).value_counts())\n"
   ]
  },
  {
   "cell_type": "code",
   "execution_count": 28,
   "id": "5b7ccaf9",
   "metadata": {
    "execution": {
     "iopub.execute_input": "2025-08-19T15:53:31.123061Z",
     "iopub.status.busy": "2025-08-19T15:53:31.122164Z",
     "iopub.status.idle": "2025-08-19T15:53:31.427595Z",
     "shell.execute_reply": "2025-08-19T15:53:31.426483Z"
    },
    "papermill": {
     "duration": 0.320402,
     "end_time": "2025-08-19T15:53:31.429344",
     "exception": false,
     "start_time": "2025-08-19T15:53:31.108942",
     "status": "completed"
    },
    "tags": []
   },
   "outputs": [],
   "source": [
    "from sklearn.metrics import classification_report, ConfusionMatrixDisplay\n",
    "from sklearn.model_selection import train_test_split, RandomizedSearchCV, GridSearchCV\n",
    "import xgboost as xgb"
   ]
  },
  {
   "cell_type": "code",
   "execution_count": 29,
   "id": "7da6d388",
   "metadata": {
    "execution": {
     "iopub.execute_input": "2025-08-19T15:53:31.458676Z",
     "iopub.status.busy": "2025-08-19T15:53:31.458300Z",
     "iopub.status.idle": "2025-08-19T15:53:31.463776Z",
     "shell.execute_reply": "2025-08-19T15:53:31.462655Z"
    },
    "papermill": {
     "duration": 0.023078,
     "end_time": "2025-08-19T15:53:31.465834",
     "exception": false,
     "start_time": "2025-08-19T15:53:31.442756",
     "status": "completed"
    },
    "tags": []
   },
   "outputs": [],
   "source": [
    "xgb_model = xgb.XGBClassifier(\n",
    "    objective=\"binary:logistic\",  \n",
    "    eval_metric=\"logloss\",  \n",
    "    use_label_encoder=False,  \n",
    "    n_estimators=200,  \n",
    "    max_depth=6,  \n",
    "    learning_rate=0.05,  \n",
    "    subsample=0.8,  \n",
    "    colsample_bytree=0.8,  \n",
    "    random_state=42,  \n",
    "    tree_method=\"hist\",\n",
    "    device=\"gpu\"\n",
    ")"
   ]
  },
  {
   "cell_type": "code",
   "execution_count": 30,
   "id": "2b39b249",
   "metadata": {
    "execution": {
     "iopub.execute_input": "2025-08-19T15:53:31.491138Z",
     "iopub.status.busy": "2025-08-19T15:53:31.490851Z",
     "iopub.status.idle": "2025-08-19T15:53:31.498779Z",
     "shell.execute_reply": "2025-08-19T15:53:31.497629Z"
    },
    "papermill": {
     "duration": 0.022504,
     "end_time": "2025-08-19T15:53:31.500488",
     "exception": false,
     "start_time": "2025-08-19T15:53:31.477984",
     "status": "completed"
    },
    "tags": []
   },
   "outputs": [],
   "source": [
    "param_grid = {\n",
    "    'n_estimators': [100, 200, 500],\n",
    "    'max_depth': [3, 5, 7, 10],\n",
    "    'learning_rate': [0.01, 0.05, 0.1, 0.2],\n",
    "    'subsample': [0.6, 0.8, 1.0],\n",
    "    'colsample_bytree': [0.6, 0.8, 1.0],\n",
    "    'gamma': [0, 0.1, 0.2, 0.3],\n",
    "    'min_child_weight': [1, 3, 5],\n",
    "    'lambda': [0, 1, 5]\n",
    "}"
   ]
  },
  {
   "cell_type": "code",
   "execution_count": 31,
   "id": "18213a5a",
   "metadata": {
    "execution": {
     "iopub.execute_input": "2025-08-19T15:53:31.527629Z",
     "iopub.status.busy": "2025-08-19T15:53:31.527256Z",
     "iopub.status.idle": "2025-08-19T15:53:31.532721Z",
     "shell.execute_reply": "2025-08-19T15:53:31.531575Z"
    },
    "papermill": {
     "duration": 0.021157,
     "end_time": "2025-08-19T15:53:31.534260",
     "exception": false,
     "start_time": "2025-08-19T15:53:31.513103",
     "status": "completed"
    },
    "tags": []
   },
   "outputs": [],
   "source": [
    "r_model = RandomizedSearchCV(\n",
    "    xgb.XGBClassifier(\n",
    "        objective=\"binary:logistic\", \n",
    "        eval_metric=\"logloss\", \n",
    "        use_label_encoder=False,\n",
    "        tree_method=\"hist\",\n",
    "        device=\"gpu\"\n",
    "    ),\n",
    "    param_distributions=param_grid,\n",
    "    n_iter=20,\n",
    "    scoring='f1',\n",
    "    cv=3,\n",
    "    verbose=1,\n",
    "    n_jobs=-1\n",
    ")"
   ]
  },
  {
   "cell_type": "code",
   "execution_count": 32,
   "id": "1d6651b9",
   "metadata": {
    "execution": {
     "iopub.execute_input": "2025-08-19T15:53:31.560217Z",
     "iopub.status.busy": "2025-08-19T15:53:31.559882Z",
     "iopub.status.idle": "2025-08-19T15:54:05.363078Z",
     "shell.execute_reply": "2025-08-19T15:54:05.362481Z"
    },
    "papermill": {
     "duration": 33.817461,
     "end_time": "2025-08-19T15:54:05.364475",
     "exception": false,
     "start_time": "2025-08-19T15:53:31.547014",
     "status": "completed"
    },
    "tags": []
   },
   "outputs": [
    {
     "name": "stdout",
     "output_type": "stream",
     "text": [
      "Fitting 3 folds for each of 20 candidates, totalling 60 fits\n"
     ]
    },
    {
     "name": "stderr",
     "output_type": "stream",
     "text": [
      "/usr/local/lib/python3.11/dist-packages/xgboost/core.py:160: UserWarning: [15:53:33] WARNING: /workspace/src/context.cc:44: No visible GPU is found, setting device to CPU.\n",
      "  warnings.warn(smsg, UserWarning)\n",
      "/usr/local/lib/python3.11/dist-packages/xgboost/core.py:160: UserWarning: [15:53:33] WARNING: /workspace/src/context.cc:44: No visible GPU is found, setting device to CPU.\n",
      "  warnings.warn(smsg, UserWarning)\n",
      "/usr/local/lib/python3.11/dist-packages/xgboost/core.py:160: UserWarning: [15:53:33] WARNING: /workspace/src/context.cc:44: No visible GPU is found, setting device to CPU.\n",
      "  warnings.warn(smsg, UserWarning)\n",
      "/usr/local/lib/python3.11/dist-packages/xgboost/core.py:160: UserWarning: [15:53:33] WARNING: /workspace/src/context.cc:44: No visible GPU is found, setting device to CPU.\n",
      "  warnings.warn(smsg, UserWarning)\n",
      "/usr/local/lib/python3.11/dist-packages/xgboost/core.py:160: UserWarning: [15:53:34] WARNING: /workspace/src/context.cc:44: No visible GPU is found, setting device to CPU.\n",
      "  warnings.warn(smsg, UserWarning)\n",
      "/usr/local/lib/python3.11/dist-packages/xgboost/core.py:160: UserWarning: [15:53:35] WARNING: /workspace/src/context.cc:44: No visible GPU is found, setting device to CPU.\n",
      "  warnings.warn(smsg, UserWarning)\n",
      "/usr/local/lib/python3.11/dist-packages/xgboost/core.py:160: UserWarning: [15:53:35] WARNING: /workspace/src/context.cc:44: No visible GPU is found, setting device to CPU.\n",
      "  warnings.warn(smsg, UserWarning)\n",
      "/usr/local/lib/python3.11/dist-packages/xgboost/core.py:160: UserWarning: [15:53:35] WARNING: /workspace/src/context.cc:44: No visible GPU is found, setting device to CPU.\n",
      "  warnings.warn(smsg, UserWarning)\n",
      "/usr/local/lib/python3.11/dist-packages/xgboost/core.py:160: UserWarning: [15:53:35] WARNING: /workspace/src/context.cc:44: No visible GPU is found, setting device to CPU.\n",
      "  warnings.warn(smsg, UserWarning)\n",
      "/usr/local/lib/python3.11/dist-packages/xgboost/core.py:160: UserWarning: [15:53:35] WARNING: /workspace/src/context.cc:44: No visible GPU is found, setting device to CPU.\n",
      "  warnings.warn(smsg, UserWarning)\n",
      "/usr/local/lib/python3.11/dist-packages/xgboost/core.py:160: UserWarning: [15:53:36] WARNING: /workspace/src/context.cc:44: No visible GPU is found, setting device to CPU.\n",
      "  warnings.warn(smsg, UserWarning)\n",
      "/usr/local/lib/python3.11/dist-packages/xgboost/core.py:160: UserWarning: [15:53:37] WARNING: /workspace/src/context.cc:44: No visible GPU is found, setting device to CPU.\n",
      "  warnings.warn(smsg, UserWarning)\n",
      "/usr/local/lib/python3.11/dist-packages/xgboost/core.py:160: UserWarning: [15:53:37] WARNING: /workspace/src/context.cc:44: No visible GPU is found, setting device to CPU.\n",
      "  warnings.warn(smsg, UserWarning)\n",
      "/usr/local/lib/python3.11/dist-packages/xgboost/core.py:160: UserWarning: [15:53:37] WARNING: /workspace/src/context.cc:44: No visible GPU is found, setting device to CPU.\n",
      "  warnings.warn(smsg, UserWarning)\n",
      "/usr/local/lib/python3.11/dist-packages/xgboost/core.py:160: UserWarning: [15:53:37] WARNING: /workspace/src/context.cc:44: No visible GPU is found, setting device to CPU.\n",
      "  warnings.warn(smsg, UserWarning)\n",
      "/usr/local/lib/python3.11/dist-packages/xgboost/core.py:160: UserWarning: [15:53:38] WARNING: /workspace/src/context.cc:44: No visible GPU is found, setting device to CPU.\n",
      "  warnings.warn(smsg, UserWarning)\n",
      "/usr/local/lib/python3.11/dist-packages/xgboost/core.py:160: UserWarning: [15:53:39] WARNING: /workspace/src/context.cc:44: No visible GPU is found, setting device to CPU.\n",
      "  warnings.warn(smsg, UserWarning)\n",
      "/usr/local/lib/python3.11/dist-packages/xgboost/core.py:160: UserWarning: [15:53:40] WARNING: /workspace/src/context.cc:44: No visible GPU is found, setting device to CPU.\n",
      "  warnings.warn(smsg, UserWarning)\n",
      "/usr/local/lib/python3.11/dist-packages/xgboost/core.py:160: UserWarning: [15:53:40] WARNING: /workspace/src/context.cc:44: No visible GPU is found, setting device to CPU.\n",
      "  warnings.warn(smsg, UserWarning)\n",
      "/usr/local/lib/python3.11/dist-packages/xgboost/core.py:160: UserWarning: [15:53:40] WARNING: /workspace/src/context.cc:44: No visible GPU is found, setting device to CPU.\n",
      "  warnings.warn(smsg, UserWarning)\n",
      "/usr/local/lib/python3.11/dist-packages/xgboost/core.py:160: UserWarning: [15:53:40] WARNING: /workspace/src/context.cc:44: No visible GPU is found, setting device to CPU.\n",
      "  warnings.warn(smsg, UserWarning)\n",
      "/usr/local/lib/python3.11/dist-packages/xgboost/core.py:160: UserWarning: [15:53:41] WARNING: /workspace/src/context.cc:44: No visible GPU is found, setting device to CPU.\n",
      "  warnings.warn(smsg, UserWarning)\n",
      "/usr/local/lib/python3.11/dist-packages/xgboost/core.py:160: UserWarning: [15:53:42] WARNING: /workspace/src/context.cc:44: No visible GPU is found, setting device to CPU.\n",
      "  warnings.warn(smsg, UserWarning)\n",
      "/usr/local/lib/python3.11/dist-packages/xgboost/core.py:160: UserWarning: [15:53:42] WARNING: /workspace/src/context.cc:44: No visible GPU is found, setting device to CPU.\n",
      "  warnings.warn(smsg, UserWarning)\n",
      "/usr/local/lib/python3.11/dist-packages/xgboost/core.py:160: UserWarning: [15:53:43] WARNING: /workspace/src/context.cc:44: No visible GPU is found, setting device to CPU.\n",
      "  warnings.warn(smsg, UserWarning)\n",
      "/usr/local/lib/python3.11/dist-packages/xgboost/core.py:160: UserWarning: [15:53:43] WARNING: /workspace/src/context.cc:44: No visible GPU is found, setting device to CPU.\n",
      "  warnings.warn(smsg, UserWarning)\n",
      "/usr/local/lib/python3.11/dist-packages/xgboost/core.py:160: UserWarning: [15:53:45] WARNING: /workspace/src/context.cc:44: No visible GPU is found, setting device to CPU.\n",
      "  warnings.warn(smsg, UserWarning)\n",
      "/usr/local/lib/python3.11/dist-packages/xgboost/core.py:160: UserWarning: [15:53:45] WARNING: /workspace/src/context.cc:44: No visible GPU is found, setting device to CPU.\n",
      "  warnings.warn(smsg, UserWarning)\n",
      "/usr/local/lib/python3.11/dist-packages/xgboost/core.py:160: UserWarning: [15:53:47] WARNING: /workspace/src/context.cc:44: No visible GPU is found, setting device to CPU.\n",
      "  warnings.warn(smsg, UserWarning)\n",
      "/usr/local/lib/python3.11/dist-packages/xgboost/core.py:160: UserWarning: [15:53:47] WARNING: /workspace/src/context.cc:44: No visible GPU is found, setting device to CPU.\n",
      "  warnings.warn(smsg, UserWarning)\n",
      "/usr/local/lib/python3.11/dist-packages/xgboost/core.py:160: UserWarning: [15:53:48] WARNING: /workspace/src/context.cc:44: No visible GPU is found, setting device to CPU.\n",
      "  warnings.warn(smsg, UserWarning)\n",
      "/usr/local/lib/python3.11/dist-packages/xgboost/core.py:160: UserWarning: [15:53:50] WARNING: /workspace/src/context.cc:44: No visible GPU is found, setting device to CPU.\n",
      "  warnings.warn(smsg, UserWarning)\n",
      "/usr/local/lib/python3.11/dist-packages/xgboost/core.py:160: UserWarning: [15:53:50] WARNING: /workspace/src/context.cc:44: No visible GPU is found, setting device to CPU.\n",
      "  warnings.warn(smsg, UserWarning)\n",
      "/usr/local/lib/python3.11/dist-packages/xgboost/core.py:160: UserWarning: [15:53:50] WARNING: /workspace/src/context.cc:44: No visible GPU is found, setting device to CPU.\n",
      "  warnings.warn(smsg, UserWarning)\n",
      "/usr/local/lib/python3.11/dist-packages/xgboost/core.py:160: UserWarning: [15:53:50] WARNING: /workspace/src/context.cc:44: No visible GPU is found, setting device to CPU.\n",
      "  warnings.warn(smsg, UserWarning)\n",
      "/usr/local/lib/python3.11/dist-packages/xgboost/core.py:160: UserWarning: [15:53:51] WARNING: /workspace/src/context.cc:44: No visible GPU is found, setting device to CPU.\n",
      "  warnings.warn(smsg, UserWarning)\n",
      "/usr/local/lib/python3.11/dist-packages/xgboost/core.py:160: UserWarning: [15:53:52] WARNING: /workspace/src/context.cc:44: No visible GPU is found, setting device to CPU.\n",
      "  warnings.warn(smsg, UserWarning)\n",
      "/usr/local/lib/python3.11/dist-packages/xgboost/core.py:160: UserWarning: [15:53:52] WARNING: /workspace/src/context.cc:44: No visible GPU is found, setting device to CPU.\n",
      "  warnings.warn(smsg, UserWarning)\n",
      "/usr/local/lib/python3.11/dist-packages/xgboost/core.py:160: UserWarning: [15:53:53] WARNING: /workspace/src/context.cc:44: No visible GPU is found, setting device to CPU.\n",
      "  warnings.warn(smsg, UserWarning)\n",
      "/usr/local/lib/python3.11/dist-packages/xgboost/core.py:160: UserWarning: [15:53:53] WARNING: /workspace/src/context.cc:44: No visible GPU is found, setting device to CPU.\n",
      "  warnings.warn(smsg, UserWarning)\n",
      "/usr/local/lib/python3.11/dist-packages/xgboost/core.py:160: UserWarning: [15:53:54] WARNING: /workspace/src/context.cc:44: No visible GPU is found, setting device to CPU.\n",
      "  warnings.warn(smsg, UserWarning)\n",
      "/usr/local/lib/python3.11/dist-packages/xgboost/core.py:160: UserWarning: [15:53:55] WARNING: /workspace/src/context.cc:44: No visible GPU is found, setting device to CPU.\n",
      "  warnings.warn(smsg, UserWarning)\n",
      "/usr/local/lib/python3.11/dist-packages/xgboost/core.py:160: UserWarning: [15:53:55] WARNING: /workspace/src/context.cc:44: No visible GPU is found, setting device to CPU.\n",
      "  warnings.warn(smsg, UserWarning)\n",
      "/usr/local/lib/python3.11/dist-packages/xgboost/core.py:160: UserWarning: [15:53:56] WARNING: /workspace/src/context.cc:44: No visible GPU is found, setting device to CPU.\n",
      "  warnings.warn(smsg, UserWarning)\n",
      "/usr/local/lib/python3.11/dist-packages/xgboost/core.py:160: UserWarning: [15:53:56] WARNING: /workspace/src/context.cc:44: No visible GPU is found, setting device to CPU.\n",
      "  warnings.warn(smsg, UserWarning)\n",
      "/usr/local/lib/python3.11/dist-packages/xgboost/core.py:160: UserWarning: [15:53:56] WARNING: /workspace/src/context.cc:44: No visible GPU is found, setting device to CPU.\n",
      "  warnings.warn(smsg, UserWarning)\n",
      "/usr/local/lib/python3.11/dist-packages/xgboost/core.py:160: UserWarning: [15:53:57] WARNING: /workspace/src/context.cc:44: No visible GPU is found, setting device to CPU.\n",
      "  warnings.warn(smsg, UserWarning)\n",
      "/usr/local/lib/python3.11/dist-packages/xgboost/core.py:160: UserWarning: [15:53:57] WARNING: /workspace/src/context.cc:44: No visible GPU is found, setting device to CPU.\n",
      "  warnings.warn(smsg, UserWarning)\n",
      "/usr/local/lib/python3.11/dist-packages/xgboost/core.py:160: UserWarning: [15:53:57] WARNING: /workspace/src/context.cc:44: No visible GPU is found, setting device to CPU.\n",
      "  warnings.warn(smsg, UserWarning)\n",
      "/usr/local/lib/python3.11/dist-packages/xgboost/core.py:160: UserWarning: [15:53:58] WARNING: /workspace/src/context.cc:44: No visible GPU is found, setting device to CPU.\n",
      "  warnings.warn(smsg, UserWarning)\n",
      "/usr/local/lib/python3.11/dist-packages/xgboost/core.py:160: UserWarning: [15:53:59] WARNING: /workspace/src/context.cc:44: No visible GPU is found, setting device to CPU.\n",
      "  warnings.warn(smsg, UserWarning)\n",
      "/usr/local/lib/python3.11/dist-packages/xgboost/core.py:160: UserWarning: [15:54:00] WARNING: /workspace/src/context.cc:44: No visible GPU is found, setting device to CPU.\n",
      "  warnings.warn(smsg, UserWarning)\n",
      "/usr/local/lib/python3.11/dist-packages/xgboost/core.py:160: UserWarning: [15:54:00] WARNING: /workspace/src/context.cc:44: No visible GPU is found, setting device to CPU.\n",
      "  warnings.warn(smsg, UserWarning)\n",
      "/usr/local/lib/python3.11/dist-packages/xgboost/core.py:160: UserWarning: [15:54:01] WARNING: /workspace/src/context.cc:44: No visible GPU is found, setting device to CPU.\n",
      "  warnings.warn(smsg, UserWarning)\n",
      "/usr/local/lib/python3.11/dist-packages/xgboost/core.py:160: UserWarning: [15:54:01] WARNING: /workspace/src/context.cc:44: No visible GPU is found, setting device to CPU.\n",
      "  warnings.warn(smsg, UserWarning)\n",
      "/usr/local/lib/python3.11/dist-packages/xgboost/core.py:160: UserWarning: [15:54:01] WARNING: /workspace/src/context.cc:44: No visible GPU is found, setting device to CPU.\n",
      "  warnings.warn(smsg, UserWarning)\n",
      "/usr/local/lib/python3.11/dist-packages/xgboost/core.py:160: UserWarning: [15:54:01] WARNING: /workspace/src/context.cc:44: No visible GPU is found, setting device to CPU.\n",
      "  warnings.warn(smsg, UserWarning)\n",
      "/usr/local/lib/python3.11/dist-packages/xgboost/core.py:160: UserWarning: [15:54:02] WARNING: /workspace/src/context.cc:44: No visible GPU is found, setting device to CPU.\n",
      "  warnings.warn(smsg, UserWarning)\n",
      "/usr/local/lib/python3.11/dist-packages/xgboost/core.py:160: UserWarning: [15:54:02] WARNING: /workspace/src/context.cc:44: No visible GPU is found, setting device to CPU.\n",
      "  warnings.warn(smsg, UserWarning)\n",
      "/usr/local/lib/python3.11/dist-packages/xgboost/core.py:160: UserWarning: [15:54:02] WARNING: /workspace/src/context.cc:44: No visible GPU is found, setting device to CPU.\n",
      "  warnings.warn(smsg, UserWarning)\n",
      "/usr/local/lib/python3.11/dist-packages/xgboost/core.py:160: UserWarning:\n",
      "\n",
      "[15:54:03] WARNING: /workspace/src/context.cc:44: No visible GPU is found, setting device to CPU.\n",
      "\n"
     ]
    },
    {
     "data": {
      "text/html": [
       "<style>#sk-container-id-1 {color: black;background-color: white;}#sk-container-id-1 pre{padding: 0;}#sk-container-id-1 div.sk-toggleable {background-color: white;}#sk-container-id-1 label.sk-toggleable__label {cursor: pointer;display: block;width: 100%;margin-bottom: 0;padding: 0.3em;box-sizing: border-box;text-align: center;}#sk-container-id-1 label.sk-toggleable__label-arrow:before {content: \"▸\";float: left;margin-right: 0.25em;color: #696969;}#sk-container-id-1 label.sk-toggleable__label-arrow:hover:before {color: black;}#sk-container-id-1 div.sk-estimator:hover label.sk-toggleable__label-arrow:before {color: black;}#sk-container-id-1 div.sk-toggleable__content {max-height: 0;max-width: 0;overflow: hidden;text-align: left;background-color: #f0f8ff;}#sk-container-id-1 div.sk-toggleable__content pre {margin: 0.2em;color: black;border-radius: 0.25em;background-color: #f0f8ff;}#sk-container-id-1 input.sk-toggleable__control:checked~div.sk-toggleable__content {max-height: 200px;max-width: 100%;overflow: auto;}#sk-container-id-1 input.sk-toggleable__control:checked~label.sk-toggleable__label-arrow:before {content: \"▾\";}#sk-container-id-1 div.sk-estimator input.sk-toggleable__control:checked~label.sk-toggleable__label {background-color: #d4ebff;}#sk-container-id-1 div.sk-label input.sk-toggleable__control:checked~label.sk-toggleable__label {background-color: #d4ebff;}#sk-container-id-1 input.sk-hidden--visually {border: 0;clip: rect(1px 1px 1px 1px);clip: rect(1px, 1px, 1px, 1px);height: 1px;margin: -1px;overflow: hidden;padding: 0;position: absolute;width: 1px;}#sk-container-id-1 div.sk-estimator {font-family: monospace;background-color: #f0f8ff;border: 1px dotted black;border-radius: 0.25em;box-sizing: border-box;margin-bottom: 0.5em;}#sk-container-id-1 div.sk-estimator:hover {background-color: #d4ebff;}#sk-container-id-1 div.sk-parallel-item::after {content: \"\";width: 100%;border-bottom: 1px solid gray;flex-grow: 1;}#sk-container-id-1 div.sk-label:hover label.sk-toggleable__label {background-color: #d4ebff;}#sk-container-id-1 div.sk-serial::before {content: \"\";position: absolute;border-left: 1px solid gray;box-sizing: border-box;top: 0;bottom: 0;left: 50%;z-index: 0;}#sk-container-id-1 div.sk-serial {display: flex;flex-direction: column;align-items: center;background-color: white;padding-right: 0.2em;padding-left: 0.2em;position: relative;}#sk-container-id-1 div.sk-item {position: relative;z-index: 1;}#sk-container-id-1 div.sk-parallel {display: flex;align-items: stretch;justify-content: center;background-color: white;position: relative;}#sk-container-id-1 div.sk-item::before, #sk-container-id-1 div.sk-parallel-item::before {content: \"\";position: absolute;border-left: 1px solid gray;box-sizing: border-box;top: 0;bottom: 0;left: 50%;z-index: -1;}#sk-container-id-1 div.sk-parallel-item {display: flex;flex-direction: column;z-index: 1;position: relative;background-color: white;}#sk-container-id-1 div.sk-parallel-item:first-child::after {align-self: flex-end;width: 50%;}#sk-container-id-1 div.sk-parallel-item:last-child::after {align-self: flex-start;width: 50%;}#sk-container-id-1 div.sk-parallel-item:only-child::after {width: 0;}#sk-container-id-1 div.sk-dashed-wrapped {border: 1px dashed gray;margin: 0 0.4em 0.5em 0.4em;box-sizing: border-box;padding-bottom: 0.4em;background-color: white;}#sk-container-id-1 div.sk-label label {font-family: monospace;font-weight: bold;display: inline-block;line-height: 1.2em;}#sk-container-id-1 div.sk-label-container {text-align: center;}#sk-container-id-1 div.sk-container {/* jupyter's `normalize.less` sets `[hidden] { display: none; }` but bootstrap.min.css set `[hidden] { display: none !important; }` so we also need the `!important` here to be able to override the default hidden behavior on the sphinx rendered scikit-learn.org. See: https://github.com/scikit-learn/scikit-learn/issues/21755 */display: inline-block !important;position: relative;}#sk-container-id-1 div.sk-text-repr-fallback {display: none;}</style><div id=\"sk-container-id-1\" class=\"sk-top-container\"><div class=\"sk-text-repr-fallback\"><pre>RandomizedSearchCV(cv=3,\n",
       "                   estimator=XGBClassifier(base_score=None, booster=None,\n",
       "                                           callbacks=None,\n",
       "                                           colsample_bylevel=None,\n",
       "                                           colsample_bynode=None,\n",
       "                                           colsample_bytree=None, device=&#x27;gpu&#x27;,\n",
       "                                           early_stopping_rounds=None,\n",
       "                                           enable_categorical=False,\n",
       "                                           eval_metric=&#x27;logloss&#x27;,\n",
       "                                           feature_types=None, gamma=None,\n",
       "                                           grow_policy=None,\n",
       "                                           importance_type=None,\n",
       "                                           interaction_constraints=None,\n",
       "                                           learnin...\n",
       "                                           n_estimators=None, n_jobs=None,\n",
       "                                           num_parallel_tree=None,\n",
       "                                           random_state=None, ...),\n",
       "                   n_iter=20, n_jobs=-1,\n",
       "                   param_distributions={&#x27;colsample_bytree&#x27;: [0.6, 0.8, 1.0],\n",
       "                                        &#x27;gamma&#x27;: [0, 0.1, 0.2, 0.3],\n",
       "                                        &#x27;lambda&#x27;: [0, 1, 5],\n",
       "                                        &#x27;learning_rate&#x27;: [0.01, 0.05, 0.1, 0.2],\n",
       "                                        &#x27;max_depth&#x27;: [3, 5, 7, 10],\n",
       "                                        &#x27;min_child_weight&#x27;: [1, 3, 5],\n",
       "                                        &#x27;n_estimators&#x27;: [100, 200, 500],\n",
       "                                        &#x27;subsample&#x27;: [0.6, 0.8, 1.0]},\n",
       "                   scoring=&#x27;f1&#x27;, verbose=1)</pre><b>In a Jupyter environment, please rerun this cell to show the HTML representation or trust the notebook. <br />On GitHub, the HTML representation is unable to render, please try loading this page with nbviewer.org.</b></div><div class=\"sk-container\" hidden><div class=\"sk-item sk-dashed-wrapped\"><div class=\"sk-label-container\"><div class=\"sk-label sk-toggleable\"><input class=\"sk-toggleable__control sk-hidden--visually\" id=\"sk-estimator-id-1\" type=\"checkbox\" ><label for=\"sk-estimator-id-1\" class=\"sk-toggleable__label sk-toggleable__label-arrow\">RandomizedSearchCV</label><div class=\"sk-toggleable__content\"><pre>RandomizedSearchCV(cv=3,\n",
       "                   estimator=XGBClassifier(base_score=None, booster=None,\n",
       "                                           callbacks=None,\n",
       "                                           colsample_bylevel=None,\n",
       "                                           colsample_bynode=None,\n",
       "                                           colsample_bytree=None, device=&#x27;gpu&#x27;,\n",
       "                                           early_stopping_rounds=None,\n",
       "                                           enable_categorical=False,\n",
       "                                           eval_metric=&#x27;logloss&#x27;,\n",
       "                                           feature_types=None, gamma=None,\n",
       "                                           grow_policy=None,\n",
       "                                           importance_type=None,\n",
       "                                           interaction_constraints=None,\n",
       "                                           learnin...\n",
       "                                           n_estimators=None, n_jobs=None,\n",
       "                                           num_parallel_tree=None,\n",
       "                                           random_state=None, ...),\n",
       "                   n_iter=20, n_jobs=-1,\n",
       "                   param_distributions={&#x27;colsample_bytree&#x27;: [0.6, 0.8, 1.0],\n",
       "                                        &#x27;gamma&#x27;: [0, 0.1, 0.2, 0.3],\n",
       "                                        &#x27;lambda&#x27;: [0, 1, 5],\n",
       "                                        &#x27;learning_rate&#x27;: [0.01, 0.05, 0.1, 0.2],\n",
       "                                        &#x27;max_depth&#x27;: [3, 5, 7, 10],\n",
       "                                        &#x27;min_child_weight&#x27;: [1, 3, 5],\n",
       "                                        &#x27;n_estimators&#x27;: [100, 200, 500],\n",
       "                                        &#x27;subsample&#x27;: [0.6, 0.8, 1.0]},\n",
       "                   scoring=&#x27;f1&#x27;, verbose=1)</pre></div></div></div><div class=\"sk-parallel\"><div class=\"sk-parallel-item\"><div class=\"sk-item\"><div class=\"sk-label-container\"><div class=\"sk-label sk-toggleable\"><input class=\"sk-toggleable__control sk-hidden--visually\" id=\"sk-estimator-id-2\" type=\"checkbox\" ><label for=\"sk-estimator-id-2\" class=\"sk-toggleable__label sk-toggleable__label-arrow\">estimator: XGBClassifier</label><div class=\"sk-toggleable__content\"><pre>XGBClassifier(base_score=None, booster=None, callbacks=None,\n",
       "              colsample_bylevel=None, colsample_bynode=None,\n",
       "              colsample_bytree=None, device=&#x27;gpu&#x27;, early_stopping_rounds=None,\n",
       "              enable_categorical=False, eval_metric=&#x27;logloss&#x27;,\n",
       "              feature_types=None, gamma=None, grow_policy=None,\n",
       "              importance_type=None, interaction_constraints=None,\n",
       "              learning_rate=None, max_bin=None, max_cat_threshold=None,\n",
       "              max_cat_to_onehot=None, max_delta_step=None, max_depth=None,\n",
       "              max_leaves=None, min_child_weight=None, missing=nan,\n",
       "              monotone_constraints=None, multi_strategy=None, n_estimators=None,\n",
       "              n_jobs=None, num_parallel_tree=None, random_state=None, ...)</pre></div></div></div><div class=\"sk-serial\"><div class=\"sk-item\"><div class=\"sk-estimator sk-toggleable\"><input class=\"sk-toggleable__control sk-hidden--visually\" id=\"sk-estimator-id-3\" type=\"checkbox\" ><label for=\"sk-estimator-id-3\" class=\"sk-toggleable__label sk-toggleable__label-arrow\">XGBClassifier</label><div class=\"sk-toggleable__content\"><pre>XGBClassifier(base_score=None, booster=None, callbacks=None,\n",
       "              colsample_bylevel=None, colsample_bynode=None,\n",
       "              colsample_bytree=None, device=&#x27;gpu&#x27;, early_stopping_rounds=None,\n",
       "              enable_categorical=False, eval_metric=&#x27;logloss&#x27;,\n",
       "              feature_types=None, gamma=None, grow_policy=None,\n",
       "              importance_type=None, interaction_constraints=None,\n",
       "              learning_rate=None, max_bin=None, max_cat_threshold=None,\n",
       "              max_cat_to_onehot=None, max_delta_step=None, max_depth=None,\n",
       "              max_leaves=None, min_child_weight=None, missing=nan,\n",
       "              monotone_constraints=None, multi_strategy=None, n_estimators=None,\n",
       "              n_jobs=None, num_parallel_tree=None, random_state=None, ...)</pre></div></div></div></div></div></div></div></div></div></div>"
      ],
      "text/plain": [
       "RandomizedSearchCV(cv=3,\n",
       "                   estimator=XGBClassifier(base_score=None, booster=None,\n",
       "                                           callbacks=None,\n",
       "                                           colsample_bylevel=None,\n",
       "                                           colsample_bynode=None,\n",
       "                                           colsample_bytree=None, device='gpu',\n",
       "                                           early_stopping_rounds=None,\n",
       "                                           enable_categorical=False,\n",
       "                                           eval_metric='logloss',\n",
       "                                           feature_types=None, gamma=None,\n",
       "                                           grow_policy=None,\n",
       "                                           importance_type=None,\n",
       "                                           interaction_constraints=None,\n",
       "                                           learnin...\n",
       "                                           n_estimators=None, n_jobs=None,\n",
       "                                           num_parallel_tree=None,\n",
       "                                           random_state=None, ...),\n",
       "                   n_iter=20, n_jobs=-1,\n",
       "                   param_distributions={'colsample_bytree': [0.6, 0.8, 1.0],\n",
       "                                        'gamma': [0, 0.1, 0.2, 0.3],\n",
       "                                        'lambda': [0, 1, 5],\n",
       "                                        'learning_rate': [0.01, 0.05, 0.1, 0.2],\n",
       "                                        'max_depth': [3, 5, 7, 10],\n",
       "                                        'min_child_weight': [1, 3, 5],\n",
       "                                        'n_estimators': [100, 200, 500],\n",
       "                                        'subsample': [0.6, 0.8, 1.0]},\n",
       "                   scoring='f1', verbose=1)"
      ]
     },
     "execution_count": 32,
     "metadata": {},
     "output_type": "execute_result"
    }
   ],
   "source": [
    "r_model.fit(X_train_resampled, y_train_resampled)"
   ]
  },
  {
   "cell_type": "code",
   "execution_count": 33,
   "id": "26a7c451",
   "metadata": {
    "execution": {
     "iopub.execute_input": "2025-08-19T15:54:05.395923Z",
     "iopub.status.busy": "2025-08-19T15:54:05.395039Z",
     "iopub.status.idle": "2025-08-19T15:54:05.399626Z",
     "shell.execute_reply": "2025-08-19T15:54:05.398694Z"
    },
    "papermill": {
     "duration": 0.022011,
     "end_time": "2025-08-19T15:54:05.401178",
     "exception": false,
     "start_time": "2025-08-19T15:54:05.379167",
     "status": "completed"
    },
    "tags": []
   },
   "outputs": [],
   "source": [
    "best_model = r_model.best_estimator_"
   ]
  },
  {
   "cell_type": "code",
   "execution_count": 34,
   "id": "3f4bcef5",
   "metadata": {
    "execution": {
     "iopub.execute_input": "2025-08-19T15:54:05.431170Z",
     "iopub.status.busy": "2025-08-19T15:54:05.430890Z",
     "iopub.status.idle": "2025-08-19T15:54:05.538884Z",
     "shell.execute_reply": "2025-08-19T15:54:05.538205Z"
    },
    "papermill": {
     "duration": 0.125067,
     "end_time": "2025-08-19T15:54:05.540769",
     "exception": false,
     "start_time": "2025-08-19T15:54:05.415702",
     "status": "completed"
    },
    "tags": []
   },
   "outputs": [],
   "source": [
    "r_pred = best_model.predict(x_test)"
   ]
  },
  {
   "cell_type": "code",
   "execution_count": 35,
   "id": "411e4c33",
   "metadata": {
    "execution": {
     "iopub.execute_input": "2025-08-19T15:54:05.574671Z",
     "iopub.status.busy": "2025-08-19T15:54:05.574103Z",
     "iopub.status.idle": "2025-08-19T15:54:05.788190Z",
     "shell.execute_reply": "2025-08-19T15:54:05.787220Z"
    },
    "papermill": {
     "duration": 0.231588,
     "end_time": "2025-08-19T15:54:05.789828",
     "exception": false,
     "start_time": "2025-08-19T15:54:05.558240",
     "status": "completed"
    },
    "tags": []
   },
   "outputs": [
    {
     "data": {
      "text/plain": [
       "<sklearn.metrics._plot.confusion_matrix.ConfusionMatrixDisplay at 0x7dcf5c218250>"
      ]
     },
     "execution_count": 35,
     "metadata": {},
     "output_type": "execute_result"
    },
    {
     "data": {
      "image/png": "[encoded data removed]",
      "text/plain": [
       "<Figure size 640x480 with 2 Axes>"
      ]
     },
     "metadata": {},
     "output_type": "display_data"
    }
   ],
   "source": [
    "\n",
    "from sklearn.metrics import ConfusionMatrixDisplay\n",
    "\n",
    "# Convert y_test to integers if it's string\n",
    "y_test_int = y_test.astype(int)\n",
    "r_pred_int = r_pred.astype(int)\n",
    "\n",
    "# Plot confusion matrix\n",
    "ConfusionMatrixDisplay.from_predictions(y_test_int, r_pred_int)\n"
   ]
  },
  {
   "cell_type": "code",
   "execution_count": 36,
   "id": "bac9c8b5",
   "metadata": {
    "execution": {
     "iopub.execute_input": "2025-08-19T15:54:05.820964Z",
     "iopub.status.busy": "2025-08-19T15:54:05.820660Z",
     "iopub.status.idle": "2025-08-19T15:54:05.845317Z",
     "shell.execute_reply": "2025-08-19T15:54:05.843677Z"
    },
    "papermill": {
     "duration": 0.042453,
     "end_time": "2025-08-19T15:54:05.847255",
     "exception": false,
     "start_time": "2025-08-19T15:54:05.804802",
     "status": "completed"
    },
    "tags": []
   },
   "outputs": [
    {
     "name": "stdout",
     "output_type": "stream",
     "text": [
      "              precision    recall  f1-score   support\n",
      "\n",
      "           0       0.99      0.96      0.98     11745\n",
      "           1       0.28      0.70      0.40       255\n",
      "\n",
      "    accuracy                           0.96     12000\n",
      "   macro avg       0.64      0.83      0.69     12000\n",
      "weighted avg       0.98      0.96      0.96     12000\n",
      "\n"
     ]
    }
   ],
   "source": [
    "print(classification_report(y_test_int, r_pred_int))"
   ]
  },
  {
   "cell_type": "code",
   "execution_count": 37,
   "id": "06335b8d",
   "metadata": {
    "execution": {
     "iopub.execute_input": "2025-08-19T15:54:05.879706Z",
     "iopub.status.busy": "2025-08-19T15:54:05.879344Z",
     "iopub.status.idle": "2025-08-19T15:54:05.887139Z",
     "shell.execute_reply": "2025-08-19T15:54:05.886126Z"
    },
    "papermill": {
     "duration": 0.025714,
     "end_time": "2025-08-19T15:54:05.888727",
     "exception": false,
     "start_time": "2025-08-19T15:54:05.863013",
     "status": "completed"
    },
    "tags": []
   },
   "outputs": [
    {
     "name": "stdout",
     "output_type": "stream",
     "text": [
      "Accuracy: 0.9553333333333334\n"
     ]
    }
   ],
   "source": [
    "from sklearn.metrics import accuracy_score\n",
    "\n",
    "\n",
    "\n",
    "accuracy = accuracy_score(y_test_int, r_pred_int)\n",
    "print(\"Accuracy:\", accuracy)\n"
   ]
  },
  {
   "cell_type": "code",
   "execution_count": 38,
   "id": "1063ef2a",
   "metadata": {
    "execution": {
     "iopub.execute_input": "2025-08-19T15:54:05.920793Z",
     "iopub.status.busy": "2025-08-19T15:54:05.920050Z",
     "iopub.status.idle": "2025-08-19T15:54:09.158189Z",
     "shell.execute_reply": "2025-08-19T15:54:09.157457Z"
    },
    "papermill": {
     "duration": 3.256799,
     "end_time": "2025-08-19T15:54:09.160132",
     "exception": false,
     "start_time": "2025-08-19T15:54:05.903333",
     "status": "completed"
    },
    "tags": []
   },
   "outputs": [
    {
     "data": {
      "text/html": [
       "<div>\n",
       "<style scoped>\n",
       "    .dataframe tbody tr th:only-of-type {\n",
       "        vertical-align: middle;\n",
       "    }\n",
       "\n",
       "    .dataframe tbody tr th {\n",
       "        vertical-align: top;\n",
       "    }\n",
       "\n",
       "    .dataframe thead th {\n",
       "        text-align: right;\n",
       "    }\n",
       "</style>\n",
       "<table border=\"1\" class=\"dataframe\">\n",
       "  <thead>\n",
       "    <tr style=\"text-align: right;\">\n",
       "      <th></th>\n",
       "      <th>ID</th>\n",
       "      <th>target</th>\n",
       "    </tr>\n",
       "  </thead>\n",
       "  <tbody>\n",
       "    <tr>\n",
       "      <th>0</th>\n",
       "      <td>0</td>\n",
       "      <td>0</td>\n",
       "    </tr>\n",
       "    <tr>\n",
       "      <th>1</th>\n",
       "      <td>1</td>\n",
       "      <td>0</td>\n",
       "    </tr>\n",
       "    <tr>\n",
       "      <th>2</th>\n",
       "      <td>2</td>\n",
       "      <td>0</td>\n",
       "    </tr>\n",
       "    <tr>\n",
       "      <th>3</th>\n",
       "      <td>3</td>\n",
       "      <td>0</td>\n",
       "    </tr>\n",
       "    <tr>\n",
       "      <th>4</th>\n",
       "      <td>4</td>\n",
       "      <td>0</td>\n",
       "    </tr>\n",
       "  </tbody>\n",
       "</table>\n",
       "</div>"
      ],
      "text/plain": [
       "   ID  target\n",
       "0   0       0\n",
       "1   1       0\n",
       "2   2       0\n",
       "3   3       0\n",
       "4   4       0"
      ]
     },
     "execution_count": 38,
     "metadata": {},
     "output_type": "execute_result"
    }
   ],
   "source": [
    "submission = pd.DataFrame({\n",
    "    'ID': test['ID'].values,\n",
    "}) \n",
    "preds = r_model.predict(test.drop(['Date', 'ID'], axis=1))\n",
    "submission['target'] = preds\n",
    "submission.head()"
   ]
  },
  {
   "cell_type": "code",
   "execution_count": 39,
   "id": "0e1b21d4",
   "metadata": {
    "execution": {
     "iopub.execute_input": "2025-08-19T15:54:09.192937Z",
     "iopub.status.busy": "2025-08-19T15:54:09.192631Z",
     "iopub.status.idle": "2025-08-19T15:54:09.524645Z",
     "shell.execute_reply": "2025-08-19T15:54:09.523406Z"
    },
    "papermill": {
     "duration": 0.350176,
     "end_time": "2025-08-19T15:54:09.526856",
     "exception": false,
     "start_time": "2025-08-19T15:54:09.176680",
     "status": "completed"
    },
    "tags": []
   },
   "outputs": [],
   "source": [
    "submission.to_csv('submission.csv', index=False)"
   ]
  },
  {
   "cell_type": "code",
   "execution_count": null,
   "id": "15b92ca4",
   "metadata": {
    "papermill": {
     "duration": 0.024852,
     "end_time": "2025-08-19T15:54:09.572373",
     "exception": false,
     "start_time": "2025-08-19T15:54:09.547521",
     "status": "completed"
    },
    "tags": []
   },
   "outputs": [],
   "source": []
  }
 ],
 "metadata": {
  "kaggle": {
   "accelerator": "none",
   "dataSources": [
    {
     "databundleVersionId": 13432625,
     "sourceId": 112759,
     "sourceType": "competition"
    }
   ],
   "dockerImageVersionId": 31089,
   "isGpuEnabled": false,
   "isInternetEnabled": true,
   "language": "python",
   "sourceType": "notebook"
  },
  "kernelspec": {
   "display_name": "Python 3",
   "language": "python",
   "name": "python3"
  },
  "language_info": {
   "codemirror_mode": {
    "name": "ipython",
    "version": 3
   },
   "file_extension": ".py",
   "mimetype": "text/x-python",
   "name": "python",
   "nbconvert_exporter": "python",
   "pygments_lexer": "ipython3",
   "version": "3.11.13"
  },
  "papermill": {
   "default_parameters": {},
   "duration": 69.678824,
   "end_time": "2025-08-19T15:54:12.212028",
   "environment_variables": {},
   "exception": null,
   "input_path": "__notebook__.ipynb",
   "output_path": "__notebook__.ipynb",
   "parameters": {},
   "start_time": "2025-08-19T15:53:02.533204",
   "version": "2.6.0"
  }
 },
 "nbformat": 4,
 "nbformat_minor": 5
}
